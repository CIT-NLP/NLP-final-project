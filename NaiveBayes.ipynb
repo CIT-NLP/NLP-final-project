{
  "nbformat": 4,
  "nbformat_minor": 0,
  "metadata": {
    "colab": {
      "name": "NaiveBayes.ipynb",
      "provenance": [],
      "include_colab_link": true
    },
    "kernelspec": {
      "name": "python3",
      "display_name": "Python 3"
    },
    "language_info": {
      "name": "python"
    }
  },
  "cells": [
    {
      "cell_type": "markdown",
      "metadata": {
        "id": "view-in-github",
        "colab_type": "text"
      },
      "source": [
        "<a href=\"https://colab.research.google.com/github/CIT-NLP/NLP-final-project/blob/main/NaiveBayes.ipynb\" target=\"_parent\"><img src=\"https://colab.research.google.com/assets/colab-badge.svg\" alt=\"Open In Colab\"/></a>"
      ]
    },
    {
      "cell_type": "code",
      "execution_count": 1,
      "metadata": {
        "colab": {
          "base_uri": "https://localhost:8080/"
        },
        "id": "slc7d2d8tIh0",
        "outputId": "83cd3017-0c88-4096-88f9-5d74dddb888e"
      },
      "outputs": [
        {
          "output_type": "stream",
          "name": "stdout",
          "text": [
            "Downloading...\n",
            "From: https://drive.google.com/uc?id=1sruWwskaVr76vsy8T99SyesWHIncqKzT\n",
            "To: /content/processed_dataframe.csv\n",
            "100% 223M/223M [00:01<00:00, 167MB/s]\n"
          ]
        }
      ],
      "source": [
        "!gdown https://drive.google.com/uc?id=1sruWwskaVr76vsy8T99SyesWHIncqKzT"
      ]
    },
    {
      "cell_type": "code",
      "source": [
        "import pandas as pd\n",
        "\n",
        "df = pd.read_csv(\"./processed_dataframe.csv\")\n",
        "\n",
        "df"
      ],
      "metadata": {
        "colab": {
          "base_uri": "https://localhost:8080/",
          "height": 693
        },
        "id": "Xijbm6nCtb_Y",
        "outputId": "36d96f1d-ffdd-41d2-fc24-679b407f79e5"
      },
      "execution_count": 2,
      "outputs": [
        {
          "output_type": "execute_result",
          "data": {
            "text/plain": [
              "       wikipedia id                                         movie name  \\\n",
              "0            975900                                     Ghosts of Mars   \n",
              "1           6631279                                        Little city   \n",
              "2          11250635                            The Mechanical Monsters   \n",
              "3             77856                                       Mary Poppins   \n",
              "4            156558                                           Baby Boy   \n",
              "...             ...                                                ...   \n",
              "16604      19286279                                        Kalai Arasi   \n",
              "16605        664006                                      Guilty as Sin   \n",
              "16606      15394941                                        Gopi Kishan   \n",
              "16607      23851782                                    The Ghost Train   \n",
              "16608        913762  The Super Dimension Fortress Macross II: Lover...   \n",
              "\n",
              "                                                  genres  \\\n",
              "0      ['action', 'adventure', 'thriller', 'horror', ...   \n",
              "1                         ['drama', 'comedy', 'romance']   \n",
              "2      ['action', 'adventure', 'family', 'short film'...   \n",
              "3               ['drama', 'comedy', 'family', 'fantasy']   \n",
              "4                                     ['drama', 'crime']   \n",
              "...                                                  ...   \n",
              "16604  ['drama', 'action', 'romance', 'science fiction']   \n",
              "16605                              ['crime', 'thriller']   \n",
              "16606             ['drama', 'comedy', 'action', 'crime']   \n",
              "16607                    ['comedy', 'crime', 'thriller']   \n",
              "16608  ['drama', 'adventure', 'short film', 'science ...   \n",
              "\n",
              "                                                 summary  \\\n",
              "0      Set in the second half of the 22nd century, th...   \n",
              "1      Adam, a San Francisco-based artist who works a...   \n",
              "2       The story starts as one of the robots flies i...   \n",
              "3      The film opens with Mary Poppins  perched in a...   \n",
              "4      A young 20-year-old named Jody  lives with his...   \n",
              "...                                                  ...   \n",
              "16604  Kalai Arasi' is a well-blended story of romanc...   \n",
              "16605  Jennifer Haines  is an up-and-coming Chicago a...   \n",
              "16606  Kishan  killed a man in his childhood when the...   \n",
              "16607  {{plot}} The film opens with a Great Western e...   \n",
              "16608  The story takes place in the year 2092,The Sup...   \n",
              "\n",
              "                                                unigrams  \\\n",
              "0      ['set', 'second', 'half', '22nd', 'century', '...   \n",
              "1      ['adam', 'san', 'francisco', 'based', 'artist'...   \n",
              "2      ['story', 'starts', 'robots', 'flies', 'scient...   \n",
              "3      ['film', 'opens', 'mary', 'poppins', 'perched'...   \n",
              "4      ['young', '20', 'year', 'old', 'named', 'jody'...   \n",
              "...                                                  ...   \n",
              "16604  ['kalai', 'arasi', 'blended', 'story', 'romanc...   \n",
              "16605  ['jennifer', 'haines', 'coming', 'chicago', 'a...   \n",
              "16606  ['kishan', 'killed', 'man', 'childhood', 'man'...   \n",
              "16607  ['plot', 'film', 'opens', 'great', 'western', ...   \n",
              "16608  ['story', 'takes', 'place', 'year', '2092,the'...   \n",
              "\n",
              "                                              lemmatized  \\\n",
              "0      ['set', 'second', 'half', '22nd', 'century', '...   \n",
              "1      ['adam', 'san', 'francisco', 'base', 'artist',...   \n",
              "2      ['story', 'start', 'robot', 'fly', 'scientist'...   \n",
              "3      ['film', 'open', 'mary', 'poppins', 'perch', '...   \n",
              "4      ['young', '20', 'year', 'old', 'name', 'jody',...   \n",
              "...                                                  ...   \n",
              "16604  ['kalai', 'arasi', 'blend', 'story', 'romance'...   \n",
              "16605  ['jennifer', 'haines', 'come', 'chicago', 'att...   \n",
              "16606  ['kishan', 'kill', 'man', 'childhood', 'man', ...   \n",
              "16607  ['plot', 'film', 'open', 'great', 'western', '...   \n",
              "16608  ['story', 'take', 'place', 'year', '2092,the',...   \n",
              "\n",
              "                                               sentences  \\\n",
              "0      ['Set in the second half of the 22nd century, ...   \n",
              "1      ['Adam, a San Francisco-based artist who works...   \n",
              "2      [\" The story starts as one of the robots flies...   \n",
              "3      ['The film opens with Mary Poppins  perched in...   \n",
              "4      ['A young 20-year-old named Jody  lives with h...   \n",
              "...                                                  ...   \n",
              "16604  [\"Kalai Arasi' is a well-blended story of roma...   \n",
              "16605  ['Jennifer Haines  is an up-and-coming Chicago...   \n",
              "16606  ['Kishan  killed a man in his childhood when t...   \n",
              "16607  ['{{plot}} The film opens with a Great Western...   \n",
              "16608  ['The story takes place in the year 2092,The S...   \n",
              "\n",
              "                                                lem_sent  \n",
              "0      [['set', 'second', 'half', '22nd', 'century', ...  \n",
              "1      [['adam', 'san', 'francisco', 'base', 'artist'...  \n",
              "2      [['story', 'start', 'robot', 'fly', 'scientist...  \n",
              "3      [['film', 'open', 'mary', 'poppins', 'perch', ...  \n",
              "4      [['young', '20', 'year', 'old', 'name', 'jody'...  \n",
              "...                                                  ...  \n",
              "16604  [['kalai', 'arasi', 'blend', 'story', 'romance...  \n",
              "16605  [['jennifer', 'haines', 'come', 'chicago', 'at...  \n",
              "16606  [['kishan', 'kill', 'man', 'childhood', 'man',...  \n",
              "16607  [['plot', 'film', 'open', 'great', 'western', ...  \n",
              "16608  [['story', 'take', 'place', 'year', '2092,the'...  \n",
              "\n",
              "[16609 rows x 8 columns]"
            ],
            "text/html": [
              "\n",
              "  <div id=\"df-81cab6fa-984a-4d65-b2e8-270b5c6da5bc\">\n",
              "    <div class=\"colab-df-container\">\n",
              "      <div>\n",
              "<style scoped>\n",
              "    .dataframe tbody tr th:only-of-type {\n",
              "        vertical-align: middle;\n",
              "    }\n",
              "\n",
              "    .dataframe tbody tr th {\n",
              "        vertical-align: top;\n",
              "    }\n",
              "\n",
              "    .dataframe thead th {\n",
              "        text-align: right;\n",
              "    }\n",
              "</style>\n",
              "<table border=\"1\" class=\"dataframe\">\n",
              "  <thead>\n",
              "    <tr style=\"text-align: right;\">\n",
              "      <th></th>\n",
              "      <th>wikipedia id</th>\n",
              "      <th>movie name</th>\n",
              "      <th>genres</th>\n",
              "      <th>summary</th>\n",
              "      <th>unigrams</th>\n",
              "      <th>lemmatized</th>\n",
              "      <th>sentences</th>\n",
              "      <th>lem_sent</th>\n",
              "    </tr>\n",
              "  </thead>\n",
              "  <tbody>\n",
              "    <tr>\n",
              "      <th>0</th>\n",
              "      <td>975900</td>\n",
              "      <td>Ghosts of Mars</td>\n",
              "      <td>['action', 'adventure', 'thriller', 'horror', ...</td>\n",
              "      <td>Set in the second half of the 22nd century, th...</td>\n",
              "      <td>['set', 'second', 'half', '22nd', 'century', '...</td>\n",
              "      <td>['set', 'second', 'half', '22nd', 'century', '...</td>\n",
              "      <td>['Set in the second half of the 22nd century, ...</td>\n",
              "      <td>[['set', 'second', 'half', '22nd', 'century', ...</td>\n",
              "    </tr>\n",
              "    <tr>\n",
              "      <th>1</th>\n",
              "      <td>6631279</td>\n",
              "      <td>Little city</td>\n",
              "      <td>['drama', 'comedy', 'romance']</td>\n",
              "      <td>Adam, a San Francisco-based artist who works a...</td>\n",
              "      <td>['adam', 'san', 'francisco', 'based', 'artist'...</td>\n",
              "      <td>['adam', 'san', 'francisco', 'base', 'artist',...</td>\n",
              "      <td>['Adam, a San Francisco-based artist who works...</td>\n",
              "      <td>[['adam', 'san', 'francisco', 'base', 'artist'...</td>\n",
              "    </tr>\n",
              "    <tr>\n",
              "      <th>2</th>\n",
              "      <td>11250635</td>\n",
              "      <td>The Mechanical Monsters</td>\n",
              "      <td>['action', 'adventure', 'family', 'short film'...</td>\n",
              "      <td>The story starts as one of the robots flies i...</td>\n",
              "      <td>['story', 'starts', 'robots', 'flies', 'scient...</td>\n",
              "      <td>['story', 'start', 'robot', 'fly', 'scientist'...</td>\n",
              "      <td>[\" The story starts as one of the robots flies...</td>\n",
              "      <td>[['story', 'start', 'robot', 'fly', 'scientist...</td>\n",
              "    </tr>\n",
              "    <tr>\n",
              "      <th>3</th>\n",
              "      <td>77856</td>\n",
              "      <td>Mary Poppins</td>\n",
              "      <td>['drama', 'comedy', 'family', 'fantasy']</td>\n",
              "      <td>The film opens with Mary Poppins  perched in a...</td>\n",
              "      <td>['film', 'opens', 'mary', 'poppins', 'perched'...</td>\n",
              "      <td>['film', 'open', 'mary', 'poppins', 'perch', '...</td>\n",
              "      <td>['The film opens with Mary Poppins  perched in...</td>\n",
              "      <td>[['film', 'open', 'mary', 'poppins', 'perch', ...</td>\n",
              "    </tr>\n",
              "    <tr>\n",
              "      <th>4</th>\n",
              "      <td>156558</td>\n",
              "      <td>Baby Boy</td>\n",
              "      <td>['drama', 'crime']</td>\n",
              "      <td>A young 20-year-old named Jody  lives with his...</td>\n",
              "      <td>['young', '20', 'year', 'old', 'named', 'jody'...</td>\n",
              "      <td>['young', '20', 'year', 'old', 'name', 'jody',...</td>\n",
              "      <td>['A young 20-year-old named Jody  lives with h...</td>\n",
              "      <td>[['young', '20', 'year', 'old', 'name', 'jody'...</td>\n",
              "    </tr>\n",
              "    <tr>\n",
              "      <th>...</th>\n",
              "      <td>...</td>\n",
              "      <td>...</td>\n",
              "      <td>...</td>\n",
              "      <td>...</td>\n",
              "      <td>...</td>\n",
              "      <td>...</td>\n",
              "      <td>...</td>\n",
              "      <td>...</td>\n",
              "    </tr>\n",
              "    <tr>\n",
              "      <th>16604</th>\n",
              "      <td>19286279</td>\n",
              "      <td>Kalai Arasi</td>\n",
              "      <td>['drama', 'action', 'romance', 'science fiction']</td>\n",
              "      <td>Kalai Arasi' is a well-blended story of romanc...</td>\n",
              "      <td>['kalai', 'arasi', 'blended', 'story', 'romanc...</td>\n",
              "      <td>['kalai', 'arasi', 'blend', 'story', 'romance'...</td>\n",
              "      <td>[\"Kalai Arasi' is a well-blended story of roma...</td>\n",
              "      <td>[['kalai', 'arasi', 'blend', 'story', 'romance...</td>\n",
              "    </tr>\n",
              "    <tr>\n",
              "      <th>16605</th>\n",
              "      <td>664006</td>\n",
              "      <td>Guilty as Sin</td>\n",
              "      <td>['crime', 'thriller']</td>\n",
              "      <td>Jennifer Haines  is an up-and-coming Chicago a...</td>\n",
              "      <td>['jennifer', 'haines', 'coming', 'chicago', 'a...</td>\n",
              "      <td>['jennifer', 'haines', 'come', 'chicago', 'att...</td>\n",
              "      <td>['Jennifer Haines  is an up-and-coming Chicago...</td>\n",
              "      <td>[['jennifer', 'haines', 'come', 'chicago', 'at...</td>\n",
              "    </tr>\n",
              "    <tr>\n",
              "      <th>16606</th>\n",
              "      <td>15394941</td>\n",
              "      <td>Gopi Kishan</td>\n",
              "      <td>['drama', 'comedy', 'action', 'crime']</td>\n",
              "      <td>Kishan  killed a man in his childhood when the...</td>\n",
              "      <td>['kishan', 'killed', 'man', 'childhood', 'man'...</td>\n",
              "      <td>['kishan', 'kill', 'man', 'childhood', 'man', ...</td>\n",
              "      <td>['Kishan  killed a man in his childhood when t...</td>\n",
              "      <td>[['kishan', 'kill', 'man', 'childhood', 'man',...</td>\n",
              "    </tr>\n",
              "    <tr>\n",
              "      <th>16607</th>\n",
              "      <td>23851782</td>\n",
              "      <td>The Ghost Train</td>\n",
              "      <td>['comedy', 'crime', 'thriller']</td>\n",
              "      <td>{{plot}} The film opens with a Great Western e...</td>\n",
              "      <td>['plot', 'film', 'opens', 'great', 'western', ...</td>\n",
              "      <td>['plot', 'film', 'open', 'great', 'western', '...</td>\n",
              "      <td>['{{plot}} The film opens with a Great Western...</td>\n",
              "      <td>[['plot', 'film', 'open', 'great', 'western', ...</td>\n",
              "    </tr>\n",
              "    <tr>\n",
              "      <th>16608</th>\n",
              "      <td>913762</td>\n",
              "      <td>The Super Dimension Fortress Macross II: Lover...</td>\n",
              "      <td>['drama', 'adventure', 'short film', 'science ...</td>\n",
              "      <td>The story takes place in the year 2092,The Sup...</td>\n",
              "      <td>['story', 'takes', 'place', 'year', '2092,the'...</td>\n",
              "      <td>['story', 'take', 'place', 'year', '2092,the',...</td>\n",
              "      <td>['The story takes place in the year 2092,The S...</td>\n",
              "      <td>[['story', 'take', 'place', 'year', '2092,the'...</td>\n",
              "    </tr>\n",
              "  </tbody>\n",
              "</table>\n",
              "<p>16609 rows × 8 columns</p>\n",
              "</div>\n",
              "      <button class=\"colab-df-convert\" onclick=\"convertToInteractive('df-81cab6fa-984a-4d65-b2e8-270b5c6da5bc')\"\n",
              "              title=\"Convert this dataframe to an interactive table.\"\n",
              "              style=\"display:none;\">\n",
              "        \n",
              "  <svg xmlns=\"http://www.w3.org/2000/svg\" height=\"24px\"viewBox=\"0 0 24 24\"\n",
              "       width=\"24px\">\n",
              "    <path d=\"M0 0h24v24H0V0z\" fill=\"none\"/>\n",
              "    <path d=\"M18.56 5.44l.94 2.06.94-2.06 2.06-.94-2.06-.94-.94-2.06-.94 2.06-2.06.94zm-11 1L8.5 8.5l.94-2.06 2.06-.94-2.06-.94L8.5 2.5l-.94 2.06-2.06.94zm10 10l.94 2.06.94-2.06 2.06-.94-2.06-.94-.94-2.06-.94 2.06-2.06.94z\"/><path d=\"M17.41 7.96l-1.37-1.37c-.4-.4-.92-.59-1.43-.59-.52 0-1.04.2-1.43.59L10.3 9.45l-7.72 7.72c-.78.78-.78 2.05 0 2.83L4 21.41c.39.39.9.59 1.41.59.51 0 1.02-.2 1.41-.59l7.78-7.78 2.81-2.81c.8-.78.8-2.07 0-2.86zM5.41 20L4 18.59l7.72-7.72 1.47 1.35L5.41 20z\"/>\n",
              "  </svg>\n",
              "      </button>\n",
              "      \n",
              "  <style>\n",
              "    .colab-df-container {\n",
              "      display:flex;\n",
              "      flex-wrap:wrap;\n",
              "      gap: 12px;\n",
              "    }\n",
              "\n",
              "    .colab-df-convert {\n",
              "      background-color: #E8F0FE;\n",
              "      border: none;\n",
              "      border-radius: 50%;\n",
              "      cursor: pointer;\n",
              "      display: none;\n",
              "      fill: #1967D2;\n",
              "      height: 32px;\n",
              "      padding: 0 0 0 0;\n",
              "      width: 32px;\n",
              "    }\n",
              "\n",
              "    .colab-df-convert:hover {\n",
              "      background-color: #E2EBFA;\n",
              "      box-shadow: 0px 1px 2px rgba(60, 64, 67, 0.3), 0px 1px 3px 1px rgba(60, 64, 67, 0.15);\n",
              "      fill: #174EA6;\n",
              "    }\n",
              "\n",
              "    [theme=dark] .colab-df-convert {\n",
              "      background-color: #3B4455;\n",
              "      fill: #D2E3FC;\n",
              "    }\n",
              "\n",
              "    [theme=dark] .colab-df-convert:hover {\n",
              "      background-color: #434B5C;\n",
              "      box-shadow: 0px 1px 3px 1px rgba(0, 0, 0, 0.15);\n",
              "      filter: drop-shadow(0px 1px 2px rgba(0, 0, 0, 0.3));\n",
              "      fill: #FFFFFF;\n",
              "    }\n",
              "  </style>\n",
              "\n",
              "      <script>\n",
              "        const buttonEl =\n",
              "          document.querySelector('#df-81cab6fa-984a-4d65-b2e8-270b5c6da5bc button.colab-df-convert');\n",
              "        buttonEl.style.display =\n",
              "          google.colab.kernel.accessAllowed ? 'block' : 'none';\n",
              "\n",
              "        async function convertToInteractive(key) {\n",
              "          const element = document.querySelector('#df-81cab6fa-984a-4d65-b2e8-270b5c6da5bc');\n",
              "          const dataTable =\n",
              "            await google.colab.kernel.invokeFunction('convertToInteractive',\n",
              "                                                     [key], {});\n",
              "          if (!dataTable) return;\n",
              "\n",
              "          const docLinkHtml = 'Like what you see? Visit the ' +\n",
              "            '<a target=\"_blank\" href=https://colab.research.google.com/notebooks/data_table.ipynb>data table notebook</a>'\n",
              "            + ' to learn more about interactive tables.';\n",
              "          element.innerHTML = '';\n",
              "          dataTable['output_type'] = 'display_data';\n",
              "          await google.colab.output.renderOutput(dataTable, element);\n",
              "          const docLink = document.createElement('div');\n",
              "          docLink.innerHTML = docLinkHtml;\n",
              "          element.appendChild(docLink);\n",
              "        }\n",
              "      </script>\n",
              "    </div>\n",
              "  </div>\n",
              "  "
            ]
          },
          "metadata": {},
          "execution_count": 2
        }
      ]
    },
    {
      "cell_type": "code",
      "source": [
        "df_trunc = df[:50]\n",
        "\n",
        "df_trunc"
      ],
      "metadata": {
        "colab": {
          "base_uri": "https://localhost:8080/",
          "height": 1000
        },
        "id": "hW-N7yh1tkQ1",
        "outputId": "9c060f93-10be-4d8e-cacd-ee913de40520"
      },
      "execution_count": null,
      "outputs": [
        {
          "output_type": "execute_result",
          "data": {
            "text/plain": [
              "    wikipedia id                                  movie name  \\\n",
              "0         975900                              Ghosts of Mars   \n",
              "1        6631279                                 Little city   \n",
              "2       11250635                     The Mechanical Monsters   \n",
              "3          77856                                Mary Poppins   \n",
              "4         156558                                    Baby Boy   \n",
              "5       11448183                            Bindiya Chamkegi   \n",
              "6       29528534                               Anokha Rishta   \n",
              "7         261237                      The Gods Must Be Crazy   \n",
              "8       12008535                                Rudo y Cursi   \n",
              "9        4951456                 Kinjite: Forbidden Subjects   \n",
              "10       5708633                     The Great New Wonderful   \n",
              "11      12053509                                    Loverboy   \n",
              "12       2647998                           The Human Tornado   \n",
              "13       5894429                            Closing the Ring   \n",
              "14      27556929                               Deadly Voyage   \n",
              "15       4300418               The Hero: Love Story of a Spy   \n",
              "16      10419077                         Raampur Ka Lakshman   \n",
              "17        164387                      ...And Justice for All   \n",
              "18      24282217                           The Naked Kitchen   \n",
              "19       1630107                         A Zed & Two Noughts   \n",
              "20      11717027             Is There a Doctor in the Mouse?   \n",
              "21       3550323     Things to Do in Denver When You're Dead   \n",
              "22       1072373                             Minsaara Kanavu   \n",
              "23       1765938                                      Convoy   \n",
              "24      18902861                              14 Going on 30   \n",
              "25       1305819                                    C.H.U.D.   \n",
              "26      12438366                           Mehndi Waley Hath   \n",
              "27       1031231                        Black Cat, White Cat   \n",
              "28       6305925                        The Astronaut Farmer   \n",
              "29        196176                                  Straw Dogs   \n",
              "30       2509881                                  Critters 3   \n",
              "31        748616  Spring, Summer, Fall, Winter... and Spring   \n",
              "32      36151270                                   Agneekaal   \n",
              "33        336846                                      Grease   \n",
              "34      27463222                     Vanishing on 7th Street   \n",
              "35      15007384                                Le Grand jeu   \n",
              "36      11692389                              The Snow Queen   \n",
              "37       3829646           What Have I Done To Deserve This?   \n",
              "38      27874961                               The Iron Rose   \n",
              "39       3033993                               Becoming Jane   \n",
              "40      30405742                                 Plug & Pray   \n",
              "41        103021                            Midnight Express   \n",
              "42      33144131                                    Fly Away   \n",
              "43       1940449                                   RoboCop 3   \n",
              "44       5384210                                    Gagamboy   \n",
              "45       6703617                       The Forbidden Kingdom   \n",
              "46      19389755                              Asylum Seekers   \n",
              "47        362719                                    Superman   \n",
              "48       2870618                            Boy called Twist   \n",
              "49      21271533                                     Bleeder   \n",
              "\n",
              "                                               genres  \\\n",
              "0   ['action', 'adventure', 'thriller', 'horror', ...   \n",
              "1                      ['drama', 'comedy', 'romance']   \n",
              "2   ['action', 'adventure', 'family', 'short film'...   \n",
              "3            ['drama', 'comedy', 'family', 'fantasy']   \n",
              "4                                  ['drama', 'crime']   \n",
              "5                                ['comedy', 'family']   \n",
              "6                ['drama', 'romance', 'world cinema']   \n",
              "7   ['comedy', 'action', 'adventure', 'world cinema']   \n",
              "8                       ['drama', 'comedy', 'family']   \n",
              "9                     ['action', 'crime', 'thriller']   \n",
              "10                                ['drama', 'comedy']   \n",
              "11                              ['comedy', 'romance']   \n",
              "12                               ['comedy', 'action']   \n",
              "13                               ['drama', 'romance']   \n",
              "14          ['drama', 'action', 'thriller', 'horror']   \n",
              "15  ['drama', 'action', 'adventure', 'thriller', '...   \n",
              "16                          ['drama', 'world cinema']   \n",
              "17  ['drama', 'comedy', 'crime', 'thriller', 'myst...   \n",
              "18     ['drama', 'comedy', 'romance', 'world cinema']   \n",
              "19                                ['drama', 'comedy']   \n",
              "20                               ['comedy', 'family']   \n",
              "21                    ['comedy', 'crime', 'thriller']   \n",
              "22               ['drama', 'romance', 'world cinema']   \n",
              "23                      ['drama', 'comedy', 'action']   \n",
              "24                   ['comedy', 'romance', 'fantasy']   \n",
              "25             ['drama', 'horror', 'science fiction']   \n",
              "26                               ['drama', 'romance']   \n",
              "27                              ['comedy', 'romance']   \n",
              "28          ['drama', 'adventure', 'science fiction']   \n",
              "29                              ['drama', 'thriller']   \n",
              "30                      ['horror', 'science fiction']   \n",
              "31                          ['drama', 'world cinema']   \n",
              "32                       ['drama', 'action', 'crime']   \n",
              "33                              ['comedy', 'romance']   \n",
              "34                  ['thriller', 'horror', 'mystery']   \n",
              "35                               ['drama', 'romance']   \n",
              "36                 ['adventure', 'family', 'fantasy']   \n",
              "37       ['drama', 'comedy', 'crime', 'world cinema']   \n",
              "38                         ['world cinema', 'horror']   \n",
              "39                               ['drama', 'romance']   \n",
              "40  ['world cinema', 'science fiction', 'documenta...   \n",
              "41        ['drama', 'adventure', 'crime', 'thriller']   \n",
              "42                               ['drama', 'romance']   \n",
              "43  ['action', 'crime', 'thriller', 'science ficti...   \n",
              "44  ['comedy', 'action', 'world cinema', 'science ...   \n",
              "45      ['action', 'adventure', 'romance', 'fantasy']   \n",
              "46        ['comedy', 'thriller', 'horror', 'mystery']   \n",
              "47  ['action', 'adventure', 'family', 'science fic...   \n",
              "48                          ['drama', 'world cinema']   \n",
              "49                              ['drama', 'thriller']   \n",
              "\n",
              "                                              summary  \\\n",
              "0   Set in the second half of the 22nd century, th...   \n",
              "1   Adam, a San Francisco-based artist who works a...   \n",
              "2    The story starts as one of the robots flies i...   \n",
              "3   The film opens with Mary Poppins  perched in a...   \n",
              "4   A young 20-year-old named Jody  lives with his...   \n",
              "5   Shalini 'Shalu' lives a wealthy lifestyle with...   \n",
              "6   Mary, an orphan lives in an orphanage run by n...   \n",
              "7   The film is a collision of three separate stor...   \n",
              "8   In the fictional farming village of Tlachtlán,...   \n",
              "9   A Japanese businessman sees a woman being grop...   \n",
              "10  The Great New Wonderful is a series of vignett...   \n",
              "11  Randy Bodek  is a rebellious college slacker, ...   \n",
              "12  After coming off a successful comedy tour, Dol...   \n",
              "13  The film opens in 1991, with the funeral of a ...   \n",
              "14  Aboard the cargo ship McRuby, docked in New Yo...   \n",
              "15  Arun Sharma  is a spy working for RAW . He set...   \n",
              "16  Kedarnath Bhargav, his wife, Laxmi, and two so...   \n",
              "17  Arthur Kirkland  is a hotheaded but idealistic...   \n",
              "18  Ahn Mo-rae and Han Sang-in have been friends s...   \n",
              "19  Twin zoologists Oswald and Oliver Deuce  are a...   \n",
              "20  {{Plot}} Jerry is mixing a potion. When he dri...   \n",
              "21  Jimmy \"The Saint\" Tosnia  is a dapper ex-gangs...   \n",
              "22  Priya Amal Raj  loses her mother at a very you...   \n",
              "23  {{Plot}} Truck driver Martin \"Rubber Duck\" Pen...   \n",
              "24  14-year-old Danny O'Neil  is madly in love wit...   \n",
              "25  The film opens with a woman walking her dog do...   \n",
              "26  The film begins with a voice over explaining t...   \n",
              "27  Matko Destanov, a small-time Roma smuggler and...   \n",
              "28  Charles Farmer is a former astronaut-in-traini...   \n",
              "29  David Sumner , a timid American mathematician,...   \n",
              "30  Sometime after the events in Critters 2, Charl...   \n",
              "31  The film is divided into five segments , each ...   \n",
              "32  Bharat Nagar is a city in modern secular India...   \n",
              "33   In the summer of 1959, local boy Danny Zuko a...   \n",
              "34  Paul  is a projectionist in a Detroit theater ...   \n",
              "35  Pierre Martel , a young Parisian businessman, ...   \n",
              "36  One night in winter, a young girl named Gerda ...   \n",
              "37  The film is a slice of a housewife's life in 1...   \n",
              "38  A woman and man who met at a wedding reception...   \n",
              "39  Jane Austen  is the younger daughter of Revere...   \n",
              "40  Computer experts around the world strive towar...   \n",
              "41  On October 6, 1970, while on holiday in Istanb...   \n",
              "42  It’s midnight, and Jeanne  is awakened by wail...   \n",
              "43  Omni Consumer Products , on the verge of bankr...   \n",
              "44  Junie , is an ice cream vendor, who goes aroun...   \n",
              "45  In this film, which is based loosely on the an...   \n",
              "46  Six introverted individuals, bored with their ...   \n",
              "47  On the planet Krypton, using evidence provided...   \n",
              "48  Twist's mother dies in childbirth in the middl...   \n",
              "49  The film follows the friends Leo and Lenny, wh...   \n",
              "\n",
              "                                             unigrams  \\\n",
              "0   ['set', 'second', 'half', '22nd', 'century', '...   \n",
              "1   ['adam', 'san', 'francisco', 'based', 'artist'...   \n",
              "2   ['story', 'starts', 'robots', 'flies', 'scient...   \n",
              "3   ['film', 'opens', 'mary', 'poppins', 'perched'...   \n",
              "4   ['young', '20', 'year', 'old', 'named', 'jody'...   \n",
              "5   ['shalini', 'shalu', 'lives', 'wealthy', 'life...   \n",
              "6   ['mary', 'orphan', 'lives', 'orphanage', 'run'...   \n",
              "7   ['film', 'collision', 'separate', 'stories', '...   \n",
              "8   ['fictional', 'farming', 'village', 'tlachtlán...   \n",
              "9   ['japanese', 'businessman', 'sees', 'woman', '...   \n",
              "10  ['great', 'new', 'wonderful', 'series', 'vigne...   \n",
              "11  ['randy', 'bodek', 'rebellious', 'college', 's...   \n",
              "12  ['coming', 'successful', 'comedy', 'tour', 'do...   \n",
              "13  ['film', 'opens', '1991', 'funeral', 'world', ...   \n",
              "14  ['aboard', 'cargo', 'ship', 'mcruby', 'docked'...   \n",
              "15  ['arun', 'sharma', 'spy', 'working', 'raw', 's...   \n",
              "16  ['kedarnath', 'bhargav', 'wife', 'laxmi', 'son...   \n",
              "17  ['arthur', 'kirkland', 'hotheaded', 'idealisti...   \n",
              "18  ['ahn', 'mo', 'rae', 'han', 'sang', 'friends',...   \n",
              "19  ['twin', 'zoologists', 'oswald', 'oliver', 'de...   \n",
              "20  ['plot', 'jerry', 'mixing', 'potion', 'drinks'...   \n",
              "21  ['jimmy', 'saint', 'tosnia', 'dapper', 'ex', '...   \n",
              "22  ['priya', 'amal', 'raj', 'loses', 'mother', 'y...   \n",
              "23  ['plot', 'truck', 'driver', 'martin', 'rubber'...   \n",
              "24  ['14', 'year', 'old', 'danny', \"o'neil\", 'madl...   \n",
              "25  ['film', 'opens', 'woman', 'walking', 'dog', '...   \n",
              "26  ['film', 'begins', 'voice', 'explaining', 'cau...   \n",
              "27  ['matko', 'destanov', 'small', 'time', 'roma',...   \n",
              "28  ['charles', 'farmer', 'astronaut', 'training',...   \n",
              "29  ['david', 'sumner', 'timid', 'american', 'math...   \n",
              "30  ['events', 'critters', '2', 'charlie', 'macfad...   \n",
              "31  ['film', 'divided', 'segments', 'segment', 'de...   \n",
              "32  ['bharat', 'nagar', 'city', 'modern', 'secular...   \n",
              "33  ['summer', '1959', 'local', 'boy', 'danny', 'z...   \n",
              "34  ['paul', 'projectionist', 'detroit', 'theater'...   \n",
              "35  ['pierre', 'martel', 'young', 'parisian', 'bus...   \n",
              "36  ['night', 'winter', 'young', 'girl', 'named', ...   \n",
              "37  ['film', 'slice', 'housewife', 'life', '1980s'...   \n",
              "38  ['woman', 'man', 'met', 'wedding', 'reception'...   \n",
              "39  ['jane', 'austen', 'younger', 'daughter', 'rev...   \n",
              "40  ['computer', 'experts', 'world', 'strive', 'de...   \n",
              "41  ['october', '6', '1970', 'holiday', 'istanbul'...   \n",
              "42  ['midnight', 'jeanne', 'awakened', 'wails', 'p...   \n",
              "43  ['omni', 'consumer', 'products', 'verge', 'ban...   \n",
              "44  ['junie', 'ice', 'cream', 'vendor', 'goes', 's...   \n",
              "45  ['film', 'based', 'loosely', 'ancient', 'chine...   \n",
              "46  ['introverted', 'individuals', 'bored', 'lives...   \n",
              "47  ['planet', 'krypton', 'evidence', 'provided', ...   \n",
              "48  ['twist', 'mother', 'dies', 'childbirth', 'mid...   \n",
              "49  ['film', 'follows', 'friends', 'leo', 'lenny',...   \n",
              "\n",
              "                                           lemmatized  \\\n",
              "0   ['set', 'second', 'half', '22nd', 'century', '...   \n",
              "1   ['adam', 'san', 'francisco', 'base', 'artist',...   \n",
              "2   ['story', 'start', 'robot', 'fly', 'scientist'...   \n",
              "3   ['film', 'open', 'mary', 'poppins', 'perch', '...   \n",
              "4   ['young', '20', 'year', 'old', 'name', 'jody',...   \n",
              "5   ['shalini', 'shalu', 'live', 'wealthy', 'lifes...   \n",
              "6   ['mary', 'orphan', 'live', 'orphanage', 'run',...   \n",
              "7   ['film', 'collision', 'separate', 'story', 'jo...   \n",
              "8   ['fictional', 'farming', 'village', 'tlachtlán...   \n",
              "9   ['japanese', 'businessman', 'see', 'woman', 'g...   \n",
              "10  ['great', 'new', 'wonderful', 'series', 'vigne...   \n",
              "11  ['randy', 'bodek', 'rebellious', 'college', 's...   \n",
              "12  ['come', 'successful', 'comedy', 'tour', 'dole...   \n",
              "13  ['film', 'open', '1991', 'funeral', 'world', '...   \n",
              "14  ['aboard', 'cargo', 'ship', 'mcruby', 'dock', ...   \n",
              "15  ['arun', 'sharma', 'spy', 'work', 'raw', 'set'...   \n",
              "16  ['kedarnath', 'bhargav', 'wife', 'laxmi', 'son...   \n",
              "17  ['arthur', 'kirkland', 'hotheaded', 'idealisti...   \n",
              "18  ['ahn', 'mo', 'rae', 'han', 'sang', 'friend', ...   \n",
              "19  ['twin', 'zoologist', 'oswald', 'oliver', 'deu...   \n",
              "20  ['plot', 'jerry', 'mix', 'potion', 'drink', 'p...   \n",
              "21  ['jimmy', 'saint', 'tosnia', 'dapper', 'ex', '...   \n",
              "22  ['priya', 'amal', 'raj', 'lose', 'mother', 'yo...   \n",
              "23  ['plot', 'truck', 'driver', 'martin', 'rubber'...   \n",
              "24  ['14', 'year', 'old', 'danny', \"o'neil\", 'madl...   \n",
              "25  ['film', 'open', 'woman', 'walk', 'dog', 'dark...   \n",
              "26  ['film', 'begin', 'voice', 'explain', 'cause',...   \n",
              "27  ['matko', 'destanov', 'small', 'time', 'roma',...   \n",
              "28  ['charles', 'farmer', 'astronaut', 'training',...   \n",
              "29  ['david', 'sumner', 'timid', 'american', 'math...   \n",
              "30  ['event', 'critters', '2', 'charlie', 'macfadd...   \n",
              "31  ['film', 'divide', 'segment', 'segment', 'depi...   \n",
              "32  ['bharat', 'nagar', 'city', 'modern', 'secular...   \n",
              "33  ['summer', '1959', 'local', 'boy', 'danny', 'z...   \n",
              "34  ['paul', 'projectionist', 'detroit', 'theater'...   \n",
              "35  ['pierre', 'martel', 'young', 'parisian', 'bus...   \n",
              "36  ['night', 'winter', 'young', 'girl', 'name', '...   \n",
              "37  ['film', 'slice', 'housewife', 'life', '1980s'...   \n",
              "38  ['woman', 'man', 'meet', 'wedding', 'reception...   \n",
              "39  ['jane', 'austen', 'young', 'daughter', 'rever...   \n",
              "40  ['computer', 'expert', 'world', 'strive', 'dev...   \n",
              "41  ['october', '6', '1970', 'holiday', 'istanbul'...   \n",
              "42  ['midnight', 'jeanne', 'awaken', 'wail', 'pain...   \n",
              "43  ['omni', 'consumer', 'products', 'verge', 'ban...   \n",
              "44  ['junie', 'ice', 'cream', 'vendor', 'go', 'sel...   \n",
              "45  ['film', 'base', 'loosely', 'ancient', 'chines...   \n",
              "46  ['introverted', 'individual', 'bore', 'life', ...   \n",
              "47  ['planet', 'krypton', 'evidence', 'provide', '...   \n",
              "48  ['twist', 'mother', 'die', 'childbirth', 'midd...   \n",
              "49  ['film', 'follow', 'friend', 'leo', 'lenny', '...   \n",
              "\n",
              "                                            sentences  \\\n",
              "0   ['Set in the second half of the 22nd century, ...   \n",
              "1   ['Adam, a San Francisco-based artist who works...   \n",
              "2   [\" The story starts as one of the robots flies...   \n",
              "3   ['The film opens with Mary Poppins  perched in...   \n",
              "4   ['A young 20-year-old named Jody  lives with h...   \n",
              "5   [\"Shalini 'Shalu' lives a wealthy lifestyle wi...   \n",
              "6   ['Mary, an orphan lives in an orphanage run by...   \n",
              "7   [\"The film is a collision of three separate st...   \n",
              "8   ['In the fictional farming village of Tlachtlá...   \n",
              "9   ['A Japanese businessman sees a woman being gr...   \n",
              "10  ['The Great New Wonderful is a series of vigne...   \n",
              "11  ['Randy Bodek  is a rebellious college slacker...   \n",
              "12  [\"After coming off a successful comedy tour, D...   \n",
              "13  ['The film opens in 1991, with the funeral of ...   \n",
              "14  ['Aboard the cargo ship McRuby, docked in New ...   \n",
              "15  ['Arun Sharma  is a spy working for RAW .', 'H...   \n",
              "16  ['Kedarnath Bhargav, his wife, Laxmi, and two ...   \n",
              "17  ['Arthur Kirkland  is a hotheaded but idealist...   \n",
              "18  ['Ahn Mo-rae and Han Sang-in have been friends...   \n",
              "19  ['Twin zoologists Oswald and Oliver Deuce  are...   \n",
              "20  ['{{Plot}} Jerry is mixing a potion.', 'When h...   \n",
              "21  ['Jimmy \"The Saint\" Tosnia  is a dapper ex-gan...   \n",
              "22  ['Priya Amal Raj  loses her mother at a very y...   \n",
              "23  ['{{Plot}} Truck driver Martin \"Rubber Duck\" P...   \n",
              "24  [\"14-year-old Danny O'Neil  is madly in love w...   \n",
              "25  ['The film opens with a woman walking her dog ...   \n",
              "26  ['The film begins with a voice over explaining...   \n",
              "27  ['Matko Destanov, a small-time Roma smuggler a...   \n",
              "28  ['Charles Farmer is a former astronaut-in-trai...   \n",
              "29  ['David Sumner , a timid American mathematicia...   \n",
              "30  ['Sometime after the events in Critters 2, Cha...   \n",
              "31  ['The film is divided into five segments , eac...   \n",
              "32  ['Bharat Nagar is a city in modern secular Ind...   \n",
              "33  [' In the summer of 1959, local boy Danny Zuko...   \n",
              "34  ['Paul  is a projectionist in a Detroit theate...   \n",
              "35  ['Pierre Martel , a young Parisian businessman...   \n",
              "36  ['One night in winter, a young girl named Gerd...   \n",
              "37  [\"The film is a slice of a housewife's life in...   \n",
              "38  ['A woman and man who met at a wedding recepti...   \n",
              "39  ['Jane Austen  is the younger daughter of Reve...   \n",
              "40  ['Computer experts around the world strive tow...   \n",
              "41  ['On October 6, 1970, while on holiday in Ista...   \n",
              "42  ['It’s midnight, and Jeanne  is awakened by wa...   \n",
              "43  ['Omni Consumer Products , on the verge of ban...   \n",
              "44  ['Junie , is an ice cream vendor, who goes aro...   \n",
              "45  ['In this film, which is based loosely on the ...   \n",
              "46  ['Six introverted individuals, bored with thei...   \n",
              "47  ['On the planet Krypton, using evidence provid...   \n",
              "48  [\"Twist's mother dies in childbirth in the mid...   \n",
              "49  ['The film follows the friends Leo and Lenny, ...   \n",
              "\n",
              "                                             lem_sent  \n",
              "0   [['set', 'second', 'half', '22nd', 'century', ...  \n",
              "1   [['adam', 'san', 'francisco', 'base', 'artist'...  \n",
              "2   [['story', 'start', 'robot', 'fly', 'scientist...  \n",
              "3   [['film', 'open', 'mary', 'poppins', 'perch', ...  \n",
              "4   [['young', '20', 'year', 'old', 'name', 'jody'...  \n",
              "5   [['shalini', 'shalu', 'live', 'wealthy', 'life...  \n",
              "6   [['mary', 'orphan', 'live', 'orphanage', 'run'...  \n",
              "7   [['film', 'collision', 'separate', 'story', 'j...  \n",
              "8   [['fictional', 'farming', 'village', 'tlachtlá...  \n",
              "9   [['japanese', 'businessman', 'see', 'woman', '...  \n",
              "10  [['great', 'new', 'wonderful', 'series', 'vign...  \n",
              "11  [['randy', 'bodek', 'rebellious', 'college', '...  \n",
              "12  [['come', 'successful', 'comedy', 'tour', 'dol...  \n",
              "13  [['film', 'open', '1991', 'funeral', 'world', ...  \n",
              "14  [['aboard', 'cargo', 'ship', 'mcruby', 'dock',...  \n",
              "15  [['arun', 'sharma', 'spy', 'work', 'raw'], ['s...  \n",
              "16  [['kedarnath', 'bhargav', 'wife', 'laxmi', 'so...  \n",
              "17  [['arthur', 'kirkland', 'hotheaded', 'idealist...  \n",
              "18  [['ahn', 'mo', 'rae', 'han', 'sang', 'friend',...  \n",
              "19  [['twin', 'zoologist', 'oswald', 'oliver', 'de...  \n",
              "20  [['plot', 'jerry', 'mix', 'potion'], ['drink',...  \n",
              "21  [['jimmy', 'saint', 'tosnia', 'dapper', 'ex', ...  \n",
              "22  [['priya', 'amal', 'raj', 'lose', 'mother', 'y...  \n",
              "23  [['plot', 'truck', 'driver', 'martin', 'rubber...  \n",
              "24  [['14', 'year', 'old', 'danny', \"o'neil\", 'mad...  \n",
              "25  [['film', 'open', 'woman', 'walk', 'dog', 'dar...  \n",
              "26  [['film', 'begin', 'voice', 'explain', 'cause'...  \n",
              "27  [['matko', 'destanov', 'small', 'time', 'roma'...  \n",
              "28  [['charles', 'farmer', 'astronaut', 'training'...  \n",
              "29  [['david', 'sumner', 'timid', 'american', 'mat...  \n",
              "30  [['event', 'critters', '2', 'charlie', 'macfad...  \n",
              "31  [['film', 'divide', 'segment', 'segment', 'dep...  \n",
              "32  [['bharat', 'nagar', 'city', 'modern', 'secula...  \n",
              "33  [['summer', '1959', 'local', 'boy', 'danny', '...  \n",
              "34  [['paul', 'projectionist', 'detroit', 'theater...  \n",
              "35  [['pierre', 'martel', 'young', 'parisian', 'bu...  \n",
              "36  [['night', 'winter', 'young', 'girl', 'name', ...  \n",
              "37  [['film', 'slice', 'housewife', 'life', '1980s...  \n",
              "38  [['woman', 'man', 'meet', 'wedding', 'receptio...  \n",
              "39  [['jane', 'austen', 'young', 'daughter', 'reve...  \n",
              "40  [['computer', 'expert', 'world', 'strive', 'de...  \n",
              "41  [['october', '6', '1970', 'holiday', 'istanbul...  \n",
              "42  [['midnight', 'jeanne', 'awaken', 'wail', 'pai...  \n",
              "43  [['omni', 'consumer', 'products', 'verge', 'ba...  \n",
              "44  [['junie', 'ice', 'cream', 'vendor', 'go', 'se...  \n",
              "45  [['film', 'base', 'loosely', 'ancient', 'chine...  \n",
              "46  [['introverted', 'individual', 'bore', 'life',...  \n",
              "47  [['planet', 'krypton', 'evidence', 'provide', ...  \n",
              "48  [['twist', 'mother', 'die', 'childbirth', 'mid...  \n",
              "49  [['film', 'follow', 'friend', 'leo', 'lenny', ...  "
            ],
            "text/html": [
              "\n",
              "  <div id=\"df-c6a771c2-fb59-4c8d-ba7e-2184ce6657ae\">\n",
              "    <div class=\"colab-df-container\">\n",
              "      <div>\n",
              "<style scoped>\n",
              "    .dataframe tbody tr th:only-of-type {\n",
              "        vertical-align: middle;\n",
              "    }\n",
              "\n",
              "    .dataframe tbody tr th {\n",
              "        vertical-align: top;\n",
              "    }\n",
              "\n",
              "    .dataframe thead th {\n",
              "        text-align: right;\n",
              "    }\n",
              "</style>\n",
              "<table border=\"1\" class=\"dataframe\">\n",
              "  <thead>\n",
              "    <tr style=\"text-align: right;\">\n",
              "      <th></th>\n",
              "      <th>wikipedia id</th>\n",
              "      <th>movie name</th>\n",
              "      <th>genres</th>\n",
              "      <th>summary</th>\n",
              "      <th>unigrams</th>\n",
              "      <th>lemmatized</th>\n",
              "      <th>sentences</th>\n",
              "      <th>lem_sent</th>\n",
              "    </tr>\n",
              "  </thead>\n",
              "  <tbody>\n",
              "    <tr>\n",
              "      <th>0</th>\n",
              "      <td>975900</td>\n",
              "      <td>Ghosts of Mars</td>\n",
              "      <td>['action', 'adventure', 'thriller', 'horror', ...</td>\n",
              "      <td>Set in the second half of the 22nd century, th...</td>\n",
              "      <td>['set', 'second', 'half', '22nd', 'century', '...</td>\n",
              "      <td>['set', 'second', 'half', '22nd', 'century', '...</td>\n",
              "      <td>['Set in the second half of the 22nd century, ...</td>\n",
              "      <td>[['set', 'second', 'half', '22nd', 'century', ...</td>\n",
              "    </tr>\n",
              "    <tr>\n",
              "      <th>1</th>\n",
              "      <td>6631279</td>\n",
              "      <td>Little city</td>\n",
              "      <td>['drama', 'comedy', 'romance']</td>\n",
              "      <td>Adam, a San Francisco-based artist who works a...</td>\n",
              "      <td>['adam', 'san', 'francisco', 'based', 'artist'...</td>\n",
              "      <td>['adam', 'san', 'francisco', 'base', 'artist',...</td>\n",
              "      <td>['Adam, a San Francisco-based artist who works...</td>\n",
              "      <td>[['adam', 'san', 'francisco', 'base', 'artist'...</td>\n",
              "    </tr>\n",
              "    <tr>\n",
              "      <th>2</th>\n",
              "      <td>11250635</td>\n",
              "      <td>The Mechanical Monsters</td>\n",
              "      <td>['action', 'adventure', 'family', 'short film'...</td>\n",
              "      <td>The story starts as one of the robots flies i...</td>\n",
              "      <td>['story', 'starts', 'robots', 'flies', 'scient...</td>\n",
              "      <td>['story', 'start', 'robot', 'fly', 'scientist'...</td>\n",
              "      <td>[\" The story starts as one of the robots flies...</td>\n",
              "      <td>[['story', 'start', 'robot', 'fly', 'scientist...</td>\n",
              "    </tr>\n",
              "    <tr>\n",
              "      <th>3</th>\n",
              "      <td>77856</td>\n",
              "      <td>Mary Poppins</td>\n",
              "      <td>['drama', 'comedy', 'family', 'fantasy']</td>\n",
              "      <td>The film opens with Mary Poppins  perched in a...</td>\n",
              "      <td>['film', 'opens', 'mary', 'poppins', 'perched'...</td>\n",
              "      <td>['film', 'open', 'mary', 'poppins', 'perch', '...</td>\n",
              "      <td>['The film opens with Mary Poppins  perched in...</td>\n",
              "      <td>[['film', 'open', 'mary', 'poppins', 'perch', ...</td>\n",
              "    </tr>\n",
              "    <tr>\n",
              "      <th>4</th>\n",
              "      <td>156558</td>\n",
              "      <td>Baby Boy</td>\n",
              "      <td>['drama', 'crime']</td>\n",
              "      <td>A young 20-year-old named Jody  lives with his...</td>\n",
              "      <td>['young', '20', 'year', 'old', 'named', 'jody'...</td>\n",
              "      <td>['young', '20', 'year', 'old', 'name', 'jody',...</td>\n",
              "      <td>['A young 20-year-old named Jody  lives with h...</td>\n",
              "      <td>[['young', '20', 'year', 'old', 'name', 'jody'...</td>\n",
              "    </tr>\n",
              "    <tr>\n",
              "      <th>5</th>\n",
              "      <td>11448183</td>\n",
              "      <td>Bindiya Chamkegi</td>\n",
              "      <td>['comedy', 'family']</td>\n",
              "      <td>Shalini 'Shalu' lives a wealthy lifestyle with...</td>\n",
              "      <td>['shalini', 'shalu', 'lives', 'wealthy', 'life...</td>\n",
              "      <td>['shalini', 'shalu', 'live', 'wealthy', 'lifes...</td>\n",
              "      <td>[\"Shalini 'Shalu' lives a wealthy lifestyle wi...</td>\n",
              "      <td>[['shalini', 'shalu', 'live', 'wealthy', 'life...</td>\n",
              "    </tr>\n",
              "    <tr>\n",
              "      <th>6</th>\n",
              "      <td>29528534</td>\n",
              "      <td>Anokha Rishta</td>\n",
              "      <td>['drama', 'romance', 'world cinema']</td>\n",
              "      <td>Mary, an orphan lives in an orphanage run by n...</td>\n",
              "      <td>['mary', 'orphan', 'lives', 'orphanage', 'run'...</td>\n",
              "      <td>['mary', 'orphan', 'live', 'orphanage', 'run',...</td>\n",
              "      <td>['Mary, an orphan lives in an orphanage run by...</td>\n",
              "      <td>[['mary', 'orphan', 'live', 'orphanage', 'run'...</td>\n",
              "    </tr>\n",
              "    <tr>\n",
              "      <th>7</th>\n",
              "      <td>261237</td>\n",
              "      <td>The Gods Must Be Crazy</td>\n",
              "      <td>['comedy', 'action', 'adventure', 'world cinema']</td>\n",
              "      <td>The film is a collision of three separate stor...</td>\n",
              "      <td>['film', 'collision', 'separate', 'stories', '...</td>\n",
              "      <td>['film', 'collision', 'separate', 'story', 'jo...</td>\n",
              "      <td>[\"The film is a collision of three separate st...</td>\n",
              "      <td>[['film', 'collision', 'separate', 'story', 'j...</td>\n",
              "    </tr>\n",
              "    <tr>\n",
              "      <th>8</th>\n",
              "      <td>12008535</td>\n",
              "      <td>Rudo y Cursi</td>\n",
              "      <td>['drama', 'comedy', 'family']</td>\n",
              "      <td>In the fictional farming village of Tlachtlán,...</td>\n",
              "      <td>['fictional', 'farming', 'village', 'tlachtlán...</td>\n",
              "      <td>['fictional', 'farming', 'village', 'tlachtlán...</td>\n",
              "      <td>['In the fictional farming village of Tlachtlá...</td>\n",
              "      <td>[['fictional', 'farming', 'village', 'tlachtlá...</td>\n",
              "    </tr>\n",
              "    <tr>\n",
              "      <th>9</th>\n",
              "      <td>4951456</td>\n",
              "      <td>Kinjite: Forbidden Subjects</td>\n",
              "      <td>['action', 'crime', 'thriller']</td>\n",
              "      <td>A Japanese businessman sees a woman being grop...</td>\n",
              "      <td>['japanese', 'businessman', 'sees', 'woman', '...</td>\n",
              "      <td>['japanese', 'businessman', 'see', 'woman', 'g...</td>\n",
              "      <td>['A Japanese businessman sees a woman being gr...</td>\n",
              "      <td>[['japanese', 'businessman', 'see', 'woman', '...</td>\n",
              "    </tr>\n",
              "    <tr>\n",
              "      <th>10</th>\n",
              "      <td>5708633</td>\n",
              "      <td>The Great New Wonderful</td>\n",
              "      <td>['drama', 'comedy']</td>\n",
              "      <td>The Great New Wonderful is a series of vignett...</td>\n",
              "      <td>['great', 'new', 'wonderful', 'series', 'vigne...</td>\n",
              "      <td>['great', 'new', 'wonderful', 'series', 'vigne...</td>\n",
              "      <td>['The Great New Wonderful is a series of vigne...</td>\n",
              "      <td>[['great', 'new', 'wonderful', 'series', 'vign...</td>\n",
              "    </tr>\n",
              "    <tr>\n",
              "      <th>11</th>\n",
              "      <td>12053509</td>\n",
              "      <td>Loverboy</td>\n",
              "      <td>['comedy', 'romance']</td>\n",
              "      <td>Randy Bodek  is a rebellious college slacker, ...</td>\n",
              "      <td>['randy', 'bodek', 'rebellious', 'college', 's...</td>\n",
              "      <td>['randy', 'bodek', 'rebellious', 'college', 's...</td>\n",
              "      <td>['Randy Bodek  is a rebellious college slacker...</td>\n",
              "      <td>[['randy', 'bodek', 'rebellious', 'college', '...</td>\n",
              "    </tr>\n",
              "    <tr>\n",
              "      <th>12</th>\n",
              "      <td>2647998</td>\n",
              "      <td>The Human Tornado</td>\n",
              "      <td>['comedy', 'action']</td>\n",
              "      <td>After coming off a successful comedy tour, Dol...</td>\n",
              "      <td>['coming', 'successful', 'comedy', 'tour', 'do...</td>\n",
              "      <td>['come', 'successful', 'comedy', 'tour', 'dole...</td>\n",
              "      <td>[\"After coming off a successful comedy tour, D...</td>\n",
              "      <td>[['come', 'successful', 'comedy', 'tour', 'dol...</td>\n",
              "    </tr>\n",
              "    <tr>\n",
              "      <th>13</th>\n",
              "      <td>5894429</td>\n",
              "      <td>Closing the Ring</td>\n",
              "      <td>['drama', 'romance']</td>\n",
              "      <td>The film opens in 1991, with the funeral of a ...</td>\n",
              "      <td>['film', 'opens', '1991', 'funeral', 'world', ...</td>\n",
              "      <td>['film', 'open', '1991', 'funeral', 'world', '...</td>\n",
              "      <td>['The film opens in 1991, with the funeral of ...</td>\n",
              "      <td>[['film', 'open', '1991', 'funeral', 'world', ...</td>\n",
              "    </tr>\n",
              "    <tr>\n",
              "      <th>14</th>\n",
              "      <td>27556929</td>\n",
              "      <td>Deadly Voyage</td>\n",
              "      <td>['drama', 'action', 'thriller', 'horror']</td>\n",
              "      <td>Aboard the cargo ship McRuby, docked in New Yo...</td>\n",
              "      <td>['aboard', 'cargo', 'ship', 'mcruby', 'docked'...</td>\n",
              "      <td>['aboard', 'cargo', 'ship', 'mcruby', 'dock', ...</td>\n",
              "      <td>['Aboard the cargo ship McRuby, docked in New ...</td>\n",
              "      <td>[['aboard', 'cargo', 'ship', 'mcruby', 'dock',...</td>\n",
              "    </tr>\n",
              "    <tr>\n",
              "      <th>15</th>\n",
              "      <td>4300418</td>\n",
              "      <td>The Hero: Love Story of a Spy</td>\n",
              "      <td>['drama', 'action', 'adventure', 'thriller', '...</td>\n",
              "      <td>Arun Sharma  is a spy working for RAW . He set...</td>\n",
              "      <td>['arun', 'sharma', 'spy', 'working', 'raw', 's...</td>\n",
              "      <td>['arun', 'sharma', 'spy', 'work', 'raw', 'set'...</td>\n",
              "      <td>['Arun Sharma  is a spy working for RAW .', 'H...</td>\n",
              "      <td>[['arun', 'sharma', 'spy', 'work', 'raw'], ['s...</td>\n",
              "    </tr>\n",
              "    <tr>\n",
              "      <th>16</th>\n",
              "      <td>10419077</td>\n",
              "      <td>Raampur Ka Lakshman</td>\n",
              "      <td>['drama', 'world cinema']</td>\n",
              "      <td>Kedarnath Bhargav, his wife, Laxmi, and two so...</td>\n",
              "      <td>['kedarnath', 'bhargav', 'wife', 'laxmi', 'son...</td>\n",
              "      <td>['kedarnath', 'bhargav', 'wife', 'laxmi', 'son...</td>\n",
              "      <td>['Kedarnath Bhargav, his wife, Laxmi, and two ...</td>\n",
              "      <td>[['kedarnath', 'bhargav', 'wife', 'laxmi', 'so...</td>\n",
              "    </tr>\n",
              "    <tr>\n",
              "      <th>17</th>\n",
              "      <td>164387</td>\n",
              "      <td>...And Justice for All</td>\n",
              "      <td>['drama', 'comedy', 'crime', 'thriller', 'myst...</td>\n",
              "      <td>Arthur Kirkland  is a hotheaded but idealistic...</td>\n",
              "      <td>['arthur', 'kirkland', 'hotheaded', 'idealisti...</td>\n",
              "      <td>['arthur', 'kirkland', 'hotheaded', 'idealisti...</td>\n",
              "      <td>['Arthur Kirkland  is a hotheaded but idealist...</td>\n",
              "      <td>[['arthur', 'kirkland', 'hotheaded', 'idealist...</td>\n",
              "    </tr>\n",
              "    <tr>\n",
              "      <th>18</th>\n",
              "      <td>24282217</td>\n",
              "      <td>The Naked Kitchen</td>\n",
              "      <td>['drama', 'comedy', 'romance', 'world cinema']</td>\n",
              "      <td>Ahn Mo-rae and Han Sang-in have been friends s...</td>\n",
              "      <td>['ahn', 'mo', 'rae', 'han', 'sang', 'friends',...</td>\n",
              "      <td>['ahn', 'mo', 'rae', 'han', 'sang', 'friend', ...</td>\n",
              "      <td>['Ahn Mo-rae and Han Sang-in have been friends...</td>\n",
              "      <td>[['ahn', 'mo', 'rae', 'han', 'sang', 'friend',...</td>\n",
              "    </tr>\n",
              "    <tr>\n",
              "      <th>19</th>\n",
              "      <td>1630107</td>\n",
              "      <td>A Zed &amp; Two Noughts</td>\n",
              "      <td>['drama', 'comedy']</td>\n",
              "      <td>Twin zoologists Oswald and Oliver Deuce  are a...</td>\n",
              "      <td>['twin', 'zoologists', 'oswald', 'oliver', 'de...</td>\n",
              "      <td>['twin', 'zoologist', 'oswald', 'oliver', 'deu...</td>\n",
              "      <td>['Twin zoologists Oswald and Oliver Deuce  are...</td>\n",
              "      <td>[['twin', 'zoologist', 'oswald', 'oliver', 'de...</td>\n",
              "    </tr>\n",
              "    <tr>\n",
              "      <th>20</th>\n",
              "      <td>11717027</td>\n",
              "      <td>Is There a Doctor in the Mouse?</td>\n",
              "      <td>['comedy', 'family']</td>\n",
              "      <td>{{Plot}} Jerry is mixing a potion. When he dri...</td>\n",
              "      <td>['plot', 'jerry', 'mixing', 'potion', 'drinks'...</td>\n",
              "      <td>['plot', 'jerry', 'mix', 'potion', 'drink', 'p...</td>\n",
              "      <td>['{{Plot}} Jerry is mixing a potion.', 'When h...</td>\n",
              "      <td>[['plot', 'jerry', 'mix', 'potion'], ['drink',...</td>\n",
              "    </tr>\n",
              "    <tr>\n",
              "      <th>21</th>\n",
              "      <td>3550323</td>\n",
              "      <td>Things to Do in Denver When You're Dead</td>\n",
              "      <td>['comedy', 'crime', 'thriller']</td>\n",
              "      <td>Jimmy \"The Saint\" Tosnia  is a dapper ex-gangs...</td>\n",
              "      <td>['jimmy', 'saint', 'tosnia', 'dapper', 'ex', '...</td>\n",
              "      <td>['jimmy', 'saint', 'tosnia', 'dapper', 'ex', '...</td>\n",
              "      <td>['Jimmy \"The Saint\" Tosnia  is a dapper ex-gan...</td>\n",
              "      <td>[['jimmy', 'saint', 'tosnia', 'dapper', 'ex', ...</td>\n",
              "    </tr>\n",
              "    <tr>\n",
              "      <th>22</th>\n",
              "      <td>1072373</td>\n",
              "      <td>Minsaara Kanavu</td>\n",
              "      <td>['drama', 'romance', 'world cinema']</td>\n",
              "      <td>Priya Amal Raj  loses her mother at a very you...</td>\n",
              "      <td>['priya', 'amal', 'raj', 'loses', 'mother', 'y...</td>\n",
              "      <td>['priya', 'amal', 'raj', 'lose', 'mother', 'yo...</td>\n",
              "      <td>['Priya Amal Raj  loses her mother at a very y...</td>\n",
              "      <td>[['priya', 'amal', 'raj', 'lose', 'mother', 'y...</td>\n",
              "    </tr>\n",
              "    <tr>\n",
              "      <th>23</th>\n",
              "      <td>1765938</td>\n",
              "      <td>Convoy</td>\n",
              "      <td>['drama', 'comedy', 'action']</td>\n",
              "      <td>{{Plot}} Truck driver Martin \"Rubber Duck\" Pen...</td>\n",
              "      <td>['plot', 'truck', 'driver', 'martin', 'rubber'...</td>\n",
              "      <td>['plot', 'truck', 'driver', 'martin', 'rubber'...</td>\n",
              "      <td>['{{Plot}} Truck driver Martin \"Rubber Duck\" P...</td>\n",
              "      <td>[['plot', 'truck', 'driver', 'martin', 'rubber...</td>\n",
              "    </tr>\n",
              "    <tr>\n",
              "      <th>24</th>\n",
              "      <td>18902861</td>\n",
              "      <td>14 Going on 30</td>\n",
              "      <td>['comedy', 'romance', 'fantasy']</td>\n",
              "      <td>14-year-old Danny O'Neil  is madly in love wit...</td>\n",
              "      <td>['14', 'year', 'old', 'danny', \"o'neil\", 'madl...</td>\n",
              "      <td>['14', 'year', 'old', 'danny', \"o'neil\", 'madl...</td>\n",
              "      <td>[\"14-year-old Danny O'Neil  is madly in love w...</td>\n",
              "      <td>[['14', 'year', 'old', 'danny', \"o'neil\", 'mad...</td>\n",
              "    </tr>\n",
              "    <tr>\n",
              "      <th>25</th>\n",
              "      <td>1305819</td>\n",
              "      <td>C.H.U.D.</td>\n",
              "      <td>['drama', 'horror', 'science fiction']</td>\n",
              "      <td>The film opens with a woman walking her dog do...</td>\n",
              "      <td>['film', 'opens', 'woman', 'walking', 'dog', '...</td>\n",
              "      <td>['film', 'open', 'woman', 'walk', 'dog', 'dark...</td>\n",
              "      <td>['The film opens with a woman walking her dog ...</td>\n",
              "      <td>[['film', 'open', 'woman', 'walk', 'dog', 'dar...</td>\n",
              "    </tr>\n",
              "    <tr>\n",
              "      <th>26</th>\n",
              "      <td>12438366</td>\n",
              "      <td>Mehndi Waley Hath</td>\n",
              "      <td>['drama', 'romance']</td>\n",
              "      <td>The film begins with a voice over explaining t...</td>\n",
              "      <td>['film', 'begins', 'voice', 'explaining', 'cau...</td>\n",
              "      <td>['film', 'begin', 'voice', 'explain', 'cause',...</td>\n",
              "      <td>['The film begins with a voice over explaining...</td>\n",
              "      <td>[['film', 'begin', 'voice', 'explain', 'cause'...</td>\n",
              "    </tr>\n",
              "    <tr>\n",
              "      <th>27</th>\n",
              "      <td>1031231</td>\n",
              "      <td>Black Cat, White Cat</td>\n",
              "      <td>['comedy', 'romance']</td>\n",
              "      <td>Matko Destanov, a small-time Roma smuggler and...</td>\n",
              "      <td>['matko', 'destanov', 'small', 'time', 'roma',...</td>\n",
              "      <td>['matko', 'destanov', 'small', 'time', 'roma',...</td>\n",
              "      <td>['Matko Destanov, a small-time Roma smuggler a...</td>\n",
              "      <td>[['matko', 'destanov', 'small', 'time', 'roma'...</td>\n",
              "    </tr>\n",
              "    <tr>\n",
              "      <th>28</th>\n",
              "      <td>6305925</td>\n",
              "      <td>The Astronaut Farmer</td>\n",
              "      <td>['drama', 'adventure', 'science fiction']</td>\n",
              "      <td>Charles Farmer is a former astronaut-in-traini...</td>\n",
              "      <td>['charles', 'farmer', 'astronaut', 'training',...</td>\n",
              "      <td>['charles', 'farmer', 'astronaut', 'training',...</td>\n",
              "      <td>['Charles Farmer is a former astronaut-in-trai...</td>\n",
              "      <td>[['charles', 'farmer', 'astronaut', 'training'...</td>\n",
              "    </tr>\n",
              "    <tr>\n",
              "      <th>29</th>\n",
              "      <td>196176</td>\n",
              "      <td>Straw Dogs</td>\n",
              "      <td>['drama', 'thriller']</td>\n",
              "      <td>David Sumner , a timid American mathematician,...</td>\n",
              "      <td>['david', 'sumner', 'timid', 'american', 'math...</td>\n",
              "      <td>['david', 'sumner', 'timid', 'american', 'math...</td>\n",
              "      <td>['David Sumner , a timid American mathematicia...</td>\n",
              "      <td>[['david', 'sumner', 'timid', 'american', 'mat...</td>\n",
              "    </tr>\n",
              "    <tr>\n",
              "      <th>30</th>\n",
              "      <td>2509881</td>\n",
              "      <td>Critters 3</td>\n",
              "      <td>['horror', 'science fiction']</td>\n",
              "      <td>Sometime after the events in Critters 2, Charl...</td>\n",
              "      <td>['events', 'critters', '2', 'charlie', 'macfad...</td>\n",
              "      <td>['event', 'critters', '2', 'charlie', 'macfadd...</td>\n",
              "      <td>['Sometime after the events in Critters 2, Cha...</td>\n",
              "      <td>[['event', 'critters', '2', 'charlie', 'macfad...</td>\n",
              "    </tr>\n",
              "    <tr>\n",
              "      <th>31</th>\n",
              "      <td>748616</td>\n",
              "      <td>Spring, Summer, Fall, Winter... and Spring</td>\n",
              "      <td>['drama', 'world cinema']</td>\n",
              "      <td>The film is divided into five segments , each ...</td>\n",
              "      <td>['film', 'divided', 'segments', 'segment', 'de...</td>\n",
              "      <td>['film', 'divide', 'segment', 'segment', 'depi...</td>\n",
              "      <td>['The film is divided into five segments , eac...</td>\n",
              "      <td>[['film', 'divide', 'segment', 'segment', 'dep...</td>\n",
              "    </tr>\n",
              "    <tr>\n",
              "      <th>32</th>\n",
              "      <td>36151270</td>\n",
              "      <td>Agneekaal</td>\n",
              "      <td>['drama', 'action', 'crime']</td>\n",
              "      <td>Bharat Nagar is a city in modern secular India...</td>\n",
              "      <td>['bharat', 'nagar', 'city', 'modern', 'secular...</td>\n",
              "      <td>['bharat', 'nagar', 'city', 'modern', 'secular...</td>\n",
              "      <td>['Bharat Nagar is a city in modern secular Ind...</td>\n",
              "      <td>[['bharat', 'nagar', 'city', 'modern', 'secula...</td>\n",
              "    </tr>\n",
              "    <tr>\n",
              "      <th>33</th>\n",
              "      <td>336846</td>\n",
              "      <td>Grease</td>\n",
              "      <td>['comedy', 'romance']</td>\n",
              "      <td>In the summer of 1959, local boy Danny Zuko a...</td>\n",
              "      <td>['summer', '1959', 'local', 'boy', 'danny', 'z...</td>\n",
              "      <td>['summer', '1959', 'local', 'boy', 'danny', 'z...</td>\n",
              "      <td>[' In the summer of 1959, local boy Danny Zuko...</td>\n",
              "      <td>[['summer', '1959', 'local', 'boy', 'danny', '...</td>\n",
              "    </tr>\n",
              "    <tr>\n",
              "      <th>34</th>\n",
              "      <td>27463222</td>\n",
              "      <td>Vanishing on 7th Street</td>\n",
              "      <td>['thriller', 'horror', 'mystery']</td>\n",
              "      <td>Paul  is a projectionist in a Detroit theater ...</td>\n",
              "      <td>['paul', 'projectionist', 'detroit', 'theater'...</td>\n",
              "      <td>['paul', 'projectionist', 'detroit', 'theater'...</td>\n",
              "      <td>['Paul  is a projectionist in a Detroit theate...</td>\n",
              "      <td>[['paul', 'projectionist', 'detroit', 'theater...</td>\n",
              "    </tr>\n",
              "    <tr>\n",
              "      <th>35</th>\n",
              "      <td>15007384</td>\n",
              "      <td>Le Grand jeu</td>\n",
              "      <td>['drama', 'romance']</td>\n",
              "      <td>Pierre Martel , a young Parisian businessman, ...</td>\n",
              "      <td>['pierre', 'martel', 'young', 'parisian', 'bus...</td>\n",
              "      <td>['pierre', 'martel', 'young', 'parisian', 'bus...</td>\n",
              "      <td>['Pierre Martel , a young Parisian businessman...</td>\n",
              "      <td>[['pierre', 'martel', 'young', 'parisian', 'bu...</td>\n",
              "    </tr>\n",
              "    <tr>\n",
              "      <th>36</th>\n",
              "      <td>11692389</td>\n",
              "      <td>The Snow Queen</td>\n",
              "      <td>['adventure', 'family', 'fantasy']</td>\n",
              "      <td>One night in winter, a young girl named Gerda ...</td>\n",
              "      <td>['night', 'winter', 'young', 'girl', 'named', ...</td>\n",
              "      <td>['night', 'winter', 'young', 'girl', 'name', '...</td>\n",
              "      <td>['One night in winter, a young girl named Gerd...</td>\n",
              "      <td>[['night', 'winter', 'young', 'girl', 'name', ...</td>\n",
              "    </tr>\n",
              "    <tr>\n",
              "      <th>37</th>\n",
              "      <td>3829646</td>\n",
              "      <td>What Have I Done To Deserve This?</td>\n",
              "      <td>['drama', 'comedy', 'crime', 'world cinema']</td>\n",
              "      <td>The film is a slice of a housewife's life in 1...</td>\n",
              "      <td>['film', 'slice', 'housewife', 'life', '1980s'...</td>\n",
              "      <td>['film', 'slice', 'housewife', 'life', '1980s'...</td>\n",
              "      <td>[\"The film is a slice of a housewife's life in...</td>\n",
              "      <td>[['film', 'slice', 'housewife', 'life', '1980s...</td>\n",
              "    </tr>\n",
              "    <tr>\n",
              "      <th>38</th>\n",
              "      <td>27874961</td>\n",
              "      <td>The Iron Rose</td>\n",
              "      <td>['world cinema', 'horror']</td>\n",
              "      <td>A woman and man who met at a wedding reception...</td>\n",
              "      <td>['woman', 'man', 'met', 'wedding', 'reception'...</td>\n",
              "      <td>['woman', 'man', 'meet', 'wedding', 'reception...</td>\n",
              "      <td>['A woman and man who met at a wedding recepti...</td>\n",
              "      <td>[['woman', 'man', 'meet', 'wedding', 'receptio...</td>\n",
              "    </tr>\n",
              "    <tr>\n",
              "      <th>39</th>\n",
              "      <td>3033993</td>\n",
              "      <td>Becoming Jane</td>\n",
              "      <td>['drama', 'romance']</td>\n",
              "      <td>Jane Austen  is the younger daughter of Revere...</td>\n",
              "      <td>['jane', 'austen', 'younger', 'daughter', 'rev...</td>\n",
              "      <td>['jane', 'austen', 'young', 'daughter', 'rever...</td>\n",
              "      <td>['Jane Austen  is the younger daughter of Reve...</td>\n",
              "      <td>[['jane', 'austen', 'young', 'daughter', 'reve...</td>\n",
              "    </tr>\n",
              "    <tr>\n",
              "      <th>40</th>\n",
              "      <td>30405742</td>\n",
              "      <td>Plug &amp; Pray</td>\n",
              "      <td>['world cinema', 'science fiction', 'documenta...</td>\n",
              "      <td>Computer experts around the world strive towar...</td>\n",
              "      <td>['computer', 'experts', 'world', 'strive', 'de...</td>\n",
              "      <td>['computer', 'expert', 'world', 'strive', 'dev...</td>\n",
              "      <td>['Computer experts around the world strive tow...</td>\n",
              "      <td>[['computer', 'expert', 'world', 'strive', 'de...</td>\n",
              "    </tr>\n",
              "    <tr>\n",
              "      <th>41</th>\n",
              "      <td>103021</td>\n",
              "      <td>Midnight Express</td>\n",
              "      <td>['drama', 'adventure', 'crime', 'thriller']</td>\n",
              "      <td>On October 6, 1970, while on holiday in Istanb...</td>\n",
              "      <td>['october', '6', '1970', 'holiday', 'istanbul'...</td>\n",
              "      <td>['october', '6', '1970', 'holiday', 'istanbul'...</td>\n",
              "      <td>['On October 6, 1970, while on holiday in Ista...</td>\n",
              "      <td>[['october', '6', '1970', 'holiday', 'istanbul...</td>\n",
              "    </tr>\n",
              "    <tr>\n",
              "      <th>42</th>\n",
              "      <td>33144131</td>\n",
              "      <td>Fly Away</td>\n",
              "      <td>['drama', 'romance']</td>\n",
              "      <td>It’s midnight, and Jeanne  is awakened by wail...</td>\n",
              "      <td>['midnight', 'jeanne', 'awakened', 'wails', 'p...</td>\n",
              "      <td>['midnight', 'jeanne', 'awaken', 'wail', 'pain...</td>\n",
              "      <td>['It’s midnight, and Jeanne  is awakened by wa...</td>\n",
              "      <td>[['midnight', 'jeanne', 'awaken', 'wail', 'pai...</td>\n",
              "    </tr>\n",
              "    <tr>\n",
              "      <th>43</th>\n",
              "      <td>1940449</td>\n",
              "      <td>RoboCop 3</td>\n",
              "      <td>['action', 'crime', 'thriller', 'science ficti...</td>\n",
              "      <td>Omni Consumer Products , on the verge of bankr...</td>\n",
              "      <td>['omni', 'consumer', 'products', 'verge', 'ban...</td>\n",
              "      <td>['omni', 'consumer', 'products', 'verge', 'ban...</td>\n",
              "      <td>['Omni Consumer Products , on the verge of ban...</td>\n",
              "      <td>[['omni', 'consumer', 'products', 'verge', 'ba...</td>\n",
              "    </tr>\n",
              "    <tr>\n",
              "      <th>44</th>\n",
              "      <td>5384210</td>\n",
              "      <td>Gagamboy</td>\n",
              "      <td>['comedy', 'action', 'world cinema', 'science ...</td>\n",
              "      <td>Junie , is an ice cream vendor, who goes aroun...</td>\n",
              "      <td>['junie', 'ice', 'cream', 'vendor', 'goes', 's...</td>\n",
              "      <td>['junie', 'ice', 'cream', 'vendor', 'go', 'sel...</td>\n",
              "      <td>['Junie , is an ice cream vendor, who goes aro...</td>\n",
              "      <td>[['junie', 'ice', 'cream', 'vendor', 'go', 'se...</td>\n",
              "    </tr>\n",
              "    <tr>\n",
              "      <th>45</th>\n",
              "      <td>6703617</td>\n",
              "      <td>The Forbidden Kingdom</td>\n",
              "      <td>['action', 'adventure', 'romance', 'fantasy']</td>\n",
              "      <td>In this film, which is based loosely on the an...</td>\n",
              "      <td>['film', 'based', 'loosely', 'ancient', 'chine...</td>\n",
              "      <td>['film', 'base', 'loosely', 'ancient', 'chines...</td>\n",
              "      <td>['In this film, which is based loosely on the ...</td>\n",
              "      <td>[['film', 'base', 'loosely', 'ancient', 'chine...</td>\n",
              "    </tr>\n",
              "    <tr>\n",
              "      <th>46</th>\n",
              "      <td>19389755</td>\n",
              "      <td>Asylum Seekers</td>\n",
              "      <td>['comedy', 'thriller', 'horror', 'mystery']</td>\n",
              "      <td>Six introverted individuals, bored with their ...</td>\n",
              "      <td>['introverted', 'individuals', 'bored', 'lives...</td>\n",
              "      <td>['introverted', 'individual', 'bore', 'life', ...</td>\n",
              "      <td>['Six introverted individuals, bored with thei...</td>\n",
              "      <td>[['introverted', 'individual', 'bore', 'life',...</td>\n",
              "    </tr>\n",
              "    <tr>\n",
              "      <th>47</th>\n",
              "      <td>362719</td>\n",
              "      <td>Superman</td>\n",
              "      <td>['action', 'adventure', 'family', 'science fic...</td>\n",
              "      <td>On the planet Krypton, using evidence provided...</td>\n",
              "      <td>['planet', 'krypton', 'evidence', 'provided', ...</td>\n",
              "      <td>['planet', 'krypton', 'evidence', 'provide', '...</td>\n",
              "      <td>['On the planet Krypton, using evidence provid...</td>\n",
              "      <td>[['planet', 'krypton', 'evidence', 'provide', ...</td>\n",
              "    </tr>\n",
              "    <tr>\n",
              "      <th>48</th>\n",
              "      <td>2870618</td>\n",
              "      <td>Boy called Twist</td>\n",
              "      <td>['drama', 'world cinema']</td>\n",
              "      <td>Twist's mother dies in childbirth in the middl...</td>\n",
              "      <td>['twist', 'mother', 'dies', 'childbirth', 'mid...</td>\n",
              "      <td>['twist', 'mother', 'die', 'childbirth', 'midd...</td>\n",
              "      <td>[\"Twist's mother dies in childbirth in the mid...</td>\n",
              "      <td>[['twist', 'mother', 'die', 'childbirth', 'mid...</td>\n",
              "    </tr>\n",
              "    <tr>\n",
              "      <th>49</th>\n",
              "      <td>21271533</td>\n",
              "      <td>Bleeder</td>\n",
              "      <td>['drama', 'thriller']</td>\n",
              "      <td>The film follows the friends Leo and Lenny, wh...</td>\n",
              "      <td>['film', 'follows', 'friends', 'leo', 'lenny',...</td>\n",
              "      <td>['film', 'follow', 'friend', 'leo', 'lenny', '...</td>\n",
              "      <td>['The film follows the friends Leo and Lenny, ...</td>\n",
              "      <td>[['film', 'follow', 'friend', 'leo', 'lenny', ...</td>\n",
              "    </tr>\n",
              "  </tbody>\n",
              "</table>\n",
              "</div>\n",
              "      <button class=\"colab-df-convert\" onclick=\"convertToInteractive('df-c6a771c2-fb59-4c8d-ba7e-2184ce6657ae')\"\n",
              "              title=\"Convert this dataframe to an interactive table.\"\n",
              "              style=\"display:none;\">\n",
              "        \n",
              "  <svg xmlns=\"http://www.w3.org/2000/svg\" height=\"24px\"viewBox=\"0 0 24 24\"\n",
              "       width=\"24px\">\n",
              "    <path d=\"M0 0h24v24H0V0z\" fill=\"none\"/>\n",
              "    <path d=\"M18.56 5.44l.94 2.06.94-2.06 2.06-.94-2.06-.94-.94-2.06-.94 2.06-2.06.94zm-11 1L8.5 8.5l.94-2.06 2.06-.94-2.06-.94L8.5 2.5l-.94 2.06-2.06.94zm10 10l.94 2.06.94-2.06 2.06-.94-2.06-.94-.94-2.06-.94 2.06-2.06.94z\"/><path d=\"M17.41 7.96l-1.37-1.37c-.4-.4-.92-.59-1.43-.59-.52 0-1.04.2-1.43.59L10.3 9.45l-7.72 7.72c-.78.78-.78 2.05 0 2.83L4 21.41c.39.39.9.59 1.41.59.51 0 1.02-.2 1.41-.59l7.78-7.78 2.81-2.81c.8-.78.8-2.07 0-2.86zM5.41 20L4 18.59l7.72-7.72 1.47 1.35L5.41 20z\"/>\n",
              "  </svg>\n",
              "      </button>\n",
              "      \n",
              "  <style>\n",
              "    .colab-df-container {\n",
              "      display:flex;\n",
              "      flex-wrap:wrap;\n",
              "      gap: 12px;\n",
              "    }\n",
              "\n",
              "    .colab-df-convert {\n",
              "      background-color: #E8F0FE;\n",
              "      border: none;\n",
              "      border-radius: 50%;\n",
              "      cursor: pointer;\n",
              "      display: none;\n",
              "      fill: #1967D2;\n",
              "      height: 32px;\n",
              "      padding: 0 0 0 0;\n",
              "      width: 32px;\n",
              "    }\n",
              "\n",
              "    .colab-df-convert:hover {\n",
              "      background-color: #E2EBFA;\n",
              "      box-shadow: 0px 1px 2px rgba(60, 64, 67, 0.3), 0px 1px 3px 1px rgba(60, 64, 67, 0.15);\n",
              "      fill: #174EA6;\n",
              "    }\n",
              "\n",
              "    [theme=dark] .colab-df-convert {\n",
              "      background-color: #3B4455;\n",
              "      fill: #D2E3FC;\n",
              "    }\n",
              "\n",
              "    [theme=dark] .colab-df-convert:hover {\n",
              "      background-color: #434B5C;\n",
              "      box-shadow: 0px 1px 3px 1px rgba(0, 0, 0, 0.15);\n",
              "      filter: drop-shadow(0px 1px 2px rgba(0, 0, 0, 0.3));\n",
              "      fill: #FFFFFF;\n",
              "    }\n",
              "  </style>\n",
              "\n",
              "      <script>\n",
              "        const buttonEl =\n",
              "          document.querySelector('#df-c6a771c2-fb59-4c8d-ba7e-2184ce6657ae button.colab-df-convert');\n",
              "        buttonEl.style.display =\n",
              "          google.colab.kernel.accessAllowed ? 'block' : 'none';\n",
              "\n",
              "        async function convertToInteractive(key) {\n",
              "          const element = document.querySelector('#df-c6a771c2-fb59-4c8d-ba7e-2184ce6657ae');\n",
              "          const dataTable =\n",
              "            await google.colab.kernel.invokeFunction('convertToInteractive',\n",
              "                                                     [key], {});\n",
              "          if (!dataTable) return;\n",
              "\n",
              "          const docLinkHtml = 'Like what you see? Visit the ' +\n",
              "            '<a target=\"_blank\" href=https://colab.research.google.com/notebooks/data_table.ipynb>data table notebook</a>'\n",
              "            + ' to learn more about interactive tables.';\n",
              "          element.innerHTML = '';\n",
              "          dataTable['output_type'] = 'display_data';\n",
              "          await google.colab.output.renderOutput(dataTable, element);\n",
              "          const docLink = document.createElement('div');\n",
              "          docLink.innerHTML = docLinkHtml;\n",
              "          element.appendChild(docLink);\n",
              "        }\n",
              "      </script>\n",
              "    </div>\n",
              "  </div>\n",
              "  "
            ]
          },
          "metadata": {},
          "execution_count": 3
        }
      ]
    },
    {
      "cell_type": "code",
      "source": [
        "def flatten_sent(sent_list):\n",
        "  ret_val = []\n",
        "  for sent in sent_list: \n",
        "    ret_val.append(\" \".join(sent))\n",
        "  return ret_val \n",
        "\n",
        "\n",
        "df_trunc[\"lem_sent_join\"] = df_trunc.sentences.apply(flatten_sent)"
      ],
      "metadata": {
        "colab": {
          "base_uri": "https://localhost:8080/"
        },
        "id": "xDaIK-1XtpRw",
        "outputId": "08443a2b-8666-494a-d104-06e9e731bc4f"
      },
      "execution_count": null,
      "outputs": [
        {
          "output_type": "stream",
          "name": "stderr",
          "text": [
            "/usr/local/lib/python3.7/dist-packages/ipykernel_launcher.py:8: SettingWithCopyWarning: \n",
            "A value is trying to be set on a copy of a slice from a DataFrame.\n",
            "Try using .loc[row_indexer,col_indexer] = value instead\n",
            "\n",
            "See the caveats in the documentation: https://pandas.pydata.org/pandas-docs/stable/user_guide/indexing.html#returning-a-view-versus-a-copy\n",
            "  \n"
          ]
        }
      ]
    },
    {
      "cell_type": "code",
      "source": [
        "from sklearn.model_selection import train_test_split\n",
        "from sklearn.metrics import confusion_matrix\n",
        "from sklearn.metrics import roc_auc_score\n",
        "from sklearn.metrics import classification_report\n",
        "from sklearn.datasets import make_multilabel_classification\n",
        "from sklearn.svm import SVC\n",
        "from sklearn.multioutput import MultiOutputClassifier"
      ],
      "metadata": {
        "id": "cmGpWB7vtrj3"
      },
      "execution_count": null,
      "outputs": []
    },
    {
      "cell_type": "code",
      "source": [
        "x, y = make_multilabel_classification(n_samples=5000, n_features=10,\n",
        "                                      n_classes=2, random_state=0)"
      ],
      "metadata": {
        "id": "t3u4Bk10uYNT"
      },
      "execution_count": null,
      "outputs": []
    },
    {
      "cell_type": "code",
      "source": [
        "xtrain, xtest, ytrain, ytest=train_test_split(x, y, train_size=0.95, random_state=0)"
      ],
      "metadata": {
        "id": "wTmoj6Wmvrlo"
      },
      "execution_count": null,
      "outputs": []
    },
    {
      "cell_type": "code",
      "source": [
        "from ast import literal_eval\n",
        "\n",
        "for col in ['genres', 'unigrams', 'lemmatized', 'sentences', 'lem_sent']: \n",
        "  df[col] = df[col].apply(literal_eval)"
      ],
      "metadata": {
        "id": "OqyETAkP0AQ1"
      },
      "execution_count": null,
      "outputs": []
    },
    {
      "cell_type": "code",
      "source": [
        "df_all = df[:100]"
      ],
      "metadata": {
        "id": "csTNCfPm0Vrv"
      },
      "execution_count": null,
      "outputs": []
    },
    {
      "cell_type": "code",
      "source": [
        "def flatten_sent(sent_list):\n",
        "  ret_val = []\n",
        "  for sent in sent_list: \n",
        "    ret_val.append(\" \".join(sent))\n",
        "  return ret_val \n",
        "\n",
        "\n",
        "df_all[\"lem_sent_join\"] = df_all.lem_sent.apply(flatten_sent)"
      ],
      "metadata": {
        "colab": {
          "base_uri": "https://localhost:8080/"
        },
        "id": "CQYHfj2711Em",
        "outputId": "9305cee8-3669-4ab7-9cd1-69be0efa744f"
      },
      "execution_count": null,
      "outputs": [
        {
          "output_type": "stream",
          "name": "stderr",
          "text": [
            "/usr/local/lib/python3.7/dist-packages/ipykernel_launcher.py:8: SettingWithCopyWarning: \n",
            "A value is trying to be set on a copy of a slice from a DataFrame.\n",
            "Try using .loc[row_indexer,col_indexer] = value instead\n",
            "\n",
            "See the caveats in the documentation: https://pandas.pydata.org/pandas-docs/stable/user_guide/indexing.html#returning-a-view-versus-a-copy\n",
            "  \n"
          ]
        }
      ]
    },
    {
      "cell_type": "code",
      "source": [
        "import numpy as np\n",
        "\n",
        "X = []\n",
        "y = []\n",
        "\n",
        "for _, row in df_all.iterrows(): \n",
        "  X.extend(row['lem_sent_join'])\n",
        "  for sent in row['lem_sent_join']: \n",
        "    y.append(row['genres'])"
      ],
      "metadata": {
        "id": "Q1mX4ss3vwlu"
      },
      "execution_count": null,
      "outputs": []
    },
    {
      "cell_type": "code",
      "source": [
        "len(y)"
      ],
      "metadata": {
        "colab": {
          "base_uri": "https://localhost:8080/"
        },
        "id": "LafW5LH_7B4Q",
        "outputId": "c492a3d0-f854-4290-8783-a289c58ae75a"
      },
      "execution_count": null,
      "outputs": [
        {
          "output_type": "execute_result",
          "data": {
            "text/plain": [
              "2461"
            ]
          },
          "metadata": {},
          "execution_count": 63
        }
      ]
    },
    {
      "cell_type": "code",
      "source": [
        "X"
      ],
      "metadata": {
        "id": "s79TcJCy1bN1"
      },
      "execution_count": null,
      "outputs": []
    },
    {
      "cell_type": "code",
      "source": [
        "from sklearn.feature_extraction.text import TfidfVectorizer\n",
        "\n",
        "vectorizer = TfidfVectorizer()\n",
        "X = vectorizer.fit_transform(X)"
      ],
      "metadata": {
        "id": "BZ_4ZGN-zo9y"
      },
      "execution_count": null,
      "outputs": []
    },
    {
      "cell_type": "code",
      "source": [
        "from sklearn.preprocessing import MultiLabelBinarizer\n",
        "\n",
        "# Create MultiLabelBinarizer object\n",
        "mlb = MultiLabelBinarizer()\n",
        "\n",
        "# One-hot encode data\n",
        "y1 = mlb.fit_transform(y)"
      ],
      "metadata": {
        "id": "BsbTPSnb4Mud"
      },
      "execution_count": null,
      "outputs": []
    },
    {
      "cell_type": "code",
      "source": [
        "len(y1)"
      ],
      "metadata": {
        "colab": {
          "base_uri": "https://localhost:8080/"
        },
        "id": "oyAOMdwd43nC",
        "outputId": "fef17730-15ec-48f4-dfa5-24a37e87abdd"
      },
      "execution_count": null,
      "outputs": [
        {
          "output_type": "execute_result",
          "data": {
            "text/plain": [
              "2461"
            ]
          },
          "metadata": {},
          "execution_count": 69
        }
      ]
    },
    {
      "cell_type": "code",
      "source": [
        "df_all.genres.iloc[0]"
      ],
      "metadata": {
        "colab": {
          "base_uri": "https://localhost:8080/"
        },
        "id": "Alx6i04L5CLv",
        "outputId": "8a67c840-803c-404b-94bd-4181f60475fb"
      },
      "execution_count": null,
      "outputs": [
        {
          "output_type": "execute_result",
          "data": {
            "text/plain": [
              "['action', 'adventure', 'thriller', 'horror', 'science fiction']"
            ]
          },
          "metadata": {},
          "execution_count": 53
        }
      ]
    },
    {
      "cell_type": "code",
      "source": [
        "from sklearn.model_selection import train_test_split\n",
        "from sklearn.naive_bayes import MultinomialNB\n",
        "\n",
        "X_train, X_test, y_train, y_test = train_test_split(X, y1, test_size=0.25, random_state=42)\n",
        "mnb = MultinomialNB()"
      ],
      "metadata": {
        "id": "prpXU65V5dBj"
      },
      "execution_count": null,
      "outputs": []
    },
    {
      "cell_type": "code",
      "source": [
        "multi_target_nb = MultiOutputClassifier(mnb, n_jobs=-1)\n",
        "multi_target_nb.fit(X_train, y_train)"
      ],
      "metadata": {
        "colab": {
          "base_uri": "https://localhost:8080/"
        },
        "id": "oYCYNtcIxA3N",
        "outputId": "534a65c4-4049-4a3d-fa61-ef4f9ae92ea8"
      },
      "execution_count": null,
      "outputs": [
        {
          "output_type": "execute_result",
          "data": {
            "text/plain": [
              "MultiOutputClassifier(estimator=MultinomialNB(), n_jobs=-1)"
            ]
          },
          "metadata": {},
          "execution_count": 74
        }
      ]
    },
    {
      "cell_type": "code",
      "source": [
        "y_pred = multi_target_nb.predict(X_test)"
      ],
      "metadata": {
        "id": "2i-yTMVa7nw6"
      },
      "execution_count": null,
      "outputs": []
    },
    {
      "cell_type": "code",
      "source": [
        "from sklearn.metrics import accuracy_score\n",
        "from sklearn.metrics import confusion_matrix\n",
        "from sklearn.metrics import f1_score\n",
        "\n",
        "acc = accuracy_score(y_test, y_pred)\n",
        "f1 = f1_score(y_test, y_pred, average = 'weighted') \n",
        "\n",
        "\n",
        "print(f\"accuracy is {acc}\")\n",
        "print(f\"f1 score is {f1}\")"
      ],
      "metadata": {
        "colab": {
          "base_uri": "https://localhost:8080/"
        },
        "id": "Ox2-dAMq76gS",
        "outputId": "9683b74e-5644-4c38-bfd5-75fd1b5669e8"
      },
      "execution_count": null,
      "outputs": [
        {
          "output_type": "stream",
          "name": "stdout",
          "text": [
            "accuracy is 0.1737012987012987\n",
            "f1 score is 0.5117428491894223\n"
          ]
        }
      ]
    },
    {
      "cell_type": "code",
      "source": [
        "from sklearn.metrics import jaccard_score\n",
        "\n",
        "jacc = jaccard_score(y_test, y_pred, average='weighted')\n",
        "\n",
        "print(f\"jaccard score is {jacc}\")"
      ],
      "metadata": {
        "colab": {
          "base_uri": "https://localhost:8080/"
        },
        "id": "CCd_vDdF8u6-",
        "outputId": "a3bc5ffc-784c-4c75-e6c5-77400458fa29"
      },
      "execution_count": null,
      "outputs": [
        {
          "output_type": "stream",
          "name": "stdout",
          "text": [
            "jaccard score is 0.40746822332440813\n"
          ]
        }
      ]
    },
    {
      "cell_type": "markdown",
      "source": [
        "Full Dataframe"
      ],
      "metadata": {
        "id": "fyQfE1kN-Xyg"
      }
    },
    {
      "cell_type": "code",
      "source": [
        "from ast import literal_eval\n",
        "\n",
        "for col in ['genres', 'unigrams', 'lemmatized', 'sentences', 'lem_sent']: \n",
        "  df[col] = df[col].apply(literal_eval)"
      ],
      "metadata": {
        "id": "qIYFy-j6-sWu"
      },
      "execution_count": null,
      "outputs": []
    },
    {
      "cell_type": "code",
      "source": [
        "def flatten_sent(sent_list):\n",
        "  ret_val = []\n",
        "  for sent in sent_list: \n",
        "    ret_val.append(\" \".join(sent))\n",
        "  return ret_val \n",
        "\n",
        "\n",
        "df[\"lem_sent_join\"] = df.lem_sent.apply(flatten_sent)"
      ],
      "metadata": {
        "id": "Mj0HdAcn-UY_"
      },
      "execution_count": null,
      "outputs": []
    },
    {
      "cell_type": "code",
      "source": [
        "import numpy as np\n",
        "\n",
        "X = []\n",
        "y = []\n",
        "\n",
        "for _, row in df.iterrows(): \n",
        "  X.extend(row['lem_sent_join'])\n",
        "  for sent in row['lem_sent_join']: \n",
        "    y.append(row['genres'])"
      ],
      "metadata": {
        "id": "drtG2_I6-2BU"
      },
      "execution_count": null,
      "outputs": []
    },
    {
      "cell_type": "code",
      "source": [
        "from sklearn.feature_extraction.text import TfidfVectorizer\n",
        "\n",
        "vectorizer = TfidfVectorizer()\n",
        "X = vectorizer.fit_transform(X)"
      ],
      "metadata": {
        "id": "_cUqJuRH_BPM"
      },
      "execution_count": null,
      "outputs": []
    },
    {
      "cell_type": "code",
      "source": [
        "from sklearn.preprocessing import MultiLabelBinarizer\n",
        "\n",
        "# Create MultiLabelBinarizer object\n",
        "mlb = MultiLabelBinarizer()\n",
        "\n",
        "# One-hot encode data\n",
        "y1 = mlb.fit_transform(y)"
      ],
      "metadata": {
        "id": "x8GuNJDm_JSe"
      },
      "execution_count": null,
      "outputs": []
    },
    {
      "cell_type": "code",
      "source": [
        "from sklearn.model_selection import train_test_split\n",
        "from sklearn.naive_bayes import MultinomialNB\n",
        "\n",
        "X_train, X_test, y_train, y_test = train_test_split(X, y1, test_size=0.25, random_state=42)\n",
        "mnb = MultinomialNB()"
      ],
      "metadata": {
        "id": "87pi0DHv_NLi"
      },
      "execution_count": null,
      "outputs": []
    },
    {
      "cell_type": "code",
      "source": [
        "multi_target_nb = MultiOutputClassifier(mnb, n_jobs=-1)\n",
        "multi_target_nb.fit(X_train, y_train)"
      ],
      "metadata": {
        "colab": {
          "base_uri": "https://localhost:8080/"
        },
        "id": "GdCg3qmm_W5U",
        "outputId": "9c41efb7-cf70-4200-fcd9-e2072a8dcf7c"
      },
      "execution_count": null,
      "outputs": [
        {
          "output_type": "execute_result",
          "data": {
            "text/plain": [
              "MultiOutputClassifier(estimator=MultinomialNB(), n_jobs=-1)"
            ]
          },
          "metadata": {},
          "execution_count": 92
        }
      ]
    },
    {
      "cell_type": "code",
      "source": [
        "y_pred = multi_target_nb.predict(X_test)"
      ],
      "metadata": {
        "id": "Kk7AUxni_fOE"
      },
      "execution_count": null,
      "outputs": []
    },
    {
      "cell_type": "code",
      "source": [
        "from sklearn.metrics import accuracy_score\n",
        "from sklearn.metrics import confusion_matrix\n",
        "from sklearn.metrics import f1_score\n",
        "from sklearn.metrics import jaccard_score\n",
        "\n",
        "acc = accuracy_score(y_test, y_pred)\n",
        "f1 = f1_score(y_test, y_pred, average = 'weighted') \n",
        "jacc = jaccard_score(y_test, y_pred, average='weighted')\n",
        "\n",
        "\n",
        "print(f\"accuracy is {acc}\")\n",
        "print(f\"f1 score is {f1}\")\n",
        "print(f\"jaccard score is {jacc}\")"
      ],
      "metadata": {
        "colab": {
          "base_uri": "https://localhost:8080/"
        },
        "id": "ujyJWc9h_klf",
        "outputId": "76c75143-4504-4c21-cea7-e0fabb98045f"
      },
      "execution_count": null,
      "outputs": [
        {
          "output_type": "stream",
          "name": "stdout",
          "text": [
            "accuracy is 0.1160965468572682\n",
            "f1 score is 0.44883674881249025\n",
            "jaccard score is 0.31301755364602\n"
          ]
        }
      ]
    },
    {
      "cell_type": "code",
      "source": [
        "from sklearn.metrics import multilabel_confusion_matrix\n",
        "\n",
        "conf = multilabel_confusion_matrix(y_test, y_pred)"
      ],
      "metadata": {
        "id": "g5MGVo0QAcru"
      },
      "execution_count": null,
      "outputs": []
    },
    {
      "cell_type": "code",
      "source": [
        "from sklearn.metrics import classification_report\n",
        "\n",
        "print(conf)\n",
        "print(classification_report(y_test,y_pred))"
      ],
      "metadata": {
        "colab": {
          "base_uri": "https://localhost:8080/"
        },
        "id": "xSshyMj1AnIa",
        "outputId": "73dfbe3e-4b65-4b45-a145-c604ddab4d75"
      },
      "execution_count": null,
      "outputs": [
        {
          "output_type": "stream",
          "name": "stdout",
          "text": [
            "[[[ 74802   1280]\n",
            "  [ 17773  11006]]\n",
            "\n",
            " [[ 88520    205]\n",
            "  [ 12863   3273]]\n",
            "\n",
            " [[ 65625   2472]\n",
            "  [ 22480  14284]]\n",
            "\n",
            " [[ 83957    254]\n",
            "  [ 17073   3577]]\n",
            "\n",
            " [[104183      3]\n",
            "  [   674      1]]\n",
            "\n",
            " [[ 33276  15660]\n",
            "  [  9014  46911]]\n",
            "\n",
            " [[ 88149    220]\n",
            "  [ 13657   2835]]\n",
            "\n",
            " [[ 93321     76]\n",
            "  [  9896   1568]]\n",
            "\n",
            " [[ 90463     80]\n",
            "  [ 12713   1605]]\n",
            "\n",
            " [[ 95449     39]\n",
            "  [  9081    292]]\n",
            "\n",
            " [[ 77551   1053]\n",
            "  [ 19755   6502]]\n",
            "\n",
            " [[ 93193    142]\n",
            "  [  9469   2057]]\n",
            "\n",
            " [[ 99466     30]\n",
            "  [  4916    449]]\n",
            "\n",
            " [[102973      8]\n",
            "  [  1879      1]]\n",
            "\n",
            " [[ 74045    979]\n",
            "  [ 21248   8589]]\n",
            "\n",
            " [[ 83801    616]\n",
            "  [ 15168   5276]]]\n",
            "              precision    recall  f1-score   support\n",
            "\n",
            "           0       0.90      0.38      0.54     28779\n",
            "           1       0.94      0.20      0.33     16136\n",
            "           2       0.85      0.39      0.53     36764\n",
            "           3       0.93      0.17      0.29     20650\n",
            "           4       0.25      0.00      0.00       675\n",
            "           5       0.75      0.84      0.79     55925\n",
            "           6       0.93      0.17      0.29     16492\n",
            "           7       0.95      0.14      0.24     11464\n",
            "           8       0.95      0.11      0.20     14318\n",
            "           9       0.88      0.03      0.06      9373\n",
            "          10       0.86      0.25      0.38     26257\n",
            "          11       0.94      0.18      0.30     11526\n",
            "          12       0.94      0.08      0.15      5365\n",
            "          13       0.11      0.00      0.00      1880\n",
            "          14       0.90      0.29      0.44     29837\n",
            "          15       0.90      0.26      0.40     20444\n",
            "\n",
            "   micro avg       0.82      0.35      0.50    305885\n",
            "   macro avg       0.81      0.22      0.31    305885\n",
            "weighted avg       0.87      0.35      0.45    305885\n",
            " samples avg       0.64      0.37      0.44    305885\n",
            "\n"
          ]
        },
        {
          "output_type": "stream",
          "name": "stderr",
          "text": [
            "/usr/local/lib/python3.7/dist-packages/sklearn/metrics/_classification.py:1318: UndefinedMetricWarning: Precision and F-score are ill-defined and being set to 0.0 in samples with no predicted labels. Use `zero_division` parameter to control this behavior.\n",
            "  _warn_prf(average, modifier, msg_start, len(result))\n"
          ]
        }
      ]
    },
    {
      "cell_type": "markdown",
      "source": [
        "Full-Summary Version"
      ],
      "metadata": {
        "id": "0pEMI9u8XdCq"
      }
    },
    {
      "cell_type": "code",
      "source": [
        "type(df_all['summary'][0])"
      ],
      "metadata": {
        "colab": {
          "base_uri": "https://localhost:8080/"
        },
        "id": "i5B2g0Vpopxb",
        "outputId": "54b68c3d-9bfa-4b39-c5c4-e88baadecc09"
      },
      "execution_count": null,
      "outputs": [
        {
          "output_type": "execute_result",
          "data": {
            "text/plain": [
              "str"
            ]
          },
          "metadata": {},
          "execution_count": 56
        }
      ]
    },
    {
      "cell_type": "code",
      "source": [
        "import numpy as np\n",
        "\n",
        "df_all = df[:100]\n",
        "\n",
        "X_doc = []\n",
        "y_doc = []\n",
        "\n",
        "for _, row in df.iterrows(): \n",
        "  #X_doc.append(str(row['summary']))\n",
        "  #for sent in row['summary']: \n",
        "  y_doc.append(row['genres'])"
      ],
      "metadata": {
        "id": "YHsjWWFPXf9g"
      },
      "execution_count": null,
      "outputs": []
    },
    {
      "cell_type": "code",
      "source": [
        "X_doc"
      ],
      "metadata": {
        "id": "nqISqUXwk_Jt"
      },
      "execution_count": null,
      "outputs": []
    },
    {
      "cell_type": "code",
      "source": [
        "lst = []\n",
        "\n",
        "for _, row in df.iterrows():\n",
        "  strng = \" \".join(row['lemmatized'])\n",
        "  #print(strng)\n",
        "  lst.append(strng)\n",
        "\n",
        "lst"
      ],
      "metadata": {
        "id": "7IbIbbB6qj7u"
      },
      "execution_count": null,
      "outputs": []
    },
    {
      "cell_type": "code",
      "source": [
        "len(lst)"
      ],
      "metadata": {
        "colab": {
          "base_uri": "https://localhost:8080/"
        },
        "id": "PJ45XK-Fwk7G",
        "outputId": "b91b8baa-feb2-46fd-83a2-b9007ad075b2"
      },
      "execution_count": null,
      "outputs": [
        {
          "output_type": "execute_result",
          "data": {
            "text/plain": [
              "16609"
            ]
          },
          "metadata": {},
          "execution_count": 119
        }
      ]
    },
    {
      "cell_type": "code",
      "source": [
        "from sklearn.preprocessing import MultiLabelBinarizer\n",
        "\n",
        "# Create MultiLabelBinarizer object\n",
        "mlb = MultiLabelBinarizer()\n",
        "\n",
        "# One-hot encode data\n",
        "y1 = mlb.fit_transform(y_doc)"
      ],
      "metadata": {
        "id": "R_4V3RS3x-Lh"
      },
      "execution_count": null,
      "outputs": []
    },
    {
      "cell_type": "code",
      "source": [
        "from sklearn.model_selection import train_test_split\n",
        "\n",
        "X_train, X_test, y_train, y_test = train_test_split(lst, y1, test_size=0.25, random_state=42)"
      ],
      "metadata": {
        "id": "_xDhu-MPZ112"
      },
      "execution_count": null,
      "outputs": []
    },
    {
      "cell_type": "code",
      "source": [
        "from sklearn.feature_extraction.text import TfidfVectorizer\n",
        "\n",
        "vectorizer = TfidfVectorizer()\n",
        "X_train = vectorizer.fit_transform(X_train)\n",
        "X_test = vectorizer.transform(X_test)"
      ],
      "metadata": {
        "id": "tTAHk4IJdmtt"
      },
      "execution_count": null,
      "outputs": []
    },
    {
      "cell_type": "code",
      "source": [
        "from sklearn.naive_bayes import MultinomialNB\n",
        "\n",
        "mnb = MultinomialNB()"
      ],
      "metadata": {
        "id": "PXTBOPWhxTa4"
      },
      "execution_count": null,
      "outputs": []
    },
    {
      "cell_type": "code",
      "source": [
        "from sklearn.multioutput import MultiOutputClassifier\n",
        "\n",
        "multi_target_nb = MultiOutputClassifier(mnb, n_jobs=-1)\n",
        "multi_target_nb.fit(X_train, y_train)"
      ],
      "metadata": {
        "colab": {
          "base_uri": "https://localhost:8080/"
        },
        "id": "oU2tfyxBxjBp",
        "outputId": "4a7bf31c-3e2b-4903-dbe2-573ef1010228"
      },
      "execution_count": null,
      "outputs": [
        {
          "output_type": "execute_result",
          "data": {
            "text/plain": [
              "MultiOutputClassifier(estimator=MultinomialNB(), n_jobs=-1)"
            ]
          },
          "metadata": {},
          "execution_count": 125
        }
      ]
    },
    {
      "cell_type": "code",
      "source": [
        "y_pred = multi_target_nb.predict(X_test)"
      ],
      "metadata": {
        "id": "Di0YqJZAy-_v"
      },
      "execution_count": null,
      "outputs": []
    },
    {
      "cell_type": "code",
      "source": [
        "from sklearn.metrics import accuracy_score\n",
        "from sklearn.metrics import confusion_matrix\n",
        "from sklearn.metrics import f1_score\n",
        "from sklearn.metrics import jaccard_score\n",
        "\n",
        "acc = accuracy_score(y_test, y_pred)\n",
        "f1 = f1_score(y_test, y_pred, average = 'weighted') \n",
        "jacc = jaccard_score(y_test, y_pred, average='weighted')\n",
        "\n",
        "\n",
        "print(f\"accuracy is {acc}\")\n",
        "print(f\"f1 score is {f1}\")\n",
        "print(f\"jaccard score is {jacc}\")"
      ],
      "metadata": {
        "colab": {
          "base_uri": "https://localhost:8080/"
        },
        "id": "M3Df_0AdzZzG",
        "outputId": "cab7300a-d1ad-4cc6-9283-5253061c05a0"
      },
      "execution_count": null,
      "outputs": [
        {
          "output_type": "stream",
          "name": "stdout",
          "text": [
            "accuracy is 0.0007223693715386468\n",
            "f1 score is 0.1711434876755551\n",
            "jaccard score is 0.13420011070730686\n"
          ]
        }
      ]
    },
    {
      "cell_type": "code",
      "source": [
        "from sklearn.metrics import classification_report\n",
        "\n",
        "print(classification_report(y_test,y_pred))"
      ],
      "metadata": {
        "colab": {
          "base_uri": "https://localhost:8080/"
        },
        "id": "kbkFzwZ0ztbw",
        "outputId": "11529fe7-9b15-40d6-fae5-25e59d3f8615"
      },
      "execution_count": null,
      "outputs": [
        {
          "output_type": "stream",
          "name": "stdout",
          "text": [
            "              precision    recall  f1-score   support\n",
            "\n",
            "           0       1.00      0.01      0.01      1069\n",
            "           1       0.00      0.00      0.00       582\n",
            "           2       0.88      0.08      0.15      1552\n",
            "           3       0.00      0.00      0.00       795\n",
            "           4       0.00      0.00      0.00        51\n",
            "           5       0.68      0.92      0.78      2265\n",
            "           6       1.00      0.00      0.01       629\n",
            "           7       0.00      0.00      0.00       388\n",
            "           8       0.00      0.00      0.00       480\n",
            "           9       0.00      0.00      0.00       332\n",
            "          10       0.67      0.00      0.00      1027\n",
            "          11       0.00      0.00      0.00       359\n",
            "          12       0.00      0.00      0.00       281\n",
            "          13       0.00      0.00      0.00        68\n",
            "          14       0.00      0.00      0.00      1081\n",
            "          15       0.00      0.00      0.00       873\n",
            "\n",
            "   micro avg       0.69      0.19      0.30     11832\n",
            "   macro avg       0.26      0.06      0.06     11832\n",
            "weighted avg       0.45      0.19      0.17     11832\n",
            " samples avg       0.53      0.20      0.29     11832\n",
            "\n"
          ]
        },
        {
          "output_type": "stream",
          "name": "stderr",
          "text": [
            "/usr/local/lib/python3.7/dist-packages/sklearn/metrics/_classification.py:1318: UndefinedMetricWarning: Precision and F-score are ill-defined and being set to 0.0 in labels with no predicted samples. Use `zero_division` parameter to control this behavior.\n",
            "  _warn_prf(average, modifier, msg_start, len(result))\n",
            "/usr/local/lib/python3.7/dist-packages/sklearn/metrics/_classification.py:1318: UndefinedMetricWarning: Precision and F-score are ill-defined and being set to 0.0 in samples with no predicted labels. Use `zero_division` parameter to control this behavior.\n",
            "  _warn_prf(average, modifier, msg_start, len(result))\n"
          ]
        }
      ]
    }
  ]
}