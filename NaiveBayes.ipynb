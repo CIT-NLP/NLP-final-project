{
  "nbformat": 4,
  "nbformat_minor": 0,
  "metadata": {
    "colab": {
      "name": "NaiveBayes.ipynb",
      "provenance": [],
      "collapsed_sections": [],
      "include_colab_link": true
    },
    "kernelspec": {
      "name": "python3",
      "display_name": "Python 3"
    },
    "language_info": {
      "name": "python"
    }
  },
  "cells": [
    {
      "cell_type": "markdown",
      "metadata": {
        "id": "view-in-github",
        "colab_type": "text"
      },
      "source": [
        "<a href=\"https://colab.research.google.com/github/CIT-NLP/NLP-final-project/blob/main/NaiveBayes.ipynb\" target=\"_parent\"><img src=\"https://colab.research.google.com/assets/colab-badge.svg\" alt=\"Open In Colab\"/></a>"
      ]
    },
    {
      "cell_type": "code",
      "execution_count": 1,
      "metadata": {
        "colab": {
          "base_uri": "https://localhost:8080/"
        },
        "id": "slc7d2d8tIh0",
        "outputId": "7886eef1-20d2-405b-9bdf-3f06addc7b31"
      },
      "outputs": [
        {
          "output_type": "stream",
          "name": "stdout",
          "text": [
            "Downloading...\n",
            "From: https://drive.google.com/uc?id=1wHRVN7l6quMFTG7seVS0pHh7ULrc78ug\n",
            "To: /content/processed_dataframe.csv\n",
            "100% 180M/180M [00:01<00:00, 117MB/s]\n"
          ]
        }
      ],
      "source": [
        "!gdown https://drive.google.com/uc?id=1wHRVN7l6quMFTG7seVS0pHh7ULrc78ug"
      ]
    },
    {
      "cell_type": "code",
      "source": [
        "import pandas as pd\n",
        "from ast import literal_eval\n",
        "\n",
        "df = pd.read_csv(\"./processed_dataframe.csv\")\n",
        "\n",
        "# interpret cols as lists instead of strings\n",
        "for col in ['unigrams', 'sentences', 'lem_sent', 'genres']: \n",
        "  df[col] = df[col].apply(literal_eval)\n",
        "\n",
        "df"
      ],
      "metadata": {
        "colab": {
          "base_uri": "https://localhost:8080/",
          "height": 659
        },
        "id": "Xijbm6nCtb_Y",
        "outputId": "a101c118-917e-4f29-92fc-7e62fd393649"
      },
      "execution_count": 11,
      "outputs": [
        {
          "output_type": "execute_result",
          "data": {
            "text/plain": [
              "       Unnamed: 0                                            summary  \\\n",
              "0               0  Set in the second half of the 22nd century, th...   \n",
              "1               1  Adam, a San Francisco-based artist who works a...   \n",
              "2               2   The story starts as one of the robots flies i...   \n",
              "3               3  The film opens with Mary Poppins  perched in a...   \n",
              "4               4  A young 20-year-old named Jody  lives with his...   \n",
              "...           ...                                                ...   \n",
              "16604       16604  Kalai Arasi' is a well-blended story of romanc...   \n",
              "16605       16605  Jennifer Haines  is an up-and-coming Chicago a...   \n",
              "16606       16606  Kishan  killed a man in his childhood when the...   \n",
              "16607       16607  {{plot}} The film opens with a Great Western e...   \n",
              "16608       16608  The story takes place in the year 2092,The Sup...   \n",
              "\n",
              "                                                unigrams  \\\n",
              "0      [set, second, half, 22nd, century, film, depic...   \n",
              "1      [adam, san, francisco, base, artist, work, cab...   \n",
              "2      [story, start, robot, fly, scientist, secret, ...   \n",
              "3      [film, open, mary, poppins, perch, cloud, high...   \n",
              "4      [young, 20, year, old, name, jody, live, mothe...   \n",
              "...                                                  ...   \n",
              "16604  [kalai, arasi, blend, story, romance, science,...   \n",
              "16605  [jennifer, haines, come, chicago, attorney, wi...   \n",
              "16606  [kishan, kill, man, childhood, man, abuse, mot...   \n",
              "16607  [plot, film, open, great, western, express, sp...   \n",
              "16608  [story, take, place, year, 2092,the, super, di...   \n",
              "\n",
              "                                               sentences  \\\n",
              "0      [Set in the second half of the 22nd century, t...   \n",
              "1      [Adam, a San Francisco-based artist who works ...   \n",
              "2      [ The story starts as one of the robots flies ...   \n",
              "3      [The film opens with Mary Poppins  perched in ...   \n",
              "4      [A young 20-year-old named Jody  lives with hi...   \n",
              "...                                                  ...   \n",
              "16604  [Kalai Arasi' is a well-blended story of roman...   \n",
              "16605  [Jennifer Haines  is an up-and-coming Chicago ...   \n",
              "16606  [Kishan  killed a man in his childhood when th...   \n",
              "16607  [{{plot}} The film opens with a Great Western ...   \n",
              "16608  [The story takes place in the year 2092,The Su...   \n",
              "\n",
              "                                                lem_sent  \\\n",
              "0      [[set, second, half, 22nd, century, film, depi...   \n",
              "1      [[adam, san, francisco, base, artist, work, ca...   \n",
              "2      [[story, start, robot, fly, scientist, secret,...   \n",
              "3      [[film, open, mary, poppins, perch, cloud, hig...   \n",
              "4      [[young, 20, year, old, name, jody, live, moth...   \n",
              "...                                                  ...   \n",
              "16604  [[kalai, arasi, blend, story, romance, science...   \n",
              "16605  [[jennifer, haines, come, chicago, attorney], ...   \n",
              "16606  [[kishan, kill, man, childhood, man, abuse, mo...   \n",
              "16607  [[plot, film, open, great, western, express, s...   \n",
              "16608  [[story, take, place, year, 2092,the, super, d...   \n",
              "\n",
              "                                                  genres  \n",
              "0      [action, adventure, thriller, horror, science ...  \n",
              "1                               [drama, comedy, romance]  \n",
              "2      [action, adventure, family, short film, scienc...  \n",
              "3                       [drama, comedy, family, fantasy]  \n",
              "4                                         [drama, crime]  \n",
              "...                                                  ...  \n",
              "16604          [drama, action, romance, science fiction]  \n",
              "16605                                  [crime, thriller]  \n",
              "16606                     [drama, comedy, action, crime]  \n",
              "16607                          [comedy, crime, thriller]  \n",
              "16608    [drama, adventure, short film, science fiction]  \n",
              "\n",
              "[16609 rows x 6 columns]"
            ],
            "text/html": [
              "\n",
              "  <div id=\"df-85722578-57ee-4382-9582-62be65ee3f18\">\n",
              "    <div class=\"colab-df-container\">\n",
              "      <div>\n",
              "<style scoped>\n",
              "    .dataframe tbody tr th:only-of-type {\n",
              "        vertical-align: middle;\n",
              "    }\n",
              "\n",
              "    .dataframe tbody tr th {\n",
              "        vertical-align: top;\n",
              "    }\n",
              "\n",
              "    .dataframe thead th {\n",
              "        text-align: right;\n",
              "    }\n",
              "</style>\n",
              "<table border=\"1\" class=\"dataframe\">\n",
              "  <thead>\n",
              "    <tr style=\"text-align: right;\">\n",
              "      <th></th>\n",
              "      <th>Unnamed: 0</th>\n",
              "      <th>summary</th>\n",
              "      <th>unigrams</th>\n",
              "      <th>sentences</th>\n",
              "      <th>lem_sent</th>\n",
              "      <th>genres</th>\n",
              "    </tr>\n",
              "  </thead>\n",
              "  <tbody>\n",
              "    <tr>\n",
              "      <th>0</th>\n",
              "      <td>0</td>\n",
              "      <td>Set in the second half of the 22nd century, th...</td>\n",
              "      <td>[set, second, half, 22nd, century, film, depic...</td>\n",
              "      <td>[Set in the second half of the 22nd century, t...</td>\n",
              "      <td>[[set, second, half, 22nd, century, film, depi...</td>\n",
              "      <td>[action, adventure, thriller, horror, science ...</td>\n",
              "    </tr>\n",
              "    <tr>\n",
              "      <th>1</th>\n",
              "      <td>1</td>\n",
              "      <td>Adam, a San Francisco-based artist who works a...</td>\n",
              "      <td>[adam, san, francisco, base, artist, work, cab...</td>\n",
              "      <td>[Adam, a San Francisco-based artist who works ...</td>\n",
              "      <td>[[adam, san, francisco, base, artist, work, ca...</td>\n",
              "      <td>[drama, comedy, romance]</td>\n",
              "    </tr>\n",
              "    <tr>\n",
              "      <th>2</th>\n",
              "      <td>2</td>\n",
              "      <td>The story starts as one of the robots flies i...</td>\n",
              "      <td>[story, start, robot, fly, scientist, secret, ...</td>\n",
              "      <td>[ The story starts as one of the robots flies ...</td>\n",
              "      <td>[[story, start, robot, fly, scientist, secret,...</td>\n",
              "      <td>[action, adventure, family, short film, scienc...</td>\n",
              "    </tr>\n",
              "    <tr>\n",
              "      <th>3</th>\n",
              "      <td>3</td>\n",
              "      <td>The film opens with Mary Poppins  perched in a...</td>\n",
              "      <td>[film, open, mary, poppins, perch, cloud, high...</td>\n",
              "      <td>[The film opens with Mary Poppins  perched in ...</td>\n",
              "      <td>[[film, open, mary, poppins, perch, cloud, hig...</td>\n",
              "      <td>[drama, comedy, family, fantasy]</td>\n",
              "    </tr>\n",
              "    <tr>\n",
              "      <th>4</th>\n",
              "      <td>4</td>\n",
              "      <td>A young 20-year-old named Jody  lives with his...</td>\n",
              "      <td>[young, 20, year, old, name, jody, live, mothe...</td>\n",
              "      <td>[A young 20-year-old named Jody  lives with hi...</td>\n",
              "      <td>[[young, 20, year, old, name, jody, live, moth...</td>\n",
              "      <td>[drama, crime]</td>\n",
              "    </tr>\n",
              "    <tr>\n",
              "      <th>...</th>\n",
              "      <td>...</td>\n",
              "      <td>...</td>\n",
              "      <td>...</td>\n",
              "      <td>...</td>\n",
              "      <td>...</td>\n",
              "      <td>...</td>\n",
              "    </tr>\n",
              "    <tr>\n",
              "      <th>16604</th>\n",
              "      <td>16604</td>\n",
              "      <td>Kalai Arasi' is a well-blended story of romanc...</td>\n",
              "      <td>[kalai, arasi, blend, story, romance, science,...</td>\n",
              "      <td>[Kalai Arasi' is a well-blended story of roman...</td>\n",
              "      <td>[[kalai, arasi, blend, story, romance, science...</td>\n",
              "      <td>[drama, action, romance, science fiction]</td>\n",
              "    </tr>\n",
              "    <tr>\n",
              "      <th>16605</th>\n",
              "      <td>16605</td>\n",
              "      <td>Jennifer Haines  is an up-and-coming Chicago a...</td>\n",
              "      <td>[jennifer, haines, come, chicago, attorney, wi...</td>\n",
              "      <td>[Jennifer Haines  is an up-and-coming Chicago ...</td>\n",
              "      <td>[[jennifer, haines, come, chicago, attorney], ...</td>\n",
              "      <td>[crime, thriller]</td>\n",
              "    </tr>\n",
              "    <tr>\n",
              "      <th>16606</th>\n",
              "      <td>16606</td>\n",
              "      <td>Kishan  killed a man in his childhood when the...</td>\n",
              "      <td>[kishan, kill, man, childhood, man, abuse, mot...</td>\n",
              "      <td>[Kishan  killed a man in his childhood when th...</td>\n",
              "      <td>[[kishan, kill, man, childhood, man, abuse, mo...</td>\n",
              "      <td>[drama, comedy, action, crime]</td>\n",
              "    </tr>\n",
              "    <tr>\n",
              "      <th>16607</th>\n",
              "      <td>16607</td>\n",
              "      <td>{{plot}} The film opens with a Great Western e...</td>\n",
              "      <td>[plot, film, open, great, western, express, sp...</td>\n",
              "      <td>[{{plot}} The film opens with a Great Western ...</td>\n",
              "      <td>[[plot, film, open, great, western, express, s...</td>\n",
              "      <td>[comedy, crime, thriller]</td>\n",
              "    </tr>\n",
              "    <tr>\n",
              "      <th>16608</th>\n",
              "      <td>16608</td>\n",
              "      <td>The story takes place in the year 2092,The Sup...</td>\n",
              "      <td>[story, take, place, year, 2092,the, super, di...</td>\n",
              "      <td>[The story takes place in the year 2092,The Su...</td>\n",
              "      <td>[[story, take, place, year, 2092,the, super, d...</td>\n",
              "      <td>[drama, adventure, short film, science fiction]</td>\n",
              "    </tr>\n",
              "  </tbody>\n",
              "</table>\n",
              "<p>16609 rows × 6 columns</p>\n",
              "</div>\n",
              "      <button class=\"colab-df-convert\" onclick=\"convertToInteractive('df-85722578-57ee-4382-9582-62be65ee3f18')\"\n",
              "              title=\"Convert this dataframe to an interactive table.\"\n",
              "              style=\"display:none;\">\n",
              "        \n",
              "  <svg xmlns=\"http://www.w3.org/2000/svg\" height=\"24px\"viewBox=\"0 0 24 24\"\n",
              "       width=\"24px\">\n",
              "    <path d=\"M0 0h24v24H0V0z\" fill=\"none\"/>\n",
              "    <path d=\"M18.56 5.44l.94 2.06.94-2.06 2.06-.94-2.06-.94-.94-2.06-.94 2.06-2.06.94zm-11 1L8.5 8.5l.94-2.06 2.06-.94-2.06-.94L8.5 2.5l-.94 2.06-2.06.94zm10 10l.94 2.06.94-2.06 2.06-.94-2.06-.94-.94-2.06-.94 2.06-2.06.94z\"/><path d=\"M17.41 7.96l-1.37-1.37c-.4-.4-.92-.59-1.43-.59-.52 0-1.04.2-1.43.59L10.3 9.45l-7.72 7.72c-.78.78-.78 2.05 0 2.83L4 21.41c.39.39.9.59 1.41.59.51 0 1.02-.2 1.41-.59l7.78-7.78 2.81-2.81c.8-.78.8-2.07 0-2.86zM5.41 20L4 18.59l7.72-7.72 1.47 1.35L5.41 20z\"/>\n",
              "  </svg>\n",
              "      </button>\n",
              "      \n",
              "  <style>\n",
              "    .colab-df-container {\n",
              "      display:flex;\n",
              "      flex-wrap:wrap;\n",
              "      gap: 12px;\n",
              "    }\n",
              "\n",
              "    .colab-df-convert {\n",
              "      background-color: #E8F0FE;\n",
              "      border: none;\n",
              "      border-radius: 50%;\n",
              "      cursor: pointer;\n",
              "      display: none;\n",
              "      fill: #1967D2;\n",
              "      height: 32px;\n",
              "      padding: 0 0 0 0;\n",
              "      width: 32px;\n",
              "    }\n",
              "\n",
              "    .colab-df-convert:hover {\n",
              "      background-color: #E2EBFA;\n",
              "      box-shadow: 0px 1px 2px rgba(60, 64, 67, 0.3), 0px 1px 3px 1px rgba(60, 64, 67, 0.15);\n",
              "      fill: #174EA6;\n",
              "    }\n",
              "\n",
              "    [theme=dark] .colab-df-convert {\n",
              "      background-color: #3B4455;\n",
              "      fill: #D2E3FC;\n",
              "    }\n",
              "\n",
              "    [theme=dark] .colab-df-convert:hover {\n",
              "      background-color: #434B5C;\n",
              "      box-shadow: 0px 1px 3px 1px rgba(0, 0, 0, 0.15);\n",
              "      filter: drop-shadow(0px 1px 2px rgba(0, 0, 0, 0.3));\n",
              "      fill: #FFFFFF;\n",
              "    }\n",
              "  </style>\n",
              "\n",
              "      <script>\n",
              "        const buttonEl =\n",
              "          document.querySelector('#df-85722578-57ee-4382-9582-62be65ee3f18 button.colab-df-convert');\n",
              "        buttonEl.style.display =\n",
              "          google.colab.kernel.accessAllowed ? 'block' : 'none';\n",
              "\n",
              "        async function convertToInteractive(key) {\n",
              "          const element = document.querySelector('#df-85722578-57ee-4382-9582-62be65ee3f18');\n",
              "          const dataTable =\n",
              "            await google.colab.kernel.invokeFunction('convertToInteractive',\n",
              "                                                     [key], {});\n",
              "          if (!dataTable) return;\n",
              "\n",
              "          const docLinkHtml = 'Like what you see? Visit the ' +\n",
              "            '<a target=\"_blank\" href=https://colab.research.google.com/notebooks/data_table.ipynb>data table notebook</a>'\n",
              "            + ' to learn more about interactive tables.';\n",
              "          element.innerHTML = '';\n",
              "          dataTable['output_type'] = 'display_data';\n",
              "          await google.colab.output.renderOutput(dataTable, element);\n",
              "          const docLink = document.createElement('div');\n",
              "          docLink.innerHTML = docLinkHtml;\n",
              "          element.appendChild(docLink);\n",
              "        }\n",
              "      </script>\n",
              "    </div>\n",
              "  </div>\n",
              "  "
            ]
          },
          "metadata": {},
          "execution_count": 11
        }
      ]
    },
    {
      "cell_type": "code",
      "source": [
        "# idk where the col comes from \n",
        "df.drop('Unnamed: 0', axis=1, inplace = True)"
      ],
      "metadata": {
        "id": "OqpcNAcUmD-G"
      },
      "execution_count": 16,
      "outputs": []
    },
    {
      "cell_type": "markdown",
      "source": [
        "## Sentence classification"
      ],
      "metadata": {
        "id": "enE6tNDxbqTq"
      }
    },
    {
      "cell_type": "code",
      "source": [
        "def flatten_sent(sentences):\n",
        "  return [\" \".join(sent) for sent in sentences]\n",
        "\n",
        "df[\"lem_sent_join\"] = df.lem_sent.apply(flatten_sent)\n",
        "\n",
        "df"
      ],
      "metadata": {
        "colab": {
          "base_uri": "https://localhost:8080/",
          "height": 641
        },
        "id": "CQYHfj2711Em",
        "outputId": "c5adeff7-f15c-49d1-ae9d-29652bcda2d2"
      },
      "execution_count": 18,
      "outputs": [
        {
          "output_type": "execute_result",
          "data": {
            "text/plain": [
              "                                                 summary  \\\n",
              "0      Set in the second half of the 22nd century, th...   \n",
              "1      Adam, a San Francisco-based artist who works a...   \n",
              "2       The story starts as one of the robots flies i...   \n",
              "3      The film opens with Mary Poppins  perched in a...   \n",
              "4      A young 20-year-old named Jody  lives with his...   \n",
              "...                                                  ...   \n",
              "16604  Kalai Arasi' is a well-blended story of romanc...   \n",
              "16605  Jennifer Haines  is an up-and-coming Chicago a...   \n",
              "16606  Kishan  killed a man in his childhood when the...   \n",
              "16607  {{plot}} The film opens with a Great Western e...   \n",
              "16608  The story takes place in the year 2092,The Sup...   \n",
              "\n",
              "                                                unigrams  \\\n",
              "0      [set, second, half, 22nd, century, film, depic...   \n",
              "1      [adam, san, francisco, base, artist, work, cab...   \n",
              "2      [story, start, robot, fly, scientist, secret, ...   \n",
              "3      [film, open, mary, poppins, perch, cloud, high...   \n",
              "4      [young, 20, year, old, name, jody, live, mothe...   \n",
              "...                                                  ...   \n",
              "16604  [kalai, arasi, blend, story, romance, science,...   \n",
              "16605  [jennifer, haines, come, chicago, attorney, wi...   \n",
              "16606  [kishan, kill, man, childhood, man, abuse, mot...   \n",
              "16607  [plot, film, open, great, western, express, sp...   \n",
              "16608  [story, take, place, year, 2092,the, super, di...   \n",
              "\n",
              "                                               sentences  \\\n",
              "0      [Set in the second half of the 22nd century, t...   \n",
              "1      [Adam, a San Francisco-based artist who works ...   \n",
              "2      [ The story starts as one of the robots flies ...   \n",
              "3      [The film opens with Mary Poppins  perched in ...   \n",
              "4      [A young 20-year-old named Jody  lives with hi...   \n",
              "...                                                  ...   \n",
              "16604  [Kalai Arasi' is a well-blended story of roman...   \n",
              "16605  [Jennifer Haines  is an up-and-coming Chicago ...   \n",
              "16606  [Kishan  killed a man in his childhood when th...   \n",
              "16607  [{{plot}} The film opens with a Great Western ...   \n",
              "16608  [The story takes place in the year 2092,The Su...   \n",
              "\n",
              "                                                lem_sent  \\\n",
              "0      [[set, second, half, 22nd, century, film, depi...   \n",
              "1      [[adam, san, francisco, base, artist, work, ca...   \n",
              "2      [[story, start, robot, fly, scientist, secret,...   \n",
              "3      [[film, open, mary, poppins, perch, cloud, hig...   \n",
              "4      [[young, 20, year, old, name, jody, live, moth...   \n",
              "...                                                  ...   \n",
              "16604  [[kalai, arasi, blend, story, romance, science...   \n",
              "16605  [[jennifer, haines, come, chicago, attorney], ...   \n",
              "16606  [[kishan, kill, man, childhood, man, abuse, mo...   \n",
              "16607  [[plot, film, open, great, western, express, s...   \n",
              "16608  [[story, take, place, year, 2092,the, super, d...   \n",
              "\n",
              "                                                  genres  \\\n",
              "0      [action, adventure, thriller, horror, science ...   \n",
              "1                               [drama, comedy, romance]   \n",
              "2      [action, adventure, family, short film, scienc...   \n",
              "3                       [drama, comedy, family, fantasy]   \n",
              "4                                         [drama, crime]   \n",
              "...                                                  ...   \n",
              "16604          [drama, action, romance, science fiction]   \n",
              "16605                                  [crime, thriller]   \n",
              "16606                     [drama, comedy, action, crime]   \n",
              "16607                          [comedy, crime, thriller]   \n",
              "16608    [drama, adventure, short film, science fiction]   \n",
              "\n",
              "                                           lem_sent_join  \n",
              "0      [set second half 22nd century film depict mars...  \n",
              "1      [adam san francisco base artist work cab drive...  \n",
              "2      [story start robot fly scientist secret lair u...  \n",
              "3      [film open mary poppins perch cloud high londo...  \n",
              "4      [young 20 year old name jody live mother juani...  \n",
              "...                                                  ...  \n",
              "16604  [kalai arasi blend story romance science ficti...  \n",
              "16605  [jennifer haines come chicago attorney, win bi...  \n",
              "16606  [kishan kill man childhood man abuse mother, g...  \n",
              "16607  [plot film open great western express speeding...  \n",
              "16608  [story take place year 2092,the super dimensio...  \n",
              "\n",
              "[16609 rows x 6 columns]"
            ],
            "text/html": [
              "\n",
              "  <div id=\"df-382892eb-7f0c-4918-b362-3f6c9a083fa9\">\n",
              "    <div class=\"colab-df-container\">\n",
              "      <div>\n",
              "<style scoped>\n",
              "    .dataframe tbody tr th:only-of-type {\n",
              "        vertical-align: middle;\n",
              "    }\n",
              "\n",
              "    .dataframe tbody tr th {\n",
              "        vertical-align: top;\n",
              "    }\n",
              "\n",
              "    .dataframe thead th {\n",
              "        text-align: right;\n",
              "    }\n",
              "</style>\n",
              "<table border=\"1\" class=\"dataframe\">\n",
              "  <thead>\n",
              "    <tr style=\"text-align: right;\">\n",
              "      <th></th>\n",
              "      <th>summary</th>\n",
              "      <th>unigrams</th>\n",
              "      <th>sentences</th>\n",
              "      <th>lem_sent</th>\n",
              "      <th>genres</th>\n",
              "      <th>lem_sent_join</th>\n",
              "    </tr>\n",
              "  </thead>\n",
              "  <tbody>\n",
              "    <tr>\n",
              "      <th>0</th>\n",
              "      <td>Set in the second half of the 22nd century, th...</td>\n",
              "      <td>[set, second, half, 22nd, century, film, depic...</td>\n",
              "      <td>[Set in the second half of the 22nd century, t...</td>\n",
              "      <td>[[set, second, half, 22nd, century, film, depi...</td>\n",
              "      <td>[action, adventure, thriller, horror, science ...</td>\n",
              "      <td>[set second half 22nd century film depict mars...</td>\n",
              "    </tr>\n",
              "    <tr>\n",
              "      <th>1</th>\n",
              "      <td>Adam, a San Francisco-based artist who works a...</td>\n",
              "      <td>[adam, san, francisco, base, artist, work, cab...</td>\n",
              "      <td>[Adam, a San Francisco-based artist who works ...</td>\n",
              "      <td>[[adam, san, francisco, base, artist, work, ca...</td>\n",
              "      <td>[drama, comedy, romance]</td>\n",
              "      <td>[adam san francisco base artist work cab drive...</td>\n",
              "    </tr>\n",
              "    <tr>\n",
              "      <th>2</th>\n",
              "      <td>The story starts as one of the robots flies i...</td>\n",
              "      <td>[story, start, robot, fly, scientist, secret, ...</td>\n",
              "      <td>[ The story starts as one of the robots flies ...</td>\n",
              "      <td>[[story, start, robot, fly, scientist, secret,...</td>\n",
              "      <td>[action, adventure, family, short film, scienc...</td>\n",
              "      <td>[story start robot fly scientist secret lair u...</td>\n",
              "    </tr>\n",
              "    <tr>\n",
              "      <th>3</th>\n",
              "      <td>The film opens with Mary Poppins  perched in a...</td>\n",
              "      <td>[film, open, mary, poppins, perch, cloud, high...</td>\n",
              "      <td>[The film opens with Mary Poppins  perched in ...</td>\n",
              "      <td>[[film, open, mary, poppins, perch, cloud, hig...</td>\n",
              "      <td>[drama, comedy, family, fantasy]</td>\n",
              "      <td>[film open mary poppins perch cloud high londo...</td>\n",
              "    </tr>\n",
              "    <tr>\n",
              "      <th>4</th>\n",
              "      <td>A young 20-year-old named Jody  lives with his...</td>\n",
              "      <td>[young, 20, year, old, name, jody, live, mothe...</td>\n",
              "      <td>[A young 20-year-old named Jody  lives with hi...</td>\n",
              "      <td>[[young, 20, year, old, name, jody, live, moth...</td>\n",
              "      <td>[drama, crime]</td>\n",
              "      <td>[young 20 year old name jody live mother juani...</td>\n",
              "    </tr>\n",
              "    <tr>\n",
              "      <th>...</th>\n",
              "      <td>...</td>\n",
              "      <td>...</td>\n",
              "      <td>...</td>\n",
              "      <td>...</td>\n",
              "      <td>...</td>\n",
              "      <td>...</td>\n",
              "    </tr>\n",
              "    <tr>\n",
              "      <th>16604</th>\n",
              "      <td>Kalai Arasi' is a well-blended story of romanc...</td>\n",
              "      <td>[kalai, arasi, blend, story, romance, science,...</td>\n",
              "      <td>[Kalai Arasi' is a well-blended story of roman...</td>\n",
              "      <td>[[kalai, arasi, blend, story, romance, science...</td>\n",
              "      <td>[drama, action, romance, science fiction]</td>\n",
              "      <td>[kalai arasi blend story romance science ficti...</td>\n",
              "    </tr>\n",
              "    <tr>\n",
              "      <th>16605</th>\n",
              "      <td>Jennifer Haines  is an up-and-coming Chicago a...</td>\n",
              "      <td>[jennifer, haines, come, chicago, attorney, wi...</td>\n",
              "      <td>[Jennifer Haines  is an up-and-coming Chicago ...</td>\n",
              "      <td>[[jennifer, haines, come, chicago, attorney], ...</td>\n",
              "      <td>[crime, thriller]</td>\n",
              "      <td>[jennifer haines come chicago attorney, win bi...</td>\n",
              "    </tr>\n",
              "    <tr>\n",
              "      <th>16606</th>\n",
              "      <td>Kishan  killed a man in his childhood when the...</td>\n",
              "      <td>[kishan, kill, man, childhood, man, abuse, mot...</td>\n",
              "      <td>[Kishan  killed a man in his childhood when th...</td>\n",
              "      <td>[[kishan, kill, man, childhood, man, abuse, mo...</td>\n",
              "      <td>[drama, comedy, action, crime]</td>\n",
              "      <td>[kishan kill man childhood man abuse mother, g...</td>\n",
              "    </tr>\n",
              "    <tr>\n",
              "      <th>16607</th>\n",
              "      <td>{{plot}} The film opens with a Great Western e...</td>\n",
              "      <td>[plot, film, open, great, western, express, sp...</td>\n",
              "      <td>[{{plot}} The film opens with a Great Western ...</td>\n",
              "      <td>[[plot, film, open, great, western, express, s...</td>\n",
              "      <td>[comedy, crime, thriller]</td>\n",
              "      <td>[plot film open great western express speeding...</td>\n",
              "    </tr>\n",
              "    <tr>\n",
              "      <th>16608</th>\n",
              "      <td>The story takes place in the year 2092,The Sup...</td>\n",
              "      <td>[story, take, place, year, 2092,the, super, di...</td>\n",
              "      <td>[The story takes place in the year 2092,The Su...</td>\n",
              "      <td>[[story, take, place, year, 2092,the, super, d...</td>\n",
              "      <td>[drama, adventure, short film, science fiction]</td>\n",
              "      <td>[story take place year 2092,the super dimensio...</td>\n",
              "    </tr>\n",
              "  </tbody>\n",
              "</table>\n",
              "<p>16609 rows × 6 columns</p>\n",
              "</div>\n",
              "      <button class=\"colab-df-convert\" onclick=\"convertToInteractive('df-382892eb-7f0c-4918-b362-3f6c9a083fa9')\"\n",
              "              title=\"Convert this dataframe to an interactive table.\"\n",
              "              style=\"display:none;\">\n",
              "        \n",
              "  <svg xmlns=\"http://www.w3.org/2000/svg\" height=\"24px\"viewBox=\"0 0 24 24\"\n",
              "       width=\"24px\">\n",
              "    <path d=\"M0 0h24v24H0V0z\" fill=\"none\"/>\n",
              "    <path d=\"M18.56 5.44l.94 2.06.94-2.06 2.06-.94-2.06-.94-.94-2.06-.94 2.06-2.06.94zm-11 1L8.5 8.5l.94-2.06 2.06-.94-2.06-.94L8.5 2.5l-.94 2.06-2.06.94zm10 10l.94 2.06.94-2.06 2.06-.94-2.06-.94-.94-2.06-.94 2.06-2.06.94z\"/><path d=\"M17.41 7.96l-1.37-1.37c-.4-.4-.92-.59-1.43-.59-.52 0-1.04.2-1.43.59L10.3 9.45l-7.72 7.72c-.78.78-.78 2.05 0 2.83L4 21.41c.39.39.9.59 1.41.59.51 0 1.02-.2 1.41-.59l7.78-7.78 2.81-2.81c.8-.78.8-2.07 0-2.86zM5.41 20L4 18.59l7.72-7.72 1.47 1.35L5.41 20z\"/>\n",
              "  </svg>\n",
              "      </button>\n",
              "      \n",
              "  <style>\n",
              "    .colab-df-container {\n",
              "      display:flex;\n",
              "      flex-wrap:wrap;\n",
              "      gap: 12px;\n",
              "    }\n",
              "\n",
              "    .colab-df-convert {\n",
              "      background-color: #E8F0FE;\n",
              "      border: none;\n",
              "      border-radius: 50%;\n",
              "      cursor: pointer;\n",
              "      display: none;\n",
              "      fill: #1967D2;\n",
              "      height: 32px;\n",
              "      padding: 0 0 0 0;\n",
              "      width: 32px;\n",
              "    }\n",
              "\n",
              "    .colab-df-convert:hover {\n",
              "      background-color: #E2EBFA;\n",
              "      box-shadow: 0px 1px 2px rgba(60, 64, 67, 0.3), 0px 1px 3px 1px rgba(60, 64, 67, 0.15);\n",
              "      fill: #174EA6;\n",
              "    }\n",
              "\n",
              "    [theme=dark] .colab-df-convert {\n",
              "      background-color: #3B4455;\n",
              "      fill: #D2E3FC;\n",
              "    }\n",
              "\n",
              "    [theme=dark] .colab-df-convert:hover {\n",
              "      background-color: #434B5C;\n",
              "      box-shadow: 0px 1px 3px 1px rgba(0, 0, 0, 0.15);\n",
              "      filter: drop-shadow(0px 1px 2px rgba(0, 0, 0, 0.3));\n",
              "      fill: #FFFFFF;\n",
              "    }\n",
              "  </style>\n",
              "\n",
              "      <script>\n",
              "        const buttonEl =\n",
              "          document.querySelector('#df-382892eb-7f0c-4918-b362-3f6c9a083fa9 button.colab-df-convert');\n",
              "        buttonEl.style.display =\n",
              "          google.colab.kernel.accessAllowed ? 'block' : 'none';\n",
              "\n",
              "        async function convertToInteractive(key) {\n",
              "          const element = document.querySelector('#df-382892eb-7f0c-4918-b362-3f6c9a083fa9');\n",
              "          const dataTable =\n",
              "            await google.colab.kernel.invokeFunction('convertToInteractive',\n",
              "                                                     [key], {});\n",
              "          if (!dataTable) return;\n",
              "\n",
              "          const docLinkHtml = 'Like what you see? Visit the ' +\n",
              "            '<a target=\"_blank\" href=https://colab.research.google.com/notebooks/data_table.ipynb>data table notebook</a>'\n",
              "            + ' to learn more about interactive tables.';\n",
              "          element.innerHTML = '';\n",
              "          dataTable['output_type'] = 'display_data';\n",
              "          await google.colab.output.renderOutput(dataTable, element);\n",
              "          const docLink = document.createElement('div');\n",
              "          docLink.innerHTML = docLinkHtml;\n",
              "          element.appendChild(docLink);\n",
              "        }\n",
              "      </script>\n",
              "    </div>\n",
              "  </div>\n",
              "  "
            ]
          },
          "metadata": {},
          "execution_count": 18
        }
      ]
    },
    {
      "cell_type": "code",
      "source": [
        "# make single list of sentences and genres for classification\n",
        "sentences = []\n",
        "sentence_genres = []\n",
        "\n",
        "for _, row in df.iterrows(): \n",
        "  sentences.extend(row['lem_sent_join'])\n",
        "  for sent in row['lem_sent_join']: \n",
        "    sentence_genres.append(row['genres'])"
      ],
      "metadata": {
        "id": "Q1mX4ss3vwlu"
      },
      "execution_count": 23,
      "outputs": []
    },
    {
      "cell_type": "code",
      "source": [
        "len(sentences) == len(sentence_genres)"
      ],
      "metadata": {
        "colab": {
          "base_uri": "https://localhost:8080/"
        },
        "id": "LafW5LH_7B4Q",
        "outputId": "e2e16e88-4e5d-47fa-9da2-f4fb0d0e195e"
      },
      "execution_count": 73,
      "outputs": [
        {
          "output_type": "execute_result",
          "data": {
            "text/plain": [
              "True"
            ]
          },
          "metadata": {},
          "execution_count": 73
        }
      ]
    },
    {
      "cell_type": "code",
      "source": [
        "len(sentences)"
      ],
      "metadata": {
        "id": "s79TcJCy1bN1",
        "colab": {
          "base_uri": "https://localhost:8080/"
        },
        "outputId": "cce9cae2-df4e-4e4a-9a25-d06c8c8c47b3"
      },
      "execution_count": 32,
      "outputs": [
        {
          "output_type": "execute_result",
          "data": {
            "text/plain": [
              "419443"
            ]
          },
          "metadata": {},
          "execution_count": 32
        }
      ]
    },
    {
      "cell_type": "code",
      "source": [
        "# feature vectorization\n",
        "from sklearn.feature_extraction.text import TfidfVectorizer\n",
        "\n",
        "vectorizer = TfidfVectorizer()\n",
        "X = vectorizer.fit_transform(sentences)\n",
        "\n",
        "X.shape"
      ],
      "metadata": {
        "id": "BZ_4ZGN-zo9y",
        "colab": {
          "base_uri": "https://localhost:8080/"
        },
        "outputId": "a7b313f9-608d-48c4-be85-ab00053cae83"
      },
      "execution_count": 29,
      "outputs": [
        {
          "output_type": "execute_result",
          "data": {
            "text/plain": [
              "(419443, 90419)"
            ]
          },
          "metadata": {},
          "execution_count": 29
        }
      ]
    },
    {
      "cell_type": "code",
      "source": [
        "from sklearn.preprocessing import MultiLabelBinarizer\n",
        "\n",
        "# Create MultiLabelBinarizer object\n",
        "mlb = MultiLabelBinarizer()\n",
        "\n",
        "# One-hot encode data\n",
        "y = mlb.fit_transform(sentence_genres)\n",
        "\n",
        "y.shape"
      ],
      "metadata": {
        "id": "BsbTPSnb4Mud",
        "colab": {
          "base_uri": "https://localhost:8080/"
        },
        "outputId": "23f2d908-9353-4fe5-b34c-1df9957249ae"
      },
      "execution_count": 58,
      "outputs": [
        {
          "output_type": "execute_result",
          "data": {
            "text/plain": [
              "(419443, 16)"
            ]
          },
          "metadata": {},
          "execution_count": 58
        }
      ]
    },
    {
      "cell_type": "code",
      "source": [
        "# build and train naive bayes model \n",
        "from sklearn.model_selection import train_test_split\n",
        "from sklearn.naive_bayes import MultinomialNB\n",
        "\n",
        "X_train, X_test, y_train, y_test = train_test_split(X, y, test_size=0.2, random_state = 42)\n",
        "mnb = MultinomialNB()\n",
        "\n",
        "multi_target_nb = MultiOutputClassifier(mnb, n_jobs=-1)\n",
        "multi_target_nb.fit(X_train, y_train)"
      ],
      "metadata": {
        "id": "prpXU65V5dBj",
        "colab": {
          "base_uri": "https://localhost:8080/"
        },
        "outputId": "263e0698-acf3-4078-9e89-f13ebba15744"
      },
      "execution_count": 37,
      "outputs": [
        {
          "output_type": "execute_result",
          "data": {
            "text/plain": [
              "MultiOutputClassifier(estimator=MultinomialNB(), n_jobs=-1)"
            ]
          },
          "metadata": {},
          "execution_count": 37
        }
      ]
    },
    {
      "cell_type": "code",
      "source": [
        "# predictions\n",
        "preds = multi_target_nb.predict(X_test)"
      ],
      "metadata": {
        "id": "2i-yTMVa7nw6"
      },
      "execution_count": 45,
      "outputs": []
    },
    {
      "cell_type": "code",
      "source": [
        "# metrics \n",
        "from sklearn.metrics import accuracy_score\n",
        "from sklearn.metrics import confusion_matrix\n",
        "from sklearn.metrics import f1_score\n",
        "from sklearn.metrics import jaccard_score\n",
        "\n",
        "\n",
        "acc = accuracy_score(y_test, preds)\n",
        "f1 = f1_score(y_test, preds, average = 'weighted') \n",
        "jacc = jaccard_score(y_test, preds, average='weighted')\n",
        "\n",
        "print(f\"accuracy is {acc}\")\n",
        "print(f\"f1 score is {f1}\")\n",
        "print(f\"jaccard score is {jacc}\")"
      ],
      "metadata": {
        "colab": {
          "base_uri": "https://localhost:8080/"
        },
        "id": "Ox2-dAMq76gS",
        "outputId": "5d99f395-c150-4092-85ec-59dbfd65e483"
      },
      "execution_count": 46,
      "outputs": [
        {
          "output_type": "stream",
          "name": "stdout",
          "text": [
            "accuracy is 0.1227455327873738\n",
            "f1 score is 0.4594634193552901\n",
            "jaccard score is 0.3212883245709924\n"
          ]
        }
      ]
    },
    {
      "cell_type": "code",
      "source": [
        "# metrics \n",
        "from sklearn.metrics import classification_report\n",
        "\n",
        "print(classification_report(y_test, preds))"
      ],
      "metadata": {
        "colab": {
          "base_uri": "https://localhost:8080/"
        },
        "id": "S9Rl8rIksLgX",
        "outputId": "fd70f78a-ebe1-48fe-8a98-c4e9bfaabada"
      },
      "execution_count": 48,
      "outputs": [
        {
          "output_type": "stream",
          "name": "stdout",
          "text": [
            "              precision    recall  f1-score   support\n",
            "\n",
            "           0       0.90      0.39      0.55     22984\n",
            "           1       0.94      0.21      0.35     12842\n",
            "           2       0.85      0.40      0.54     29347\n",
            "           3       0.93      0.18      0.31     16591\n",
            "           4       0.20      0.00      0.00       519\n",
            "           5       0.75      0.84      0.79     44833\n",
            "           6       0.93      0.18      0.31     13092\n",
            "           7       0.96      0.15      0.26      9078\n",
            "           8       0.95      0.12      0.22     11506\n",
            "           9       0.89      0.04      0.07      7539\n",
            "          10       0.85      0.26      0.40     20936\n",
            "          11       0.94      0.19      0.32      9251\n",
            "          12       0.94      0.09      0.17      4266\n",
            "          13       0.22      0.00      0.00      1494\n",
            "          14       0.90      0.30      0.45     23917\n",
            "          15       0.90      0.27      0.41     16414\n",
            "\n",
            "   micro avg       0.83      0.36      0.50    244609\n",
            "   macro avg       0.82      0.23      0.32    244609\n",
            "weighted avg       0.87      0.36      0.46    244609\n",
            " samples avg       0.65      0.37      0.45    244609\n",
            "\n"
          ]
        },
        {
          "output_type": "stream",
          "name": "stderr",
          "text": [
            "/usr/local/lib/python3.7/dist-packages/sklearn/metrics/_classification.py:1318: UndefinedMetricWarning: Precision and F-score are ill-defined and being set to 0.0 in samples with no predicted labels. Use `zero_division` parameter to control this behavior.\n",
            "  _warn_prf(average, modifier, msg_start, len(result))\n"
          ]
        }
      ]
    },
    {
      "cell_type": "code",
      "source": [
        "# confusion matrix\n",
        "from sklearn.metrics import multilabel_confusion_matrix\n",
        "import matplotlib.pyplot as plt\n",
        "import seaborn as sns\n",
        "import numpy as np \n",
        "\n",
        "conf = multilabel_confusion_matrix(y_test, preds)\n",
        "\n",
        "# turn one hot encoded vector back into original labels \n",
        "\n",
        "# make dummy array labeled with all genres\n",
        "arr = np.ones((1, y.shape[1]), dtype = int)\n",
        "\n",
        "# get genres, is 2d array so get first element \n",
        "cm_labels = mlb.inverse_transform(arr)[0]\n",
        "\n",
        "\n",
        "\n",
        "def print_confusion_matrix(confusion_matrix, axes, class_label, class_names, fontsize=14):\n",
        "\n",
        "    df_cm = pd.DataFrame(confusion_matrix, index=class_names, columns=class_names,)\n",
        "    heatmap = sns.heatmap(df_cm, annot=True, fmt=\"d\", cbar=False, ax=axes)\n",
        "    heatmap.yaxis.set_ticklabels(heatmap.yaxis.get_ticklabels(), rotation=0, ha='right', fontsize=fontsize)\n",
        "    heatmap.xaxis.set_ticklabels(heatmap.xaxis.get_ticklabels(), rotation=45, ha='right', fontsize=fontsize)\n",
        "    axes.set_ylabel('True label')\n",
        "    axes.set_xlabel('Predicted label')\n",
        "    axes.set_title(\"Confusion Matrix for the class - \" + class_label)\n",
        "\n",
        "fig, ax = plt.subplots(4, 4, figsize=(18, 7))\n",
        "    \n",
        "for axes, cfs_matrix, label in zip(ax.flatten(), conf, cm_labels):\n",
        "    print_confusion_matrix(cfs_matrix, axes, label, [\"N\", \"Y\"])\n",
        "    \n",
        "fig.tight_layout()\n",
        "plt.show()"
      ],
      "metadata": {
        "colab": {
          "base_uri": "https://localhost:8080/",
          "height": 513
        },
        "id": "X9rLI-nfshmE",
        "outputId": "f207af9d-a918-4255-839a-efddc293ca56"
      },
      "execution_count": 79,
      "outputs": [
        {
          "output_type": "display_data",
          "data": {
            "text/plain": [
              "<Figure size 1296x504 with 16 Axes>"
            ],
            "image/png": "[encoded data removed]"
          },
          "metadata": {
            "needs_background": "light"
          }
        }
      ]
    },
    {
      "cell_type": "markdown",
      "source": [
        "## Full Summary Classification\n"
      ],
      "metadata": {
        "id": "0pEMI9u8XdCq"
      }
    },
    {
      "cell_type": "code",
      "source": [
        "y_doc = df.genres.values\n",
        "\n",
        "print(y_doc.shape)\n",
        "\n",
        "y_doc"
      ],
      "metadata": {
        "id": "YHsjWWFPXf9g",
        "colab": {
          "base_uri": "https://localhost:8080/"
        },
        "outputId": "98babbb7-4d27-4e6a-c5db-94885aff29c6"
      },
      "execution_count": 116,
      "outputs": [
        {
          "output_type": "stream",
          "name": "stdout",
          "text": [
            "(16609,)\n"
          ]
        },
        {
          "output_type": "execute_result",
          "data": {
            "text/plain": [
              "array([list(['action', 'adventure', 'thriller', 'horror', 'science fiction']),\n",
              "       list(['drama', 'comedy', 'romance']),\n",
              "       list(['action', 'adventure', 'family', 'short film', 'science fiction', 'fantasy']),\n",
              "       ..., list(['drama', 'comedy', 'action', 'crime']),\n",
              "       list(['comedy', 'crime', 'thriller']),\n",
              "       list(['drama', 'adventure', 'short film', 'science fiction'])],\n",
              "      dtype=object)"
            ]
          },
          "metadata": {},
          "execution_count": 116
        }
      ]
    },
    {
      "cell_type": "code",
      "source": [
        "lst = []\n",
        "\n",
        "for _, row in df.iterrows():\n",
        "  strng = \" \".join(row['unigrams'])\n",
        "  lst.append(strng)\n",
        "\n",
        "lst[0]"
      ],
      "metadata": {
        "id": "7IbIbbB6qj7u",
        "colab": {
          "base_uri": "https://localhost:8080/",
          "height": 122
        },
        "outputId": "6601f0ce-fde5-45bf-f554-416426d41ab5"
      },
      "execution_count": 117,
      "outputs": [
        {
          "output_type": "execute_result",
          "data": {
            "text/plain": [
              "'set second half 22nd century film depict mars planet 84 terraforme allow human walk surface wear pressure suit martian society largely matriarchal woman position authority story concern police officer melanie ballard second command small team alongside sergeant jericho send pick transport prisoner name desolation williams arrive remote mining town williams hold ballard find virtually people miss learn miner discover underground doorway create ancient martian civilization door open release ghost disembodied spirit possess miner violence ensue possess miner commit horrific act death destruction self mutilation team leader helena bradock murder ballard fight attack miner escape town destroy ghost possible unfortunately intention complicate fact kill possess human merely release martian spirit possess human team eventually decide blow nuclear reactor try vaporize ghost point film sergeant jericho show romantic interest ballard unreciprocated ballard crew survivor manage gather jail eventually wipe miner fierce battle event leave williams sergeant jericho remain officer operator train kill return brief retreat finish fight want authority blame massacre handcuff ballard cot escape train leave return home deliver report receive skepticism superior ballard recuperate hospital release spirit destroy attack city end scene set movie sequel williams return team ballard fight possess'"
            ],
            "application/vnd.google.colaboratory.intrinsic+json": {
              "type": "string"
            }
          },
          "metadata": {},
          "execution_count": 117
        }
      ]
    },
    {
      "cell_type": "code",
      "source": [
        "len(lst)"
      ],
      "metadata": {
        "colab": {
          "base_uri": "https://localhost:8080/"
        },
        "id": "PJ45XK-Fwk7G",
        "outputId": "0ca55b64-a6cc-46b0-f34c-6712866af21b"
      },
      "execution_count": 118,
      "outputs": [
        {
          "output_type": "execute_result",
          "data": {
            "text/plain": [
              "16609"
            ]
          },
          "metadata": {},
          "execution_count": 118
        }
      ]
    },
    {
      "cell_type": "code",
      "source": [
        "from sklearn.preprocessing import MultiLabelBinarizer\n",
        "\n",
        "# Create MultiLabelBinarizer object\n",
        "mlb = MultiLabelBinarizer()\n",
        "\n",
        "# One-hot encode data\n",
        "y1 = mlb.fit_transform(y_doc)"
      ],
      "metadata": {
        "id": "R_4V3RS3x-Lh"
      },
      "execution_count": 119,
      "outputs": []
    },
    {
      "cell_type": "code",
      "source": [
        "from sklearn.model_selection import train_test_split\n",
        "\n",
        "X_train, X_test, y_train, y_test = train_test_split(lst, y1, test_size=0.2, random_state=123)"
      ],
      "metadata": {
        "id": "_xDhu-MPZ112"
      },
      "execution_count": 123,
      "outputs": []
    },
    {
      "cell_type": "code",
      "source": [
        "from sklearn.feature_extraction.text import TfidfVectorizer\n",
        "\n",
        "vectorizer = TfidfVectorizer()\n",
        "X_train = vectorizer.fit_transform(X_train)\n",
        "X_test = vectorizer.transform(X_test)"
      ],
      "metadata": {
        "id": "tTAHk4IJdmtt"
      },
      "execution_count": 124,
      "outputs": []
    },
    {
      "cell_type": "code",
      "source": [
        "from sklearn.multioutput import MultiOutputClassifier\n",
        "from sklearn.naive_bayes import MultinomialNB\n",
        "\n",
        "mnb = MultinomialNB()\n",
        "\n",
        "multi_target_nb = MultiOutputClassifier(mnb, n_jobs=-1)\n",
        "multi_target_nb.fit(X_train, y_train)"
      ],
      "metadata": {
        "colab": {
          "base_uri": "https://localhost:8080/"
        },
        "id": "oU2tfyxBxjBp",
        "outputId": "9d7272db-a9eb-4ca2-b1f4-97fa3f23e071"
      },
      "execution_count": 125,
      "outputs": [
        {
          "output_type": "execute_result",
          "data": {
            "text/plain": [
              "MultiOutputClassifier(estimator=MultinomialNB(), n_jobs=-1)"
            ]
          },
          "metadata": {},
          "execution_count": 125
        }
      ]
    },
    {
      "cell_type": "code",
      "source": [
        "preds = multi_target_nb.predict(X_test)"
      ],
      "metadata": {
        "id": "Di0YqJZAy-_v"
      },
      "execution_count": 126,
      "outputs": []
    },
    {
      "cell_type": "code",
      "source": [
        "from sklearn.metrics import accuracy_score\n",
        "from sklearn.metrics import confusion_matrix\n",
        "from sklearn.metrics import f1_score\n",
        "from sklearn.metrics import jaccard_score\n",
        "\n",
        "acc = accuracy_score(y_test, preds)\n",
        "f1 = f1_score(y_test, preds, average = 'weighted') \n",
        "jacc = jaccard_score(y_test, preds, average='weighted')\n",
        "\n",
        "\n",
        "print(f\"accuracy is {acc}\")\n",
        "print(f\"f1 score is {f1}\")\n",
        "print(f\"jaccard score is {jacc}\")"
      ],
      "metadata": {
        "colab": {
          "base_uri": "https://localhost:8080/"
        },
        "id": "M3Df_0AdzZzG",
        "outputId": "be8341b5-5b80-423f-eddf-1ea700901a99"
      },
      "execution_count": 127,
      "outputs": [
        {
          "output_type": "stream",
          "name": "stdout",
          "text": [
            "accuracy is 0.0009030704394942806\n",
            "f1 score is 0.17711355978308604\n",
            "jaccard score is 0.13895473146717494\n"
          ]
        }
      ]
    },
    {
      "cell_type": "code",
      "source": [
        "from sklearn.metrics import classification_report\n",
        "\n",
        "print(classification_report(y_test,preds))"
      ],
      "metadata": {
        "colab": {
          "base_uri": "https://localhost:8080/"
        },
        "id": "kbkFzwZ0ztbw",
        "outputId": "28a2ab73-4678-474f-b023-0c9848caa1f3"
      },
      "execution_count": 128,
      "outputs": [
        {
          "output_type": "stream",
          "name": "stdout",
          "text": [
            "              precision    recall  f1-score   support\n",
            "\n",
            "           0       1.00      0.00      0.00       839\n",
            "           1       0.00      0.00      0.00       451\n",
            "           2       0.89      0.09      0.16      1241\n",
            "           3       0.00      0.00      0.00       650\n",
            "           4       0.00      0.00      0.00        34\n",
            "           5       0.69      0.92      0.79      1822\n",
            "           6       1.00      0.02      0.04       472\n",
            "           7       0.00      0.00      0.00       280\n",
            "           8       0.00      0.00      0.00       368\n",
            "           9       0.00      0.00      0.00       272\n",
            "          10       0.00      0.00      0.00       818\n",
            "          11       0.00      0.00      0.00       312\n",
            "          12       0.00      0.00      0.00       244\n",
            "          13       0.00      0.00      0.00        65\n",
            "          14       1.00      0.00      0.00       852\n",
            "          15       0.00      0.00      0.00       640\n",
            "\n",
            "   micro avg       0.70      0.19      0.30      9360\n",
            "   macro avg       0.29      0.06      0.06      9360\n",
            "weighted avg       0.48      0.19      0.18      9360\n",
            " samples avg       0.54      0.21      0.30      9360\n",
            "\n"
          ]
        },
        {
          "output_type": "stream",
          "name": "stderr",
          "text": [
            "/usr/local/lib/python3.7/dist-packages/sklearn/metrics/_classification.py:1318: UndefinedMetricWarning: Precision and F-score are ill-defined and being set to 0.0 in labels with no predicted samples. Use `zero_division` parameter to control this behavior.\n",
            "  _warn_prf(average, modifier, msg_start, len(result))\n",
            "/usr/local/lib/python3.7/dist-packages/sklearn/metrics/_classification.py:1318: UndefinedMetricWarning: Precision and F-score are ill-defined and being set to 0.0 in samples with no predicted labels. Use `zero_division` parameter to control this behavior.\n",
            "  _warn_prf(average, modifier, msg_start, len(result))\n"
          ]
        }
      ]
    }
  ]
}