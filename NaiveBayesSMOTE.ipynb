{
  "nbformat": 4,
  "nbformat_minor": 0,
  "metadata": {
    "colab": {
      "name": "NaiveBayesSMOTE.ipynb",
      "provenance": [],
      "include_colab_link": true
    },
    "kernelspec": {
      "name": "python3",
      "display_name": "Python 3"
    },
    "language_info": {
      "name": "python"
    }
  },
  "cells": [
    {
      "cell_type": "markdown",
      "metadata": {
        "id": "view-in-github",
        "colab_type": "text"
      },
      "source": [
        "<a href=\"https://colab.research.google.com/github/CIT-NLP/NLP-final-project/blob/main/NaiveBayesSMOTE.ipynb\" target=\"_parent\"><img src=\"https://colab.research.google.com/assets/colab-badge.svg\" alt=\"Open In Colab\"/></a>"
      ]
    },
    {
      "cell_type": "code",
      "execution_count": 48,
      "metadata": {
        "colab": {
          "base_uri": "https://localhost:8080/"
        },
        "id": "MT7sJ3IJSAh-",
        "outputId": "bfcdff97-6e21-42ef-c430-c2e6c5cee222"
      },
      "outputs": [
        {
          "output_type": "stream",
          "name": "stdout",
          "text": [
            "Downloading...\n",
            "From: https://drive.google.com/uc?id=1fcBqqNnfu_EDbYW5IkiF8FYX5WSQDg3j\n",
            "To: /content/random_genre.csv\n",
            "100% 235M/235M [00:00<00:00, 238MB/s]\n",
            "Downloading...\n",
            "From: https://drive.google.com/uc?id=1qzdOfeIyjPkDl-RtpVhkaY08h3yizEdn\n",
            "To: /content/subset_genre.csv\n",
            "100% 99.1M/99.1M [00:00<00:00, 160MB/s]\n"
          ]
        }
      ],
      "source": [
        "!gdown https://drive.google.com/uc?id=1fcBqqNnfu_EDbYW5IkiF8FYX5WSQDg3j\n",
        "!gdown https://drive.google.com/uc?id=1qzdOfeIyjPkDl-RtpVhkaY08h3yizEdn"
      ]
    },
    {
      "cell_type": "code",
      "source": [
        "import pandas as pd\n",
        "from ast import literal_eval\n",
        "\n",
        "df_random = pd.read_csv(\"./random_genre.csv\")\n",
        "df_subset = pd.read_csv(\"./subset_genre.csv\")\n",
        "\n",
        "# interpret cols as lists instead of strings\n",
        "for col in ['unigrams', 'sentences', 'lem_sent', 'lem_sent_join']: \n",
        "  df_random[col] = df_random[col].apply(literal_eval)\n",
        "  df_subset[col] = df_subset[col].apply(literal_eval)\n"
      ],
      "metadata": {
        "id": "XnhhD_RDSCbL"
      },
      "execution_count": 49,
      "outputs": []
    },
    {
      "cell_type": "code",
      "source": [
        "df_random"
      ],
      "metadata": {
        "id": "6ra0Vmnz55ky",
        "outputId": "7f457599-6a5a-48af-ffc2-a4dc97b9ffb6",
        "colab": {
          "base_uri": "https://localhost:8080/",
          "height": 641
        }
      },
      "execution_count": 50,
      "outputs": [
        {
          "output_type": "execute_result",
          "data": {
            "text/plain": [
              "                                                 summary  \\\n",
              "0      A series of murders of rich young women throug...   \n",
              "1      Eva, an upper class housewife, becomes frustra...   \n",
              "2      Adam, a San Francisco-based artist who works a...   \n",
              "3       The story starts as one of the robots flies i...   \n",
              "4      The film opens with Mary Poppins  perched in a...   \n",
              "...                                                  ...   \n",
              "17419  Havoc is wrought on the inhabitants of a small...   \n",
              "17420  After accidentally causing the death of his pa...   \n",
              "17421  Kishan  killed a man in his childhood when the...   \n",
              "17422  {{plot}} The film opens with a Great Western e...   \n",
              "17423  The story takes place in the year 2092,The Sup...   \n",
              "\n",
              "                                                unigrams  \\\n",
              "0      [series, murder, rich, young, woman, arizona, ...   \n",
              "1      [eva, upper, class, housewife, frustrated, lea...   \n",
              "2      [adam, san, francisco, base, artist, work, cab...   \n",
              "3      [story, start, robot, fly, scientist, secret, ...   \n",
              "4      [film, open, mary, poppins, perch, cloud, high...   \n",
              "...                                                  ...   \n",
              "17419  [havoc, work, inhabitant, small, new, england,...   \n",
              "17420  [accidentally, cause, death, partner, hostage,...   \n",
              "17421  [kishan, kill, man, childhood, man, abuse, mot...   \n",
              "17422  [plot, film, open, great, western, express, sp...   \n",
              "17423  [story, take, place, year, 2092,the, super, di...   \n",
              "\n",
              "                                               sentences  \\\n",
              "0      [A series of murders of rich young women throu...   \n",
              "1      [Eva, an upper class housewife, becomes frustr...   \n",
              "2      [Adam, a San Francisco-based artist who works ...   \n",
              "3      [ The story starts as one of the robots flies ...   \n",
              "4      [The film opens with Mary Poppins  perched in ...   \n",
              "...                                                  ...   \n",
              "17419  [Havoc is wrought on the inhabitants of a smal...   \n",
              "17420  [After accidentally causing the death of his p...   \n",
              "17421  [Kishan  killed a man in his childhood when th...   \n",
              "17422  [{{plot}} The film opens with a Great Western ...   \n",
              "17423  [The story takes place in the year 2092,The Su...   \n",
              "\n",
              "                                                lem_sent  \\\n",
              "0      [[series, murder, rich, young, woman, arizona,...   \n",
              "1      [[eva, upper, class, housewife, frustrated, le...   \n",
              "2      [[adam, san, francisco, base, artist, work, ca...   \n",
              "3      [[story, start, robot, fly, scientist, secret,...   \n",
              "4      [[film, open, mary, poppins, perch, cloud, hig...   \n",
              "...                                                  ...   \n",
              "17419  [[havoc, work, inhabitant, small, new, england...   \n",
              "17420  [[accidentally, cause, death, partner, hostage...   \n",
              "17421  [[kishan, kill, man, childhood, man, abuse, mo...   \n",
              "17422  [[plot, film, open, great, western, express, s...   \n",
              "17423  [[story, take, place, year, 2092,the, super, d...   \n",
              "\n",
              "                                           lem_sent_join  \\\n",
              "0      [series murder rich young woman arizona bear d...   \n",
              "1      [eva upper class housewife frustrated leave ar...   \n",
              "2      [adam san francisco base artist work cab drive...   \n",
              "3      [story start robot fly scientist secret lair u...   \n",
              "4      [film open mary poppins perch cloud high londo...   \n",
              "...                                                  ...   \n",
              "17419  [havoc work inhabitant small new england town ...   \n",
              "17420  [accidentally cause death partner hostage situ...   \n",
              "17421  [kishan kill man childhood man abuse mother, g...   \n",
              "17422  [plot film open great western express speeding...   \n",
              "17423  [story take place year 2092,the super dimensio...   \n",
              "\n",
              "                                                    text     genre  \n",
              "0      series murder rich young woman arizona bear di...  thriller  \n",
              "1      eva upper class housewife frustrated leave arr...     drama  \n",
              "2      adam san francisco base artist work cab driver...     drama  \n",
              "3      story start robot fly scientist secret lair un...    action  \n",
              "4      film open mary poppins perch cloud high london...    comedy  \n",
              "...                                                  ...       ...  \n",
              "17419  havoc work inhabitant small new england town t...    comedy  \n",
              "17420  accidentally cause death partner hostage situa...    horror  \n",
              "17421  kishan kill man childhood man abuse mother go ...    comedy  \n",
              "17422  plot film open great western express speeding ...  thriller  \n",
              "17423  story take place year 2092,the super dimension...     drama  \n",
              "\n",
              "[17424 rows x 7 columns]"
            ],
            "text/html": [
              "\n",
              "  <div id=\"df-1e869cf1-04a5-418b-91e3-98b154ddf780\">\n",
              "    <div class=\"colab-df-container\">\n",
              "      <div>\n",
              "<style scoped>\n",
              "    .dataframe tbody tr th:only-of-type {\n",
              "        vertical-align: middle;\n",
              "    }\n",
              "\n",
              "    .dataframe tbody tr th {\n",
              "        vertical-align: top;\n",
              "    }\n",
              "\n",
              "    .dataframe thead th {\n",
              "        text-align: right;\n",
              "    }\n",
              "</style>\n",
              "<table border=\"1\" class=\"dataframe\">\n",
              "  <thead>\n",
              "    <tr style=\"text-align: right;\">\n",
              "      <th></th>\n",
              "      <th>summary</th>\n",
              "      <th>unigrams</th>\n",
              "      <th>sentences</th>\n",
              "      <th>lem_sent</th>\n",
              "      <th>lem_sent_join</th>\n",
              "      <th>text</th>\n",
              "      <th>genre</th>\n",
              "    </tr>\n",
              "  </thead>\n",
              "  <tbody>\n",
              "    <tr>\n",
              "      <th>0</th>\n",
              "      <td>A series of murders of rich young women throug...</td>\n",
              "      <td>[series, murder, rich, young, woman, arizona, ...</td>\n",
              "      <td>[A series of murders of rich young women throu...</td>\n",
              "      <td>[[series, murder, rich, young, woman, arizona,...</td>\n",
              "      <td>[series murder rich young woman arizona bear d...</td>\n",
              "      <td>series murder rich young woman arizona bear di...</td>\n",
              "      <td>thriller</td>\n",
              "    </tr>\n",
              "    <tr>\n",
              "      <th>1</th>\n",
              "      <td>Eva, an upper class housewife, becomes frustra...</td>\n",
              "      <td>[eva, upper, class, housewife, frustrated, lea...</td>\n",
              "      <td>[Eva, an upper class housewife, becomes frustr...</td>\n",
              "      <td>[[eva, upper, class, housewife, frustrated, le...</td>\n",
              "      <td>[eva upper class housewife frustrated leave ar...</td>\n",
              "      <td>eva upper class housewife frustrated leave arr...</td>\n",
              "      <td>drama</td>\n",
              "    </tr>\n",
              "    <tr>\n",
              "      <th>2</th>\n",
              "      <td>Adam, a San Francisco-based artist who works a...</td>\n",
              "      <td>[adam, san, francisco, base, artist, work, cab...</td>\n",
              "      <td>[Adam, a San Francisco-based artist who works ...</td>\n",
              "      <td>[[adam, san, francisco, base, artist, work, ca...</td>\n",
              "      <td>[adam san francisco base artist work cab drive...</td>\n",
              "      <td>adam san francisco base artist work cab driver...</td>\n",
              "      <td>drama</td>\n",
              "    </tr>\n",
              "    <tr>\n",
              "      <th>3</th>\n",
              "      <td>The story starts as one of the robots flies i...</td>\n",
              "      <td>[story, start, robot, fly, scientist, secret, ...</td>\n",
              "      <td>[ The story starts as one of the robots flies ...</td>\n",
              "      <td>[[story, start, robot, fly, scientist, secret,...</td>\n",
              "      <td>[story start robot fly scientist secret lair u...</td>\n",
              "      <td>story start robot fly scientist secret lair un...</td>\n",
              "      <td>action</td>\n",
              "    </tr>\n",
              "    <tr>\n",
              "      <th>4</th>\n",
              "      <td>The film opens with Mary Poppins  perched in a...</td>\n",
              "      <td>[film, open, mary, poppins, perch, cloud, high...</td>\n",
              "      <td>[The film opens with Mary Poppins  perched in ...</td>\n",
              "      <td>[[film, open, mary, poppins, perch, cloud, hig...</td>\n",
              "      <td>[film open mary poppins perch cloud high londo...</td>\n",
              "      <td>film open mary poppins perch cloud high london...</td>\n",
              "      <td>comedy</td>\n",
              "    </tr>\n",
              "    <tr>\n",
              "      <th>...</th>\n",
              "      <td>...</td>\n",
              "      <td>...</td>\n",
              "      <td>...</td>\n",
              "      <td>...</td>\n",
              "      <td>...</td>\n",
              "      <td>...</td>\n",
              "      <td>...</td>\n",
              "    </tr>\n",
              "    <tr>\n",
              "      <th>17419</th>\n",
              "      <td>Havoc is wrought on the inhabitants of a small...</td>\n",
              "      <td>[havoc, work, inhabitant, small, new, england,...</td>\n",
              "      <td>[Havoc is wrought on the inhabitants of a smal...</td>\n",
              "      <td>[[havoc, work, inhabitant, small, new, england...</td>\n",
              "      <td>[havoc work inhabitant small new england town ...</td>\n",
              "      <td>havoc work inhabitant small new england town t...</td>\n",
              "      <td>comedy</td>\n",
              "    </tr>\n",
              "    <tr>\n",
              "      <th>17420</th>\n",
              "      <td>After accidentally causing the death of his pa...</td>\n",
              "      <td>[accidentally, cause, death, partner, hostage,...</td>\n",
              "      <td>[After accidentally causing the death of his p...</td>\n",
              "      <td>[[accidentally, cause, death, partner, hostage...</td>\n",
              "      <td>[accidentally cause death partner hostage situ...</td>\n",
              "      <td>accidentally cause death partner hostage situa...</td>\n",
              "      <td>horror</td>\n",
              "    </tr>\n",
              "    <tr>\n",
              "      <th>17421</th>\n",
              "      <td>Kishan  killed a man in his childhood when the...</td>\n",
              "      <td>[kishan, kill, man, childhood, man, abuse, mot...</td>\n",
              "      <td>[Kishan  killed a man in his childhood when th...</td>\n",
              "      <td>[[kishan, kill, man, childhood, man, abuse, mo...</td>\n",
              "      <td>[kishan kill man childhood man abuse mother, g...</td>\n",
              "      <td>kishan kill man childhood man abuse mother go ...</td>\n",
              "      <td>comedy</td>\n",
              "    </tr>\n",
              "    <tr>\n",
              "      <th>17422</th>\n",
              "      <td>{{plot}} The film opens with a Great Western e...</td>\n",
              "      <td>[plot, film, open, great, western, express, sp...</td>\n",
              "      <td>[{{plot}} The film opens with a Great Western ...</td>\n",
              "      <td>[[plot, film, open, great, western, express, s...</td>\n",
              "      <td>[plot film open great western express speeding...</td>\n",
              "      <td>plot film open great western express speeding ...</td>\n",
              "      <td>thriller</td>\n",
              "    </tr>\n",
              "    <tr>\n",
              "      <th>17423</th>\n",
              "      <td>The story takes place in the year 2092,The Sup...</td>\n",
              "      <td>[story, take, place, year, 2092,the, super, di...</td>\n",
              "      <td>[The story takes place in the year 2092,The Su...</td>\n",
              "      <td>[[story, take, place, year, 2092,the, super, d...</td>\n",
              "      <td>[story take place year 2092,the super dimensio...</td>\n",
              "      <td>story take place year 2092,the super dimension...</td>\n",
              "      <td>drama</td>\n",
              "    </tr>\n",
              "  </tbody>\n",
              "</table>\n",
              "<p>17424 rows × 7 columns</p>\n",
              "</div>\n",
              "      <button class=\"colab-df-convert\" onclick=\"convertToInteractive('df-1e869cf1-04a5-418b-91e3-98b154ddf780')\"\n",
              "              title=\"Convert this dataframe to an interactive table.\"\n",
              "              style=\"display:none;\">\n",
              "        \n",
              "  <svg xmlns=\"http://www.w3.org/2000/svg\" height=\"24px\"viewBox=\"0 0 24 24\"\n",
              "       width=\"24px\">\n",
              "    <path d=\"M0 0h24v24H0V0z\" fill=\"none\"/>\n",
              "    <path d=\"M18.56 5.44l.94 2.06.94-2.06 2.06-.94-2.06-.94-.94-2.06-.94 2.06-2.06.94zm-11 1L8.5 8.5l.94-2.06 2.06-.94-2.06-.94L8.5 2.5l-.94 2.06-2.06.94zm10 10l.94 2.06.94-2.06 2.06-.94-2.06-.94-.94-2.06-.94 2.06-2.06.94z\"/><path d=\"M17.41 7.96l-1.37-1.37c-.4-.4-.92-.59-1.43-.59-.52 0-1.04.2-1.43.59L10.3 9.45l-7.72 7.72c-.78.78-.78 2.05 0 2.83L4 21.41c.39.39.9.59 1.41.59.51 0 1.02-.2 1.41-.59l7.78-7.78 2.81-2.81c.8-.78.8-2.07 0-2.86zM5.41 20L4 18.59l7.72-7.72 1.47 1.35L5.41 20z\"/>\n",
              "  </svg>\n",
              "      </button>\n",
              "      \n",
              "  <style>\n",
              "    .colab-df-container {\n",
              "      display:flex;\n",
              "      flex-wrap:wrap;\n",
              "      gap: 12px;\n",
              "    }\n",
              "\n",
              "    .colab-df-convert {\n",
              "      background-color: #E8F0FE;\n",
              "      border: none;\n",
              "      border-radius: 50%;\n",
              "      cursor: pointer;\n",
              "      display: none;\n",
              "      fill: #1967D2;\n",
              "      height: 32px;\n",
              "      padding: 0 0 0 0;\n",
              "      width: 32px;\n",
              "    }\n",
              "\n",
              "    .colab-df-convert:hover {\n",
              "      background-color: #E2EBFA;\n",
              "      box-shadow: 0px 1px 2px rgba(60, 64, 67, 0.3), 0px 1px 3px 1px rgba(60, 64, 67, 0.15);\n",
              "      fill: #174EA6;\n",
              "    }\n",
              "\n",
              "    [theme=dark] .colab-df-convert {\n",
              "      background-color: #3B4455;\n",
              "      fill: #D2E3FC;\n",
              "    }\n",
              "\n",
              "    [theme=dark] .colab-df-convert:hover {\n",
              "      background-color: #434B5C;\n",
              "      box-shadow: 0px 1px 3px 1px rgba(0, 0, 0, 0.15);\n",
              "      filter: drop-shadow(0px 1px 2px rgba(0, 0, 0, 0.3));\n",
              "      fill: #FFFFFF;\n",
              "    }\n",
              "  </style>\n",
              "\n",
              "      <script>\n",
              "        const buttonEl =\n",
              "          document.querySelector('#df-1e869cf1-04a5-418b-91e3-98b154ddf780 button.colab-df-convert');\n",
              "        buttonEl.style.display =\n",
              "          google.colab.kernel.accessAllowed ? 'block' : 'none';\n",
              "\n",
              "        async function convertToInteractive(key) {\n",
              "          const element = document.querySelector('#df-1e869cf1-04a5-418b-91e3-98b154ddf780');\n",
              "          const dataTable =\n",
              "            await google.colab.kernel.invokeFunction('convertToInteractive',\n",
              "                                                     [key], {});\n",
              "          if (!dataTable) return;\n",
              "\n",
              "          const docLinkHtml = 'Like what you see? Visit the ' +\n",
              "            '<a target=\"_blank\" href=https://colab.research.google.com/notebooks/data_table.ipynb>data table notebook</a>'\n",
              "            + ' to learn more about interactive tables.';\n",
              "          element.innerHTML = '';\n",
              "          dataTable['output_type'] = 'display_data';\n",
              "          await google.colab.output.renderOutput(dataTable, element);\n",
              "          const docLink = document.createElement('div');\n",
              "          docLink.innerHTML = docLinkHtml;\n",
              "          element.appendChild(docLink);\n",
              "        }\n",
              "      </script>\n",
              "    </div>\n",
              "  </div>\n",
              "  "
            ]
          },
          "metadata": {},
          "execution_count": 50
        }
      ]
    },
    {
      "cell_type": "code",
      "source": [
        "df_subset"
      ],
      "metadata": {
        "id": "tSwikWT-BZEq",
        "outputId": "a8f1bd66-de7e-451a-9302-3e7cad7602cd",
        "colab": {
          "base_uri": "https://localhost:8080/",
          "height": 641
        }
      },
      "execution_count": 51,
      "outputs": [
        {
          "output_type": "execute_result",
          "data": {
            "text/plain": [
              "                                                summary  \\\n",
              "0     The film begins with Joshua  and his boss Vinc...   \n",
              "1     The ordinary life of surgeon Bruno Hamel  is d...   \n",
              "2     Terence Stamp plays a mysterious figure who ap...   \n",
              "3     A Russian defector lands a jet on an American ...   \n",
              "4     On 6 September 1950, an exhausted platoon of t...   \n",
              "...                                                 ...   \n",
              "6973   In the year 2002, Evan Treborn  frequently su...   \n",
              "6974  Ricardo Caicedo is a well-to-do businessman in...   \n",
              "6975  For the past 33 years Jeremiah Hill has lived ...   \n",
              "6976  In swinging London, a group of twenty-somethin...   \n",
              "6977  Rehan  is sent to a mansion by his father , wh...   \n",
              "\n",
              "                                               unigrams  \\\n",
              "0     [film, begin, joshua, boss, vincent, drive, ho...   \n",
              "1     [ordinary, life, surgeon, bruno, hamel, destro...   \n",
              "2     [terence, stamp, play, mysterious, figure, app...   \n",
              "3     [russian, defector, land, jet, american, airst...   \n",
              "4     [6, september, 1950, exhausted, platoon, 24th,...   \n",
              "...                                                 ...   \n",
              "6973  [year, 2002, evan, treborn, frequently, suffer...   \n",
              "6974  [ricardo, caicedo, businessman, bogotá, appear...   \n",
              "6975  [past, 33, year, jeremiah, hill, live, contact...   \n",
              "6976  [swinge, london, group, friend, attend, dull, ...   \n",
              "6977  [rehan, send, mansion, father, real, estate, b...   \n",
              "\n",
              "                                              sentences  \\\n",
              "0     [The film begins with Joshua  and his boss Vin...   \n",
              "1     [The ordinary life of surgeon Bruno Hamel  is ...   \n",
              "2     [Terence Stamp plays a mysterious figure who a...   \n",
              "3     [A Russian defector lands a jet on an American...   \n",
              "4     [On 6 September 1950, an exhausted platoon of ...   \n",
              "...                                                 ...   \n",
              "6973  [ In the year 2002, Evan Treborn  frequently s...   \n",
              "6974  [Ricardo Caicedo is a well-to-do businessman i...   \n",
              "6975  [For the past 33 years Jeremiah Hill has lived...   \n",
              "6976  [In swinging London, a group of twenty-somethi...   \n",
              "6977  [Rehan  is sent to a mansion by his father , w...   \n",
              "\n",
              "                                               lem_sent  \\\n",
              "0     [[film, begin, joshua, boss, vincent, drive, h...   \n",
              "1     [[ordinary, life, surgeon, bruno, hamel, destr...   \n",
              "2     [[terence, stamp, play, mysterious, figure, ap...   \n",
              "3     [[russian, defector, land, jet, american, airs...   \n",
              "4     [[6, september, 1950, exhausted, platoon, 24th...   \n",
              "...                                                 ...   \n",
              "6973  [[year, 2002, evan, treborn, frequently, suffe...   \n",
              "6974  [[ricardo, caicedo, businessman, bogotá, appea...   \n",
              "6975  [[past, 33, year, jeremiah, hill, live, contac...   \n",
              "6976  [[swinge, london, group, friend, attend, dull,...   \n",
              "6977  [[rehan, send, mansion, father, real, estate, ...   \n",
              "\n",
              "                                          lem_sent_join  \\\n",
              "0     [film begin joshua boss vincent drive hospital...   \n",
              "1     [ordinary life surgeon bruno hamel destroy dau...   \n",
              "2     [terence stamp play mysterious figure appear l...   \n",
              "3     [russian defector land jet american airstrip, ...   \n",
              "4     [6 september 1950 exhausted platoon 24th infan...   \n",
              "...                                                 ...   \n",
              "6973  [year 2002 evan treborn frequently suffer blac...   \n",
              "6974  [ricardo caicedo businessman bogotá appearance...   \n",
              "6975  [past 33 year jeremiah hill live contact outsi...   \n",
              "6976  [swinge london group friend attend dull party ...   \n",
              "6977  [rehan send mansion father real estate busines...   \n",
              "\n",
              "                                                   text     genre  \n",
              "0     film begin joshua boss vincent drive hospital ...     drama  \n",
              "1     ordinary life surgeon bruno hamel destroy daug...     drama  \n",
              "2     terence stamp play mysterious figure appear li...     drama  \n",
              "3     russian defector land jet american airstrip ba...     drama  \n",
              "4     6 september 1950 exhausted platoon 24th infant...     drama  \n",
              "...                                                 ...       ...  \n",
              "6973  year 2002 evan treborn frequently suffer black...  thriller  \n",
              "6974  ricardo caicedo businessman bogotá appearance ...  thriller  \n",
              "6975  past 33 year jeremiah hill live contact outsid...  thriller  \n",
              "6976  swinge london group friend attend dull party d...  thriller  \n",
              "6977  rehan send mansion father real estate business...  thriller  \n",
              "\n",
              "[6978 rows x 7 columns]"
            ],
            "text/html": [
              "\n",
              "  <div id=\"df-bfb41466-fc28-4120-b906-a02bad3fce66\">\n",
              "    <div class=\"colab-df-container\">\n",
              "      <div>\n",
              "<style scoped>\n",
              "    .dataframe tbody tr th:only-of-type {\n",
              "        vertical-align: middle;\n",
              "    }\n",
              "\n",
              "    .dataframe tbody tr th {\n",
              "        vertical-align: top;\n",
              "    }\n",
              "\n",
              "    .dataframe thead th {\n",
              "        text-align: right;\n",
              "    }\n",
              "</style>\n",
              "<table border=\"1\" class=\"dataframe\">\n",
              "  <thead>\n",
              "    <tr style=\"text-align: right;\">\n",
              "      <th></th>\n",
              "      <th>summary</th>\n",
              "      <th>unigrams</th>\n",
              "      <th>sentences</th>\n",
              "      <th>lem_sent</th>\n",
              "      <th>lem_sent_join</th>\n",
              "      <th>text</th>\n",
              "      <th>genre</th>\n",
              "    </tr>\n",
              "  </thead>\n",
              "  <tbody>\n",
              "    <tr>\n",
              "      <th>0</th>\n",
              "      <td>The film begins with Joshua  and his boss Vinc...</td>\n",
              "      <td>[film, begin, joshua, boss, vincent, drive, ho...</td>\n",
              "      <td>[The film begins with Joshua  and his boss Vin...</td>\n",
              "      <td>[[film, begin, joshua, boss, vincent, drive, h...</td>\n",
              "      <td>[film begin joshua boss vincent drive hospital...</td>\n",
              "      <td>film begin joshua boss vincent drive hospital ...</td>\n",
              "      <td>drama</td>\n",
              "    </tr>\n",
              "    <tr>\n",
              "      <th>1</th>\n",
              "      <td>The ordinary life of surgeon Bruno Hamel  is d...</td>\n",
              "      <td>[ordinary, life, surgeon, bruno, hamel, destro...</td>\n",
              "      <td>[The ordinary life of surgeon Bruno Hamel  is ...</td>\n",
              "      <td>[[ordinary, life, surgeon, bruno, hamel, destr...</td>\n",
              "      <td>[ordinary life surgeon bruno hamel destroy dau...</td>\n",
              "      <td>ordinary life surgeon bruno hamel destroy daug...</td>\n",
              "      <td>drama</td>\n",
              "    </tr>\n",
              "    <tr>\n",
              "      <th>2</th>\n",
              "      <td>Terence Stamp plays a mysterious figure who ap...</td>\n",
              "      <td>[terence, stamp, play, mysterious, figure, app...</td>\n",
              "      <td>[Terence Stamp plays a mysterious figure who a...</td>\n",
              "      <td>[[terence, stamp, play, mysterious, figure, ap...</td>\n",
              "      <td>[terence stamp play mysterious figure appear l...</td>\n",
              "      <td>terence stamp play mysterious figure appear li...</td>\n",
              "      <td>drama</td>\n",
              "    </tr>\n",
              "    <tr>\n",
              "      <th>3</th>\n",
              "      <td>A Russian defector lands a jet on an American ...</td>\n",
              "      <td>[russian, defector, land, jet, american, airst...</td>\n",
              "      <td>[A Russian defector lands a jet on an American...</td>\n",
              "      <td>[[russian, defector, land, jet, american, airs...</td>\n",
              "      <td>[russian defector land jet american airstrip, ...</td>\n",
              "      <td>russian defector land jet american airstrip ba...</td>\n",
              "      <td>drama</td>\n",
              "    </tr>\n",
              "    <tr>\n",
              "      <th>4</th>\n",
              "      <td>On 6 September 1950, an exhausted platoon of t...</td>\n",
              "      <td>[6, september, 1950, exhausted, platoon, 24th,...</td>\n",
              "      <td>[On 6 September 1950, an exhausted platoon of ...</td>\n",
              "      <td>[[6, september, 1950, exhausted, platoon, 24th...</td>\n",
              "      <td>[6 september 1950 exhausted platoon 24th infan...</td>\n",
              "      <td>6 september 1950 exhausted platoon 24th infant...</td>\n",
              "      <td>drama</td>\n",
              "    </tr>\n",
              "    <tr>\n",
              "      <th>...</th>\n",
              "      <td>...</td>\n",
              "      <td>...</td>\n",
              "      <td>...</td>\n",
              "      <td>...</td>\n",
              "      <td>...</td>\n",
              "      <td>...</td>\n",
              "      <td>...</td>\n",
              "    </tr>\n",
              "    <tr>\n",
              "      <th>6973</th>\n",
              "      <td>In the year 2002, Evan Treborn  frequently su...</td>\n",
              "      <td>[year, 2002, evan, treborn, frequently, suffer...</td>\n",
              "      <td>[ In the year 2002, Evan Treborn  frequently s...</td>\n",
              "      <td>[[year, 2002, evan, treborn, frequently, suffe...</td>\n",
              "      <td>[year 2002 evan treborn frequently suffer blac...</td>\n",
              "      <td>year 2002 evan treborn frequently suffer black...</td>\n",
              "      <td>thriller</td>\n",
              "    </tr>\n",
              "    <tr>\n",
              "      <th>6974</th>\n",
              "      <td>Ricardo Caicedo is a well-to-do businessman in...</td>\n",
              "      <td>[ricardo, caicedo, businessman, bogotá, appear...</td>\n",
              "      <td>[Ricardo Caicedo is a well-to-do businessman i...</td>\n",
              "      <td>[[ricardo, caicedo, businessman, bogotá, appea...</td>\n",
              "      <td>[ricardo caicedo businessman bogotá appearance...</td>\n",
              "      <td>ricardo caicedo businessman bogotá appearance ...</td>\n",
              "      <td>thriller</td>\n",
              "    </tr>\n",
              "    <tr>\n",
              "      <th>6975</th>\n",
              "      <td>For the past 33 years Jeremiah Hill has lived ...</td>\n",
              "      <td>[past, 33, year, jeremiah, hill, live, contact...</td>\n",
              "      <td>[For the past 33 years Jeremiah Hill has lived...</td>\n",
              "      <td>[[past, 33, year, jeremiah, hill, live, contac...</td>\n",
              "      <td>[past 33 year jeremiah hill live contact outsi...</td>\n",
              "      <td>past 33 year jeremiah hill live contact outsid...</td>\n",
              "      <td>thriller</td>\n",
              "    </tr>\n",
              "    <tr>\n",
              "      <th>6976</th>\n",
              "      <td>In swinging London, a group of twenty-somethin...</td>\n",
              "      <td>[swinge, london, group, friend, attend, dull, ...</td>\n",
              "      <td>[In swinging London, a group of twenty-somethi...</td>\n",
              "      <td>[[swinge, london, group, friend, attend, dull,...</td>\n",
              "      <td>[swinge london group friend attend dull party ...</td>\n",
              "      <td>swinge london group friend attend dull party d...</td>\n",
              "      <td>thriller</td>\n",
              "    </tr>\n",
              "    <tr>\n",
              "      <th>6977</th>\n",
              "      <td>Rehan  is sent to a mansion by his father , wh...</td>\n",
              "      <td>[rehan, send, mansion, father, real, estate, b...</td>\n",
              "      <td>[Rehan  is sent to a mansion by his father , w...</td>\n",
              "      <td>[[rehan, send, mansion, father, real, estate, ...</td>\n",
              "      <td>[rehan send mansion father real estate busines...</td>\n",
              "      <td>rehan send mansion father real estate business...</td>\n",
              "      <td>thriller</td>\n",
              "    </tr>\n",
              "  </tbody>\n",
              "</table>\n",
              "<p>6978 rows × 7 columns</p>\n",
              "</div>\n",
              "      <button class=\"colab-df-convert\" onclick=\"convertToInteractive('df-bfb41466-fc28-4120-b906-a02bad3fce66')\"\n",
              "              title=\"Convert this dataframe to an interactive table.\"\n",
              "              style=\"display:none;\">\n",
              "        \n",
              "  <svg xmlns=\"http://www.w3.org/2000/svg\" height=\"24px\"viewBox=\"0 0 24 24\"\n",
              "       width=\"24px\">\n",
              "    <path d=\"M0 0h24v24H0V0z\" fill=\"none\"/>\n",
              "    <path d=\"M18.56 5.44l.94 2.06.94-2.06 2.06-.94-2.06-.94-.94-2.06-.94 2.06-2.06.94zm-11 1L8.5 8.5l.94-2.06 2.06-.94-2.06-.94L8.5 2.5l-.94 2.06-2.06.94zm10 10l.94 2.06.94-2.06 2.06-.94-2.06-.94-.94-2.06-.94 2.06-2.06.94z\"/><path d=\"M17.41 7.96l-1.37-1.37c-.4-.4-.92-.59-1.43-.59-.52 0-1.04.2-1.43.59L10.3 9.45l-7.72 7.72c-.78.78-.78 2.05 0 2.83L4 21.41c.39.39.9.59 1.41.59.51 0 1.02-.2 1.41-.59l7.78-7.78 2.81-2.81c.8-.78.8-2.07 0-2.86zM5.41 20L4 18.59l7.72-7.72 1.47 1.35L5.41 20z\"/>\n",
              "  </svg>\n",
              "      </button>\n",
              "      \n",
              "  <style>\n",
              "    .colab-df-container {\n",
              "      display:flex;\n",
              "      flex-wrap:wrap;\n",
              "      gap: 12px;\n",
              "    }\n",
              "\n",
              "    .colab-df-convert {\n",
              "      background-color: #E8F0FE;\n",
              "      border: none;\n",
              "      border-radius: 50%;\n",
              "      cursor: pointer;\n",
              "      display: none;\n",
              "      fill: #1967D2;\n",
              "      height: 32px;\n",
              "      padding: 0 0 0 0;\n",
              "      width: 32px;\n",
              "    }\n",
              "\n",
              "    .colab-df-convert:hover {\n",
              "      background-color: #E2EBFA;\n",
              "      box-shadow: 0px 1px 2px rgba(60, 64, 67, 0.3), 0px 1px 3px 1px rgba(60, 64, 67, 0.15);\n",
              "      fill: #174EA6;\n",
              "    }\n",
              "\n",
              "    [theme=dark] .colab-df-convert {\n",
              "      background-color: #3B4455;\n",
              "      fill: #D2E3FC;\n",
              "    }\n",
              "\n",
              "    [theme=dark] .colab-df-convert:hover {\n",
              "      background-color: #434B5C;\n",
              "      box-shadow: 0px 1px 3px 1px rgba(0, 0, 0, 0.15);\n",
              "      filter: drop-shadow(0px 1px 2px rgba(0, 0, 0, 0.3));\n",
              "      fill: #FFFFFF;\n",
              "    }\n",
              "  </style>\n",
              "\n",
              "      <script>\n",
              "        const buttonEl =\n",
              "          document.querySelector('#df-bfb41466-fc28-4120-b906-a02bad3fce66 button.colab-df-convert');\n",
              "        buttonEl.style.display =\n",
              "          google.colab.kernel.accessAllowed ? 'block' : 'none';\n",
              "\n",
              "        async function convertToInteractive(key) {\n",
              "          const element = document.querySelector('#df-bfb41466-fc28-4120-b906-a02bad3fce66');\n",
              "          const dataTable =\n",
              "            await google.colab.kernel.invokeFunction('convertToInteractive',\n",
              "                                                     [key], {});\n",
              "          if (!dataTable) return;\n",
              "\n",
              "          const docLinkHtml = 'Like what you see? Visit the ' +\n",
              "            '<a target=\"_blank\" href=https://colab.research.google.com/notebooks/data_table.ipynb>data table notebook</a>'\n",
              "            + ' to learn more about interactive tables.';\n",
              "          element.innerHTML = '';\n",
              "          dataTable['output_type'] = 'display_data';\n",
              "          await google.colab.output.renderOutput(dataTable, element);\n",
              "          const docLink = document.createElement('div');\n",
              "          docLink.innerHTML = docLinkHtml;\n",
              "          element.appendChild(docLink);\n",
              "        }\n",
              "      </script>\n",
              "    </div>\n",
              "  </div>\n",
              "  "
            ]
          },
          "metadata": {},
          "execution_count": 51
        }
      ]
    },
    {
      "cell_type": "code",
      "source": [
        "print(df_random.genre.value_counts())\n",
        "print()\n",
        "print(df_subset.genre.value_counts())"
      ],
      "metadata": {
        "id": "AIZl6-aVIQ6c",
        "outputId": "9ee7680d-bbf0-443e-bce0-f1ecb039511b",
        "colab": {
          "base_uri": "https://localhost:8080/"
        }
      },
      "execution_count": 52,
      "outputs": [
        {
          "output_type": "stream",
          "name": "stdout",
          "text": [
            "drama           5749\n",
            "comedy          3777\n",
            "romance         1936\n",
            "action          1832\n",
            "thriller        1503\n",
            "horror          1395\n",
            "world cinema    1232\n",
            "Name: genre, dtype: int64\n",
            "\n",
            "drama       2087\n",
            "comedy      2087\n",
            "action      2087\n",
            "thriller     717\n",
            "Name: genre, dtype: int64\n"
          ]
        }
      ]
    },
    {
      "cell_type": "markdown",
      "source": [
        "# Random Dataframe"
      ],
      "metadata": {
        "id": "m8WYjCUH6QV2"
      }
    },
    {
      "cell_type": "code",
      "source": [
        "# imports \n",
        "from sklearn.model_selection import train_test_split\n",
        "from sklearn.feature_extraction.text import TfidfVectorizer\n",
        "from sklearn.naive_bayes import MultinomialNB\n",
        "from sklearn.metrics import accuracy_score, f1_score\n",
        "from imblearn.over_sampling import SMOTE\n",
        "from sklearn.metrics import confusion_matrix\n",
        "import seaborn as sns\n",
        "import matplotlib.pyplot as plt"
      ],
      "metadata": {
        "id": "6nmb-tth_eMk"
      },
      "execution_count": 53,
      "outputs": []
    },
    {
      "cell_type": "code",
      "source": [
        "# prepare for feeding into NB model \n",
        "X = []\n",
        "y = []\n",
        "\n",
        "for _, row in df_random.iterrows():\n",
        "  X.append(row['text'])\n",
        "  y.append(row['genre'])\n",
        "\n",
        "\n",
        "X_train, X_test, y_train, y_test = train_test_split(X, y, test_size=0.2, random_state=123)\n",
        "\n",
        "vectorizer = TfidfVectorizer()\n",
        "X_train = vectorizer.fit_transform(X_train)\n",
        "X_test = vectorizer.transform(X_test)"
      ],
      "metadata": {
        "id": "Uz3j2y9QS1Jo"
      },
      "execution_count": 54,
      "outputs": []
    },
    {
      "cell_type": "markdown",
      "source": [
        "## Without SMOTE"
      ],
      "metadata": {
        "id": "6hbPhwXG6dOF"
      }
    },
    {
      "cell_type": "code",
      "source": [
        "mnb = MultinomialNB()\n",
        "\n",
        "mnb.fit(X_train, y_train)\n",
        "\n",
        "y_pred = mnb.predict(X_test)\n",
        "\n",
        "print('Testing accuracy %s' % accuracy_score(y_test, y_pred))\n",
        "print('Testing F1 score: {}'.format(f1_score(y_test, y_pred, average='weighted')))"
      ],
      "metadata": {
        "id": "ENGcH0iJU3Ct",
        "outputId": "968ae915-218f-4718-b103-639ee36b084c",
        "colab": {
          "base_uri": "https://localhost:8080/"
        }
      },
      "execution_count": 55,
      "outputs": [
        {
          "output_type": "stream",
          "name": "stdout",
          "text": [
            "Testing accuracy 0.33658536585365856\n",
            "Testing F1 score: 0.19041990437453013\n"
          ]
        }
      ]
    },
    {
      "cell_type": "markdown",
      "source": [
        "## With SMOTE"
      ],
      "metadata": {
        "id": "0Npvhh477bnx"
      }
    },
    {
      "cell_type": "code",
      "source": [
        "os = SMOTE(random_state = 0)\n",
        "os_smote_X,os_smote_Y = os.fit_resample(X_train, y_train)\n",
        "\n",
        "print(X_train.shape)\n",
        "print(os_smote_X.shape)"
      ],
      "metadata": {
        "id": "ma5eT4tq7dqr",
        "outputId": "673b38f8-47fa-498c-df2e-65412ae0ed70",
        "colab": {
          "base_uri": "https://localhost:8080/"
        }
      },
      "execution_count": 56,
      "outputs": [
        {
          "output_type": "stream",
          "name": "stdout",
          "text": [
            "(13939, 81427)\n",
            "(32452, 81427)\n"
          ]
        }
      ]
    },
    {
      "cell_type": "code",
      "source": [
        "mnb = MultinomialNB()\n",
        "\n",
        "mnb.fit(os_smote_X, os_smote_Y)\n",
        "\n",
        "y_pred = mnb.predict(X_test)\n",
        "\n",
        "print('Testing accuracy %s' % accuracy_score(y_test, y_pred))\n",
        "print('Testing F1 score: {}'.format(f1_score(y_test, y_pred, average='weighted')))"
      ],
      "metadata": {
        "id": "NoOXJVFg7m5b",
        "outputId": "7c0c9b3e-f983-4623-f20a-e2c27466f272",
        "colab": {
          "base_uri": "https://localhost:8080/"
        }
      },
      "execution_count": 61,
      "outputs": [
        {
          "output_type": "stream",
          "name": "stdout",
          "text": [
            "Testing accuracy 0.3853658536585366\n",
            "Testing F1 score: 0.3854674444123746\n"
          ]
        }
      ]
    },
    {
      "cell_type": "code",
      "source": [
        "conf = confusion_matrix(y_test, y_pred)\n",
        "classes = mnb.classes_\n",
        "\n",
        "f, ax = plt.subplots(figsize=((8,12)))\n",
        "\n",
        "hmap = sns.heatmap(conf, annot=True, linewidth=.5,fmt='d',ax=ax, square=True, cmap='YlGnBu', vmax=250)\n",
        "hmap.set_xticklabels(hmap.get_xticklabels(), rotation=45, horizontalalignment='right')\n",
        "ax.set_xticklabels(classes)\n",
        "ax.set_yticklabels(classes)\n",
        "\n",
        "ax.set_xlabel(\"Predicted Class\")\n",
        "ax.set_ylabel(\"True Class\")\n",
        "ax.set_title(\"Confusion Matrix\")"
      ],
      "metadata": {
        "colab": {
          "base_uri": "https://localhost:8080/",
          "height": 704
        },
        "id": "4_7Hx3Dc4K77",
        "outputId": "ac48b55d-2bfb-4151-de9d-19176c2d278e"
      },
      "execution_count": 62,
      "outputs": [
        {
          "output_type": "execute_result",
          "data": {
            "text/plain": [
              "Text(0.5, 1.0, 'Confusion Matrix')"
            ]
          },
          "metadata": {},
          "execution_count": 62
        },
        {
          "output_type": "display_data",
          "data": {
            "text/plain": [
              "<Figure size 576x864 with 2 Axes>"
            ],
            "image/png": "[encoded data removed]"
          },
          "metadata": {
            "needs_background": "light"
          }
        }
      ]
    },
    {
      "cell_type": "markdown",
      "source": [
        "# Subset Dataframe"
      ],
      "metadata": {
        "id": "1j4fCqbI_JS8"
      }
    },
    {
      "cell_type": "code",
      "source": [
        "# prepare for feeding into NB model \n",
        "X = []\n",
        "y = []\n",
        "\n",
        "for _, row in df_subset.iterrows():\n",
        "  X.append(row['text'])\n",
        "  y.append(row['genre'])\n",
        "\n",
        "\n",
        "X_train, X_test, y_train, y_test = train_test_split(X, y, test_size=0.2, random_state=123)\n",
        "vectorizer = TfidfVectorizer()\n",
        "X_train = vectorizer.fit_transform(X_train)\n",
        "X_test = vectorizer.transform(X_test)"
      ],
      "metadata": {
        "id": "bihaTGF0_Ln6"
      },
      "execution_count": 63,
      "outputs": []
    },
    {
      "cell_type": "markdown",
      "source": [
        "## Without SMOTE"
      ],
      "metadata": {
        "id": "9bKKafN5AoA8"
      }
    },
    {
      "cell_type": "code",
      "source": [
        "mnb = MultinomialNB()\n",
        "\n",
        "mnb.fit(X_train, y_train)\n",
        "\n",
        "y_pred = mnb.predict(X_test)\n",
        "\n",
        "print('Testing accuracy %s' % accuracy_score(y_test, y_pred))\n",
        "print('Testing F1 score: {}'.format(f1_score(y_test, y_pred, average='weighted')))"
      ],
      "metadata": {
        "id": "2HWIeaqbAp67",
        "outputId": "e8deef66-32a0-461f-ebf8-e4342ac4270a",
        "colab": {
          "base_uri": "https://localhost:8080/"
        }
      },
      "execution_count": 64,
      "outputs": [
        {
          "output_type": "stream",
          "name": "stdout",
          "text": [
            "Testing accuracy 0.6174785100286533\n",
            "Testing F1 score: 0.5783125754126653\n"
          ]
        }
      ]
    },
    {
      "cell_type": "markdown",
      "source": [
        "## With SMOTE"
      ],
      "metadata": {
        "id": "D3R5nTyeAu_-"
      }
    },
    {
      "cell_type": "code",
      "source": [
        "os = SMOTE(random_state = 0)\n",
        "os_smote_X,os_smote_Y = os.fit_resample(X_train, y_train)\n",
        "\n",
        "mnb = MultinomialNB()\n",
        "\n",
        "mnb.fit(os_smote_X, os_smote_Y)\n",
        "\n",
        "y_pred = mnb.predict(X_test)\n",
        "\n",
        "print('Testing accuracy %s' % accuracy_score(y_test, y_pred))\n",
        "print('Testing F1 score: {}'.format(f1_score(y_test, y_pred, average='weighted')))"
      ],
      "metadata": {
        "id": "W9XYtR08Awb-",
        "outputId": "d749b6e1-99d9-4feb-a956-171add5ee2ba",
        "colab": {
          "base_uri": "https://localhost:8080/"
        }
      },
      "execution_count": 65,
      "outputs": [
        {
          "output_type": "stream",
          "name": "stdout",
          "text": [
            "Testing accuracy 0.576647564469914\n",
            "Testing F1 score: 0.5898034714580098\n"
          ]
        }
      ]
    },
    {
      "cell_type": "code",
      "source": [
        "conf = confusion_matrix(y_test, y_pred)\n",
        "classes = mnb.classes_\n",
        "\n",
        "f, ax = plt.subplots(figsize=((8,12)))\n",
        "\n",
        "hmap = sns.heatmap(conf, annot=True, linewidth=.5,fmt='d',ax=ax, square=True, cmap='YlGnBu', vmax=250)\n",
        "hmap.set_xticklabels(hmap.get_xticklabels(), rotation=45, horizontalalignment='right')\n",
        "ax.set_xticklabels(classes)\n",
        "ax.set_yticklabels(classes)\n",
        "\n",
        "ax.set_xlabel(\"Predicted Class\")\n",
        "ax.set_ylabel(\"True Class\")\n",
        "ax.set_title(\"Confusion Matrix\")"
      ],
      "metadata": {
        "id": "FWx67SezBCjb",
        "outputId": "8441bf41-ba3c-4d3e-8455-bac30ac62a4d",
        "colab": {
          "base_uri": "https://localhost:8080/",
          "height": 704
        }
      },
      "execution_count": 66,
      "outputs": [
        {
          "output_type": "execute_result",
          "data": {
            "text/plain": [
              "Text(0.5, 1.0, 'Confusion Matrix')"
            ]
          },
          "metadata": {},
          "execution_count": 66
        },
        {
          "output_type": "display_data",
          "data": {
            "text/plain": [
              "<Figure size 576x864 with 2 Axes>"
            ],
            "image/png": "[encoded data removed]"
          },
          "metadata": {
            "needs_background": "light"
          }
        }
      ]
    }
  ]
}