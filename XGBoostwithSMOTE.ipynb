{
  "nbformat": 4,
  "nbformat_minor": 0,
  "metadata": {
    "colab": {
      "name": "XGBoostwithSMOTE.ipynb",
      "provenance": [],
      "include_colab_link": true
    },
    "kernelspec": {
      "name": "python3",
      "display_name": "Python 3"
    },
    "language_info": {
      "name": "python"
    },
    "accelerator": "GPU"
  },
  "cells": [
    {
      "cell_type": "markdown",
      "metadata": {
        "id": "view-in-github",
        "colab_type": "text"
      },
      "source": [
        "<a href=\"https://colab.research.google.com/github/CIT-NLP/NLP-final-project/blob/main/XGBoostwithSMOTE.ipynb\" target=\"_parent\"><img src=\"https://colab.research.google.com/assets/colab-badge.svg\" alt=\"Open In Colab\"/></a>"
      ]
    },
    {
      "cell_type": "code",
      "execution_count": null,
      "metadata": {
        "colab": {
          "base_uri": "https://localhost:8080/"
        },
        "id": "dEQ2ynkpdGBI",
        "outputId": "461c18f7-6d5f-4091-a5fe-2ea687d126ad"
      },
      "outputs": [
        {
          "output_type": "stream",
          "name": "stdout",
          "text": [
            "Downloading...\n",
            "From: https://drive.google.com/uc?id=1gRM0y476quq727mTJJpE2B-42g7OhtaK\n",
            "To: /content/data.csv\n",
            "100% 209M/209M [00:00<00:00, 213MB/s]\n"
          ]
        }
      ],
      "source": [
        "!gdown https://drive.google.com/uc?id=1gRM0y476quq727mTJJpE2B-42g7OhtaK"
      ]
    },
    {
      "cell_type": "code",
      "source": [
        "import pandas as pd\n",
        "from ast import literal_eval\n",
        "\n",
        "df = pd.read_csv(\"./data.csv\")\n",
        "\n",
        "# interpret cols as lists instead of strings\n",
        "for col in ['unigrams', 'sentences', 'lem_sent', 'lem_sent_join']: \n",
        "  df[col] = df[col].apply(literal_eval)\n",
        "\n",
        "df"
      ],
      "metadata": {
        "colab": {
          "base_uri": "https://localhost:8080/",
          "height": 641
        },
        "id": "LhanULRNdO3l",
        "outputId": "d377591b-e07f-48a1-ac7f-1f789372c798"
      },
      "execution_count": null,
      "outputs": [
        {
          "output_type": "execute_result",
          "data": {
            "text/plain": [
              "                                                 summary  \\\n",
              "0      A series of murders of rich young women throug...   \n",
              "1      Eva, an upper class housewife, becomes frustra...   \n",
              "2      Adam, a San Francisco-based artist who works a...   \n",
              "3      The film opens with a simpleton from a small v...   \n",
              "4      Professor Kurian Fernandez , a convict escapes...   \n",
              "...                                                  ...   \n",
              "17488  The space armada from Mars, known as the Imper...   \n",
              "17489  Kalai Arasi' is a well-blended story of romanc...   \n",
              "17490  Havoc is wrought on the inhabitants of a small...   \n",
              "17491  After accidentally causing the death of his pa...   \n",
              "17492  Kishan  killed a man in his childhood when the...   \n",
              "\n",
              "                                                unigrams  \\\n",
              "0      [series, murder, rich, young, woman, arizona, ...   \n",
              "1      [eva, upper, class, housewife, frustrated, lea...   \n",
              "2      [adam, san, francisco, base, artist, work, cab...   \n",
              "3      [film, open, simpleton, small, village, tamil,...   \n",
              "4      [professor, kurian, fernandez, convict, escape...   \n",
              "...                                                  ...   \n",
              "17488  [space, armada, mars, know, imperial, atomic, ...   \n",
              "17489  [kalai, arasi, blend, story, romance, science,...   \n",
              "17490  [havoc, work, inhabitant, small, new, england,...   \n",
              "17491  [accidentally, cause, death, partner, hostage,...   \n",
              "17492  [kishan, kill, man, childhood, man, abuse, mot...   \n",
              "\n",
              "                                               sentences  \\\n",
              "0      [A series of murders of rich young women throu...   \n",
              "1      [Eva, an upper class housewife, becomes frustr...   \n",
              "2      [Adam, a San Francisco-based artist who works ...   \n",
              "3      [The film opens with a simpleton from a small ...   \n",
              "4      [Professor Kurian Fernandez , a convict escape...   \n",
              "...                                                  ...   \n",
              "17488  [The space armada from Mars, known as the Impe...   \n",
              "17489  [Kalai Arasi' is a well-blended story of roman...   \n",
              "17490  [Havoc is wrought on the inhabitants of a smal...   \n",
              "17491  [After accidentally causing the death of his p...   \n",
              "17492  [Kishan  killed a man in his childhood when th...   \n",
              "\n",
              "                                                lem_sent  \\\n",
              "0      [[series, murder, rich, young, woman, arizona,...   \n",
              "1      [[eva, upper, class, housewife, frustrated, le...   \n",
              "2      [[adam, san, francisco, base, artist, work, ca...   \n",
              "3      [[film, open, simpleton, small, village, tamil...   \n",
              "4      [[professor, kurian, fernandez, convict, escap...   \n",
              "...                                                  ...   \n",
              "17488  [[space, armada, mars, know, imperial, atomic,...   \n",
              "17489  [[kalai, arasi, blend, story, romance, science...   \n",
              "17490  [[havoc, work, inhabitant, small, new, england...   \n",
              "17491  [[accidentally, cause, death, partner, hostage...   \n",
              "17492  [[kishan, kill, man, childhood, man, abuse, mo...   \n",
              "\n",
              "                                           lem_sent_join     genre  \n",
              "0      [series murder rich young woman arizona bear d...  thriller  \n",
              "1      [eva upper class housewife frustrated leave ar...     drama  \n",
              "2      [adam san francisco base artist work cab drive...     drama  \n",
              "3      [film open simpleton small village tamil nadu ...   romance  \n",
              "4      [professor kurian fernandez convict escape jai...    action  \n",
              "...                                                  ...       ...  \n",
              "17488  [space armada mars know imperial atomic space ...    comedy  \n",
              "17489  [kalai arasi blend story romance science ficti...   romance  \n",
              "17490  [havoc work inhabitant small new england town ...    comedy  \n",
              "17491  [accidentally cause death partner hostage situ...    horror  \n",
              "17492  [kishan kill man childhood man abuse mother, g...     drama  \n",
              "\n",
              "[17493 rows x 6 columns]"
            ],
            "text/html": [
              "\n",
              "  <div id=\"df-18a849af-e011-4f75-9fc5-890aba558a06\">\n",
              "    <div class=\"colab-df-container\">\n",
              "      <div>\n",
              "<style scoped>\n",
              "    .dataframe tbody tr th:only-of-type {\n",
              "        vertical-align: middle;\n",
              "    }\n",
              "\n",
              "    .dataframe tbody tr th {\n",
              "        vertical-align: top;\n",
              "    }\n",
              "\n",
              "    .dataframe thead th {\n",
              "        text-align: right;\n",
              "    }\n",
              "</style>\n",
              "<table border=\"1\" class=\"dataframe\">\n",
              "  <thead>\n",
              "    <tr style=\"text-align: right;\">\n",
              "      <th></th>\n",
              "      <th>summary</th>\n",
              "      <th>unigrams</th>\n",
              "      <th>sentences</th>\n",
              "      <th>lem_sent</th>\n",
              "      <th>lem_sent_join</th>\n",
              "      <th>genre</th>\n",
              "    </tr>\n",
              "  </thead>\n",
              "  <tbody>\n",
              "    <tr>\n",
              "      <th>0</th>\n",
              "      <td>A series of murders of rich young women throug...</td>\n",
              "      <td>[series, murder, rich, young, woman, arizona, ...</td>\n",
              "      <td>[A series of murders of rich young women throu...</td>\n",
              "      <td>[[series, murder, rich, young, woman, arizona,...</td>\n",
              "      <td>[series murder rich young woman arizona bear d...</td>\n",
              "      <td>thriller</td>\n",
              "    </tr>\n",
              "    <tr>\n",
              "      <th>1</th>\n",
              "      <td>Eva, an upper class housewife, becomes frustra...</td>\n",
              "      <td>[eva, upper, class, housewife, frustrated, lea...</td>\n",
              "      <td>[Eva, an upper class housewife, becomes frustr...</td>\n",
              "      <td>[[eva, upper, class, housewife, frustrated, le...</td>\n",
              "      <td>[eva upper class housewife frustrated leave ar...</td>\n",
              "      <td>drama</td>\n",
              "    </tr>\n",
              "    <tr>\n",
              "      <th>2</th>\n",
              "      <td>Adam, a San Francisco-based artist who works a...</td>\n",
              "      <td>[adam, san, francisco, base, artist, work, cab...</td>\n",
              "      <td>[Adam, a San Francisco-based artist who works ...</td>\n",
              "      <td>[[adam, san, francisco, base, artist, work, ca...</td>\n",
              "      <td>[adam san francisco base artist work cab drive...</td>\n",
              "      <td>drama</td>\n",
              "    </tr>\n",
              "    <tr>\n",
              "      <th>3</th>\n",
              "      <td>The film opens with a simpleton from a small v...</td>\n",
              "      <td>[film, open, simpleton, small, village, tamil,...</td>\n",
              "      <td>[The film opens with a simpleton from a small ...</td>\n",
              "      <td>[[film, open, simpleton, small, village, tamil...</td>\n",
              "      <td>[film open simpleton small village tamil nadu ...</td>\n",
              "      <td>romance</td>\n",
              "    </tr>\n",
              "    <tr>\n",
              "      <th>4</th>\n",
              "      <td>Professor Kurian Fernandez , a convict escapes...</td>\n",
              "      <td>[professor, kurian, fernandez, convict, escape...</td>\n",
              "      <td>[Professor Kurian Fernandez , a convict escape...</td>\n",
              "      <td>[[professor, kurian, fernandez, convict, escap...</td>\n",
              "      <td>[professor kurian fernandez convict escape jai...</td>\n",
              "      <td>action</td>\n",
              "    </tr>\n",
              "    <tr>\n",
              "      <th>...</th>\n",
              "      <td>...</td>\n",
              "      <td>...</td>\n",
              "      <td>...</td>\n",
              "      <td>...</td>\n",
              "      <td>...</td>\n",
              "      <td>...</td>\n",
              "    </tr>\n",
              "    <tr>\n",
              "      <th>17488</th>\n",
              "      <td>The space armada from Mars, known as the Imper...</td>\n",
              "      <td>[space, armada, mars, know, imperial, atomic, ...</td>\n",
              "      <td>[The space armada from Mars, known as the Impe...</td>\n",
              "      <td>[[space, armada, mars, know, imperial, atomic,...</td>\n",
              "      <td>[space armada mars know imperial atomic space ...</td>\n",
              "      <td>comedy</td>\n",
              "    </tr>\n",
              "    <tr>\n",
              "      <th>17489</th>\n",
              "      <td>Kalai Arasi' is a well-blended story of romanc...</td>\n",
              "      <td>[kalai, arasi, blend, story, romance, science,...</td>\n",
              "      <td>[Kalai Arasi' is a well-blended story of roman...</td>\n",
              "      <td>[[kalai, arasi, blend, story, romance, science...</td>\n",
              "      <td>[kalai arasi blend story romance science ficti...</td>\n",
              "      <td>romance</td>\n",
              "    </tr>\n",
              "    <tr>\n",
              "      <th>17490</th>\n",
              "      <td>Havoc is wrought on the inhabitants of a small...</td>\n",
              "      <td>[havoc, work, inhabitant, small, new, england,...</td>\n",
              "      <td>[Havoc is wrought on the inhabitants of a smal...</td>\n",
              "      <td>[[havoc, work, inhabitant, small, new, england...</td>\n",
              "      <td>[havoc work inhabitant small new england town ...</td>\n",
              "      <td>comedy</td>\n",
              "    </tr>\n",
              "    <tr>\n",
              "      <th>17491</th>\n",
              "      <td>After accidentally causing the death of his pa...</td>\n",
              "      <td>[accidentally, cause, death, partner, hostage,...</td>\n",
              "      <td>[After accidentally causing the death of his p...</td>\n",
              "      <td>[[accidentally, cause, death, partner, hostage...</td>\n",
              "      <td>[accidentally cause death partner hostage situ...</td>\n",
              "      <td>horror</td>\n",
              "    </tr>\n",
              "    <tr>\n",
              "      <th>17492</th>\n",
              "      <td>Kishan  killed a man in his childhood when the...</td>\n",
              "      <td>[kishan, kill, man, childhood, man, abuse, mot...</td>\n",
              "      <td>[Kishan  killed a man in his childhood when th...</td>\n",
              "      <td>[[kishan, kill, man, childhood, man, abuse, mo...</td>\n",
              "      <td>[kishan kill man childhood man abuse mother, g...</td>\n",
              "      <td>drama</td>\n",
              "    </tr>\n",
              "  </tbody>\n",
              "</table>\n",
              "<p>17493 rows × 6 columns</p>\n",
              "</div>\n",
              "      <button class=\"colab-df-convert\" onclick=\"convertToInteractive('df-18a849af-e011-4f75-9fc5-890aba558a06')\"\n",
              "              title=\"Convert this dataframe to an interactive table.\"\n",
              "              style=\"display:none;\">\n",
              "        \n",
              "  <svg xmlns=\"http://www.w3.org/2000/svg\" height=\"24px\"viewBox=\"0 0 24 24\"\n",
              "       width=\"24px\">\n",
              "    <path d=\"M0 0h24v24H0V0z\" fill=\"none\"/>\n",
              "    <path d=\"M18.56 5.44l.94 2.06.94-2.06 2.06-.94-2.06-.94-.94-2.06-.94 2.06-2.06.94zm-11 1L8.5 8.5l.94-2.06 2.06-.94-2.06-.94L8.5 2.5l-.94 2.06-2.06.94zm10 10l.94 2.06.94-2.06 2.06-.94-2.06-.94-.94-2.06-.94 2.06-2.06.94z\"/><path d=\"M17.41 7.96l-1.37-1.37c-.4-.4-.92-.59-1.43-.59-.52 0-1.04.2-1.43.59L10.3 9.45l-7.72 7.72c-.78.78-.78 2.05 0 2.83L4 21.41c.39.39.9.59 1.41.59.51 0 1.02-.2 1.41-.59l7.78-7.78 2.81-2.81c.8-.78.8-2.07 0-2.86zM5.41 20L4 18.59l7.72-7.72 1.47 1.35L5.41 20z\"/>\n",
              "  </svg>\n",
              "      </button>\n",
              "      \n",
              "  <style>\n",
              "    .colab-df-container {\n",
              "      display:flex;\n",
              "      flex-wrap:wrap;\n",
              "      gap: 12px;\n",
              "    }\n",
              "\n",
              "    .colab-df-convert {\n",
              "      background-color: #E8F0FE;\n",
              "      border: none;\n",
              "      border-radius: 50%;\n",
              "      cursor: pointer;\n",
              "      display: none;\n",
              "      fill: #1967D2;\n",
              "      height: 32px;\n",
              "      padding: 0 0 0 0;\n",
              "      width: 32px;\n",
              "    }\n",
              "\n",
              "    .colab-df-convert:hover {\n",
              "      background-color: #E2EBFA;\n",
              "      box-shadow: 0px 1px 2px rgba(60, 64, 67, 0.3), 0px 1px 3px 1px rgba(60, 64, 67, 0.15);\n",
              "      fill: #174EA6;\n",
              "    }\n",
              "\n",
              "    [theme=dark] .colab-df-convert {\n",
              "      background-color: #3B4455;\n",
              "      fill: #D2E3FC;\n",
              "    }\n",
              "\n",
              "    [theme=dark] .colab-df-convert:hover {\n",
              "      background-color: #434B5C;\n",
              "      box-shadow: 0px 1px 3px 1px rgba(0, 0, 0, 0.15);\n",
              "      filter: drop-shadow(0px 1px 2px rgba(0, 0, 0, 0.3));\n",
              "      fill: #FFFFFF;\n",
              "    }\n",
              "  </style>\n",
              "\n",
              "      <script>\n",
              "        const buttonEl =\n",
              "          document.querySelector('#df-18a849af-e011-4f75-9fc5-890aba558a06 button.colab-df-convert');\n",
              "        buttonEl.style.display =\n",
              "          google.colab.kernel.accessAllowed ? 'block' : 'none';\n",
              "\n",
              "        async function convertToInteractive(key) {\n",
              "          const element = document.querySelector('#df-18a849af-e011-4f75-9fc5-890aba558a06');\n",
              "          const dataTable =\n",
              "            await google.colab.kernel.invokeFunction('convertToInteractive',\n",
              "                                                     [key], {});\n",
              "          if (!dataTable) return;\n",
              "\n",
              "          const docLinkHtml = 'Like what you see? Visit the ' +\n",
              "            '<a target=\"_blank\" href=https://colab.research.google.com/notebooks/data_table.ipynb>data table notebook</a>'\n",
              "            + ' to learn more about interactive tables.';\n",
              "          element.innerHTML = '';\n",
              "          dataTable['output_type'] = 'display_data';\n",
              "          await google.colab.output.renderOutput(dataTable, element);\n",
              "          const docLink = document.createElement('div');\n",
              "          docLink.innerHTML = docLinkHtml;\n",
              "          element.appendChild(docLink);\n",
              "        }\n",
              "      </script>\n",
              "    </div>\n",
              "  </div>\n",
              "  "
            ]
          },
          "metadata": {},
          "execution_count": 2
        }
      ]
    },
    {
      "cell_type": "markdown",
      "source": [
        "## Doc2Vec"
      ],
      "metadata": {
        "id": "e1dJCdMNqEX2"
      }
    },
    {
      "cell_type": "code",
      "source": [
        "from tqdm import tqdm\n",
        "tqdm.pandas(desc=\"progress-bar\")"
      ],
      "metadata": {
        "id": "MQJLRC-IqDYU"
      },
      "execution_count": null,
      "outputs": []
    },
    {
      "cell_type": "code",
      "source": [
        "import seaborn as sns\n",
        "import matplotlib.pyplot as plt\n",
        "\n",
        "cnt_pro = df['genre'].value_counts()\n",
        "plt.figure(figsize=(12,4))\n",
        "sns.barplot(cnt_pro.index, cnt_pro.values, alpha=0.8)\n",
        "plt.ylabel('Number of Occurrences', fontsize=12)\n",
        "plt.xlabel('genres', fontsize=12)\n",
        "plt.xticks(rotation=90)\n",
        "plt.show();"
      ],
      "metadata": {
        "colab": {
          "base_uri": "https://localhost:8080/",
          "height": 395
        },
        "id": "BXHPrG4UqNZt",
        "outputId": "2bc5a92d-1dab-46fb-feec-d0c436118a1f"
      },
      "execution_count": null,
      "outputs": [
        {
          "output_type": "stream",
          "name": "stderr",
          "text": [
            "/usr/local/lib/python3.7/dist-packages/seaborn/_decorators.py:43: FutureWarning: Pass the following variables as keyword args: x, y. From version 0.12, the only valid positional argument will be `data`, and passing other arguments without an explicit keyword will result in an error or misinterpretation.\n",
            "  FutureWarning\n"
          ]
        },
        {
          "output_type": "display_data",
          "data": {
            "text/plain": [
              "<Figure size 864x288 with 1 Axes>"
            ],
            "image/png": "[encoded data removed]"
          },
          "metadata": {
            "needs_background": "light"
          }
        }
      ]
    },
    {
      "cell_type": "code",
      "source": [
        "from sklearn.model_selection import train_test_split\n",
        "import gensim\n",
        "from gensim.models.doc2vec import TaggedDocument\n",
        "\n",
        "train, test = train_test_split(df, test_size=0.2, random_state=42)\n",
        "train_tagged = train.apply(lambda r: TaggedDocument(words=r['unigrams'], tags=r.genre), axis=1)\n",
        "test_tagged = test.apply(lambda r: TaggedDocument(words=r['unigrams'], tags=r.genre), axis=1)\n",
        "\n",
        "train_tagged.values[0].tags"
      ],
      "metadata": {
        "colab": {
          "base_uri": "https://localhost:8080/",
          "height": 35
        },
        "id": "suhwUSw9qRJ2",
        "outputId": "a2e8d0e7-10fd-4bd7-8518-1d56c43a2f72"
      },
      "execution_count": null,
      "outputs": [
        {
          "output_type": "execute_result",
          "data": {
            "text/plain": [
              "'drama'"
            ],
            "application/vnd.google.colaboratory.intrinsic+json": {
              "type": "string"
            }
          },
          "metadata": {},
          "execution_count": 29
        }
      ]
    },
    {
      "cell_type": "code",
      "source": [
        "import multiprocessing\n",
        "cores = multiprocessing.cpu_count()\n",
        "cores"
      ],
      "metadata": {
        "colab": {
          "base_uri": "https://localhost:8080/"
        },
        "id": "gV6KAcJtqdfB",
        "outputId": "f96ba732-8683-4466-8f0e-ef68c7a56cea"
      },
      "execution_count": null,
      "outputs": [
        {
          "output_type": "execute_result",
          "data": {
            "text/plain": [
              "2"
            ]
          },
          "metadata": {},
          "execution_count": 30
        }
      ]
    },
    {
      "cell_type": "code",
      "source": [
        "from gensim.models import Doc2Vec\n",
        "\n",
        "model_dbow = Doc2Vec(dm=0, workers=cores)\n",
        "model_dbow.build_vocab([x for x in tqdm(train_tagged.values)])"
      ],
      "metadata": {
        "colab": {
          "base_uri": "https://localhost:8080/"
        },
        "id": "0SEAAIPXqkrV",
        "outputId": "2e2b59fa-1f1e-45d8-8e41-f65f526d3aae"
      },
      "execution_count": null,
      "outputs": [
        {
          "output_type": "stream",
          "name": "stderr",
          "text": [
            "100%|██████████| 13994/13994 [00:00<00:00, 1465179.49it/s]\n"
          ]
        }
      ]
    },
    {
      "cell_type": "code",
      "source": [
        "from sklearn import utils\n",
        "\n",
        "for epoch in range(5):\n",
        "    model_dbow.train(utils.shuffle([x for x in tqdm(train_tagged.values)]), total_examples=len(train_tagged.values), epochs=1)\n",
        "    model_dbow.alpha -= 0.002\n",
        "    model_dbow.min_alpha = model_dbow.alpha"
      ],
      "metadata": {
        "colab": {
          "base_uri": "https://localhost:8080/"
        },
        "id": "v_X1Wdbiqpuo",
        "outputId": "5cf58544-bc6e-40cd-9113-f47e79de6bba"
      },
      "execution_count": null,
      "outputs": [
        {
          "output_type": "stream",
          "name": "stderr",
          "text": [
            "100%|██████████| 13994/13994 [00:00<00:00, 1980399.83it/s]\n",
            "100%|██████████| 13994/13994 [00:00<00:00, 2748154.80it/s]\n",
            "100%|██████████| 13994/13994 [00:00<00:00, 3013559.08it/s]\n",
            "100%|██████████| 13994/13994 [00:00<00:00, 3236742.59it/s]\n",
            "100%|██████████| 13994/13994 [00:00<00:00, 3212824.47it/s]\n"
          ]
        }
      ]
    },
    {
      "cell_type": "code",
      "source": [
        "def vec_for_learning(model, tagged_docs):\n",
        "    sents = tagged_docs.values\n",
        "    targets, regressors = zip(*[(doc.tags, model.infer_vector(doc.words, steps=20)) for doc in sents])\n",
        "    return targets, regressors"
      ],
      "metadata": {
        "id": "T6jzK-18qvEb"
      },
      "execution_count": null,
      "outputs": []
    },
    {
      "cell_type": "code",
      "source": [
        "y_train, X_train = vec_for_learning(model_dbow, train_tagged)\n",
        "y_test, X_test = vec_for_learning(model_dbow, test_tagged)"
      ],
      "metadata": {
        "id": "ZfmSHJFyrBDP"
      },
      "execution_count": null,
      "outputs": []
    },
    {
      "cell_type": "code",
      "source": [
        "import numpy as np\n",
        "\n",
        "X_train = np.asarray(X_train)\n",
        "X_test = np.asarray(X_test)\n",
        "y_train = np.asarray(y_train)\n",
        "y_test = np.asarray(y_test)"
      ],
      "metadata": {
        "id": "MJslXvagU_Qb"
      },
      "execution_count": null,
      "outputs": []
    },
    {
      "cell_type": "code",
      "source": [
        "from imblearn.over_sampling import SMOTE\n",
        "\n",
        "os = SMOTE(random_state = 0)\n",
        "os_smote_X,os_smote_Y = os.fit_resample(X_train, y_train)\n",
        "\n",
        "\n",
        "print(X_train.shape)\n",
        "\n",
        "print(os_smote_X.shape)"
      ],
      "metadata": {
        "colab": {
          "base_uri": "https://localhost:8080/"
        },
        "id": "SMdkOVNLb9XH",
        "outputId": "38eeacc0-1596-4c1c-b8bb-1d2f23ed7192"
      },
      "execution_count": null,
      "outputs": [
        {
          "output_type": "stream",
          "name": "stdout",
          "text": [
            "(13994, 100)\n",
            "(32655, 100)\n"
          ]
        }
      ]
    },
    {
      "cell_type": "code",
      "source": [
        "import xgboost \n",
        "from xgboost import XGBClassifier\n",
        "\n",
        "xgb = XGBClassifier().fit(os_smote_X, os_smote_Y)\n",
        "y_pred = xgb.predict(X_test)"
      ],
      "metadata": {
        "id": "0ZZ4wzHAUY_g"
      },
      "execution_count": null,
      "outputs": []
    },
    {
      "cell_type": "code",
      "source": [
        "y_pred"
      ],
      "metadata": {
        "id": "xsX7YB2s7FT7",
        "colab": {
          "base_uri": "https://localhost:8080/"
        },
        "outputId": "26e314bf-1b4e-4ed3-ca44-3f4a65e6e535"
      },
      "execution_count": null,
      "outputs": [
        {
          "output_type": "execute_result",
          "data": {
            "text/plain": [
              "array(['drama', 'drama', 'drama', ..., 'drama', 'drama', 'drama'],\n",
              "      dtype='<U12')"
            ]
          },
          "metadata": {},
          "execution_count": 26
        }
      ]
    },
    {
      "cell_type": "code",
      "source": [
        "from sklearn.metrics import accuracy_score, f1_score\n",
        "print('Testing accuracy %s' % accuracy_score(y_test, y_pred))\n",
        "print('Testing F1 score: {}'.format(f1_score(y_test, y_pred, average='weighted')))"
      ],
      "metadata": {
        "colab": {
          "base_uri": "https://localhost:8080/"
        },
        "id": "by3M4MbH6OzO",
        "outputId": "e58e3172-1aa4-4065-9233-f4bfaa0a2096"
      },
      "execution_count": null,
      "outputs": [
        {
          "output_type": "stream",
          "name": "stdout",
          "text": [
            "Testing accuracy 0.3758216633323807\n",
            "Testing F1 score: 0.3799852652904607\n"
          ]
        }
      ]
    },
    {
      "cell_type": "code",
      "source": [
        "y_pred[:1000]"
      ],
      "metadata": {
        "id": "sGFbxpr_rhAb"
      },
      "execution_count": null,
      "outputs": []
    }
  ]
}