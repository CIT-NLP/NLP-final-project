{
  "nbformat": 4,
  "nbformat_minor": 0,
  "metadata": {
    "colab": {
      "name": "XGBoostwithSMOTE.ipynb",
      "provenance": [],
      "include_colab_link": true
    },
    "kernelspec": {
      "name": "python3",
      "display_name": "Python 3"
    },
    "language_info": {
      "name": "python"
    },
    "accelerator": "GPU"
  },
  "cells": [
    {
      "cell_type": "markdown",
      "metadata": {
        "id": "view-in-github",
        "colab_type": "text"
      },
      "source": [
        "<a href=\"https://colab.research.google.com/github/CIT-NLP/NLP-final-project/blob/main/XGBoostwithSMOTE.ipynb\" target=\"_parent\"><img src=\"https://colab.research.google.com/assets/colab-badge.svg\" alt=\"Open In Colab\"/></a>"
      ]
    },
    {
      "cell_type": "code",
      "execution_count": 1,
      "metadata": {
        "colab": {
          "base_uri": "https://localhost:8080/"
        },
        "id": "dEQ2ynkpdGBI",
        "outputId": "b831300f-71bf-4805-f3fd-5b768fbc138b"
      },
      "outputs": [
        {
          "output_type": "stream",
          "name": "stdout",
          "text": [
            "Downloading...\n",
            "From: https://drive.google.com/uc?id=1fcBqqNnfu_EDbYW5IkiF8FYX5WSQDg3j\n",
            "To: /content/random_genre.csv\n",
            "100% 235M/235M [00:02<00:00, 89.4MB/s]\n",
            "Downloading...\n",
            "From: https://drive.google.com/uc?id=1qzdOfeIyjPkDl-RtpVhkaY08h3yizEdn\n",
            "To: /content/subset_genre.csv\n",
            "100% 99.1M/99.1M [00:02<00:00, 38.4MB/s]\n"
          ]
        }
      ],
      "source": [
        "!gdown https://drive.google.com/uc?id=1fcBqqNnfu_EDbYW5IkiF8FYX5WSQDg3j\n",
        "!gdown https://drive.google.com/uc?id=1qzdOfeIyjPkDl-RtpVhkaY08h3yizEdn"
      ]
    },
    {
      "cell_type": "code",
      "source": [
        "import pandas as pd\n",
        "from ast import literal_eval\n",
        "\n",
        "df_random = pd.read_csv(\"./random_genre.csv\")\n",
        "df_subset = pd.read_csv('./subset_genre.csv')\n",
        "\n",
        "# interpret cols as lists instead of strings\n",
        "for col in ['unigrams', 'sentences', 'lem_sent', 'lem_sent_join']: \n",
        "  df_random[col] = df_random[col].apply(literal_eval)\n",
        "  df_subset[col] = df_subset[col].apply(literal_eval)\n"
      ],
      "metadata": {
        "id": "LhanULRNdO3l"
      },
      "execution_count": 2,
      "outputs": []
    },
    {
      "cell_type": "code",
      "source": [
        "# imports\n",
        "from tqdm import tqdm\n",
        "tqdm.pandas(desc=\"progress-bar\")\n",
        "import seaborn as sns\n",
        "import matplotlib.pyplot as plt\n",
        "from sklearn.model_selection import train_test_split\n",
        "import gensim\n",
        "from gensim.models.doc2vec import TaggedDocument\n",
        "import multiprocessing as mp\n",
        "from gensim.models import Doc2Vec\n",
        "from sklearn import utils\n",
        "import numpy as np\n",
        "from imblearn.over_sampling import SMOTE\n",
        "import xgboost \n",
        "from xgboost import XGBClassifier\n",
        "from sklearn.metrics import accuracy_score, f1_score\n",
        "from sklearn.metrics import confusion_matrix\n",
        "import seaborn as sns\n",
        "import matplotlib.pyplot as plt"
      ],
      "metadata": {
        "id": "LzZNoafWCX1r"
      },
      "execution_count": 17,
      "outputs": []
    },
    {
      "cell_type": "markdown",
      "source": [
        "# Random Dataframe"
      ],
      "metadata": {
        "id": "e1dJCdMNqEX2"
      }
    },
    {
      "cell_type": "code",
      "source": [
        "train, test = train_test_split(df_random, test_size=0.2, random_state=42)\n",
        "train_tagged = train.apply(lambda r: TaggedDocument(words=r['unigrams'], tags=r.genre), axis=1)\n",
        "test_tagged = test.apply(lambda r: TaggedDocument(words=r['unigrams'], tags=r.genre), axis=1)"
      ],
      "metadata": {
        "id": "suhwUSw9qRJ2"
      },
      "execution_count": 28,
      "outputs": []
    },
    {
      "cell_type": "code",
      "source": [
        "#train doc2vec model \n",
        "model_dbow = Doc2Vec(dm = 0, workers = mp.cpu_count())\n",
        "model_dbow.build_vocab([x for x in tqdm(train_tagged.values)])\n",
        "\n",
        "for epoch in range(5):\n",
        "    model_dbow.train(utils.shuffle([x for x in tqdm(train_tagged.values)]), total_examples=len(train_tagged.values), epochs=1)\n",
        "    model_dbow.alpha -= 0.002\n",
        "    model_dbow.min_alpha = model_dbow.alpha"
      ],
      "metadata": {
        "colab": {
          "base_uri": "https://localhost:8080/"
        },
        "id": "0SEAAIPXqkrV",
        "outputId": "8ba7877a-31c7-4f17-ad84-59b8d23af341"
      },
      "execution_count": 29,
      "outputs": [
        {
          "output_type": "stream",
          "name": "stderr",
          "text": [
            "100%|██████████| 13939/13939 [00:00<00:00, 1914041.69it/s]\n",
            "100%|██████████| 13939/13939 [00:00<00:00, 2847893.39it/s]\n",
            "100%|██████████| 13939/13939 [00:00<00:00, 3161092.37it/s]\n",
            "100%|██████████| 13939/13939 [00:00<00:00, 3315248.28it/s]\n",
            "100%|██████████| 13939/13939 [00:00<00:00, 2525787.51it/s]\n",
            "100%|██████████| 13939/13939 [00:00<00:00, 2877185.21it/s]\n"
          ]
        }
      ]
    },
    {
      "cell_type": "code",
      "source": [
        "def create_embedding(model, tagged_docs):\n",
        "    sents = tagged_docs.values\n",
        "    targets, regressors = zip(*[(doc.tags, model.infer_vector(doc.words, steps=20)) for doc in sents])\n",
        "    return targets, regressors"
      ],
      "metadata": {
        "id": "T6jzK-18qvEb"
      },
      "execution_count": 30,
      "outputs": []
    },
    {
      "cell_type": "code",
      "source": [
        "y_train, X_train = create_embedding(model_dbow, train_tagged)\n",
        "y_test, X_test = create_embedding(model_dbow, test_tagged)\n",
        "\n",
        "X_train = np.asarray(X_train)\n",
        "X_test = np.asarray(X_test)\n",
        "y_train = np.asarray(y_train)\n",
        "y_test = np.asarray(y_test)"
      ],
      "metadata": {
        "id": "ZfmSHJFyrBDP"
      },
      "execution_count": 31,
      "outputs": []
    },
    {
      "cell_type": "markdown",
      "source": [
        "## Without SMOTE"
      ],
      "metadata": {
        "id": "LLpM3VT6EK5a"
      }
    },
    {
      "cell_type": "code",
      "source": [
        "xgb = XGBClassifier().fit(X_train, y_train)\n",
        "y_pred = xgb.predict(X_test)\n",
        "\n",
        "print('Testing accuracy %s' % accuracy_score(y_test, y_pred))\n",
        "print('Testing F1 score: {}'.format(f1_score(y_test, y_pred, average='weighted')))"
      ],
      "metadata": {
        "id": "cjhxMd1YEMjs",
        "outputId": "6d3dfa27-e0b6-4e12-d9f2-f7f062aca652",
        "colab": {
          "base_uri": "https://localhost:8080/"
        }
      },
      "execution_count": 32,
      "outputs": [
        {
          "output_type": "stream",
          "name": "stdout",
          "text": [
            "Testing accuracy 0.4444763271162123\n",
            "Testing F1 score: 0.3928584972322372\n"
          ]
        }
      ]
    },
    {
      "cell_type": "code",
      "source": [
        "conf = confusion_matrix(y_test, y_pred)\n",
        "classes = xgb.classes_\n",
        "\n",
        "f, ax = plt.subplots(figsize=((8,12)))\n",
        "\n",
        "hmap = sns.heatmap(conf, annot=True, linewidth=.5,fmt='d',ax=ax, square=True, cmap='YlGnBu', vmax=250)\n",
        "hmap.set_xticklabels(hmap.get_xticklabels(), rotation=45, horizontalalignment='right')\n",
        "ax.set_xticklabels(classes)\n",
        "ax.set_yticklabels(classes)\n",
        "\n",
        "ax.set_xlabel(\"Predicted Class\")\n",
        "ax.set_ylabel(\"True Class\")\n",
        "ax.set_title(\"Confusion Matrix\")"
      ],
      "metadata": {
        "id": "Q131BZgcHl62",
        "outputId": "7d515750-4c54-44d5-e232-17d72f692d1b",
        "colab": {
          "base_uri": "https://localhost:8080/",
          "height": 710
        }
      },
      "execution_count": 27,
      "outputs": [
        {
          "output_type": "execute_result",
          "data": {
            "text/plain": [
              "Text(0.5, 1.0, 'Confusion Matrix')"
            ]
          },
          "metadata": {},
          "execution_count": 27
        },
        {
          "output_type": "display_data",
          "data": {
            "text/plain": [
              "<Figure size 576x864 with 2 Axes>"
            ],
            "image/png": "[encoded data removed]"
          },
          "metadata": {
            "needs_background": "light"
          }
        }
      ]
    },
    {
      "cell_type": "markdown",
      "source": [
        "## With SMOTE"
      ],
      "metadata": {
        "id": "N4CeOtXDEd2m"
      }
    },
    {
      "cell_type": "code",
      "source": [
        "os = SMOTE(random_state = 0)\n",
        "os_smote_X,os_smote_Y = os.fit_resample(X_train, y_train)\n",
        "\n",
        "xgb = XGBClassifier().fit(os_smote_X, os_smote_Y)\n",
        "y_pred = xgb.predict(X_test)\n",
        "\n",
        "print('Testing accuracy %s' % accuracy_score(y_test, y_pred))\n",
        "print('Testing F1 score: {}'.format(f1_score(y_test, y_pred, average='weighted')))"
      ],
      "metadata": {
        "colab": {
          "base_uri": "https://localhost:8080/"
        },
        "id": "SMdkOVNLb9XH",
        "outputId": "c08a71e6-5fe5-4fc0-d5d3-664b9fcb548d"
      },
      "execution_count": 12,
      "outputs": [
        {
          "output_type": "stream",
          "name": "stdout",
          "text": [
            "Testing accuracy 0.3793400286944046\n",
            "Testing F1 score: 0.38259425938945385\n"
          ]
        }
      ]
    },
    {
      "cell_type": "markdown",
      "source": [
        "# Subset Dataframe"
      ],
      "metadata": {
        "id": "8m1GnWINEsXz"
      }
    },
    {
      "cell_type": "code",
      "source": [
        "train, test = train_test_split(df_subset, test_size=0.2, random_state=42)\n",
        "train_tagged = train.apply(lambda r: TaggedDocument(words=r['unigrams'], tags=r.genre), axis=1)\n",
        "test_tagged = test.apply(lambda r: TaggedDocument(words=r['unigrams'], tags=r.genre), axis=1)"
      ],
      "metadata": {
        "id": "QiWg2vC_Et72"
      },
      "execution_count": 13,
      "outputs": []
    },
    {
      "cell_type": "code",
      "source": [
        "#train doc2vec model and create embeddings\n",
        "model_dbow = Doc2Vec(dm = 0, workers = mp.cpu_count())\n",
        "model_dbow.build_vocab([x for x in tqdm(train_tagged.values)])\n",
        "\n",
        "for epoch in range(5):\n",
        "    model_dbow.train(utils.shuffle([x for x in tqdm(train_tagged.values)]), total_examples=len(train_tagged.values), epochs=1)\n",
        "    model_dbow.alpha -= 0.002\n",
        "    model_dbow.min_alpha = model_dbow.alpha\n",
        "\n",
        "y_train, X_train = create_embedding(model_dbow, train_tagged)\n",
        "y_test, X_test = create_embedding(model_dbow, test_tagged)\n",
        "\n",
        "X_train = np.asarray(X_train)\n",
        "X_test = np.asarray(X_test)\n",
        "y_train = np.asarray(y_train)\n",
        "y_test = np.asarray(y_test)"
      ],
      "metadata": {
        "id": "tfvnFc9SE4rq",
        "outputId": "50891ff7-e000-4842-eaaf-5433d1d72c7c",
        "colab": {
          "base_uri": "https://localhost:8080/"
        }
      },
      "execution_count": 14,
      "outputs": [
        {
          "output_type": "stream",
          "name": "stderr",
          "text": [
            "100%|██████████| 5582/5582 [00:00<00:00, 1668277.39it/s]\n",
            "100%|██████████| 5582/5582 [00:00<00:00, 2579617.11it/s]\n",
            "100%|██████████| 5582/5582 [00:00<00:00, 3083445.93it/s]\n",
            "100%|██████████| 5582/5582 [00:00<00:00, 3038230.59it/s]\n",
            "100%|██████████| 5582/5582 [00:00<00:00, 2943500.75it/s]\n",
            "100%|██████████| 5582/5582 [00:00<00:00, 3014757.27it/s]\n"
          ]
        }
      ]
    },
    {
      "cell_type": "markdown",
      "source": [
        "## Without SMOTE"
      ],
      "metadata": {
        "id": "57OMWgWdFMZG"
      }
    },
    {
      "cell_type": "code",
      "source": [
        "xgb = XGBClassifier().fit(X_train, y_train)\n",
        "y_pred = xgb.predict(X_test)\n",
        "\n",
        "print('Testing accuracy %s' % accuracy_score(y_test, y_pred))\n",
        "print('Testing F1 score: {}'.format(f1_score(y_test, y_pred, average='weighted')))"
      ],
      "metadata": {
        "id": "BUu2X4wEFOCW",
        "outputId": "f42f8fd3-13fa-4257-bc44-c8aaefe3b23f",
        "colab": {
          "base_uri": "https://localhost:8080/"
        }
      },
      "execution_count": 15,
      "outputs": [
        {
          "output_type": "stream",
          "name": "stdout",
          "text": [
            "Testing accuracy 0.6060171919770774\n",
            "Testing F1 score: 0.5937116326355694\n"
          ]
        }
      ]
    },
    {
      "cell_type": "markdown",
      "source": [
        "## With SMOTE"
      ],
      "metadata": {
        "id": "U_4A8RBsFRZ5"
      }
    },
    {
      "cell_type": "code",
      "source": [
        "os = SMOTE(random_state = 0)\n",
        "os_smote_X,os_smote_Y = os.fit_resample(X_train, y_train)\n",
        "\n",
        "xgb = XGBClassifier().fit(os_smote_X, os_smote_Y)\n",
        "y_pred = xgb.predict(X_test)\n",
        "\n",
        "print('Testing accuracy %s' % accuracy_score(y_test, y_pred))\n",
        "print('Testing F1 score: {}'.format(f1_score(y_test, y_pred, average='weighted')))"
      ],
      "metadata": {
        "id": "NpG_ed88FTRS",
        "outputId": "6107235f-064c-435c-f990-6fe7eb3d19ad",
        "colab": {
          "base_uri": "https://localhost:8080/"
        }
      },
      "execution_count": 16,
      "outputs": [
        {
          "output_type": "stream",
          "name": "stdout",
          "text": [
            "Testing accuracy 0.5988538681948424\n",
            "Testing F1 score: 0.6007052323694091\n"
          ]
        }
      ]
    },
    {
      "cell_type": "code",
      "source": [
        "# plotting \n",
        "conf = confusion_matrix(y_test, y_pred)\n",
        "classes = xgb.classes_\n",
        "\n",
        "f, ax = plt.subplots(figsize=((8,12)))\n",
        "\n",
        "hmap = sns.heatmap(conf, annot=True, linewidth=.5,fmt='d',ax=ax, square=True, cmap='YlGnBu', vmax=250)\n",
        "hmap.set_xticklabels(hmap.get_xticklabels(), rotation=45, horizontalalignment='right')\n",
        "ax.set_xticklabels(classes)\n",
        "ax.set_yticklabels(classes)\n",
        "\n",
        "ax.set_xlabel(\"Predicted Class\")\n",
        "ax.set_ylabel(\"True Class\")\n",
        "ax.set_title(\"Confusion Matrix\")"
      ],
      "metadata": {
        "id": "9M6m0FTaGbCj",
        "outputId": "e14a4033-795f-41bf-e7b3-0d7890755c82",
        "colab": {
          "base_uri": "https://localhost:8080/",
          "height": 704
        }
      },
      "execution_count": 21,
      "outputs": [
        {
          "output_type": "execute_result",
          "data": {
            "text/plain": [
              "Text(0.5, 1.0, 'Confusion Matrix')"
            ]
          },
          "metadata": {},
          "execution_count": 21
        },
        {
          "output_type": "display_data",
          "data": {
            "text/plain": [
              "<Figure size 576x864 with 2 Axes>"
            ],
            "image/png": "[encoded data removed]"
          },
          "metadata": {
            "needs_background": "light"
          }
        }
      ]
    }
  ]
}